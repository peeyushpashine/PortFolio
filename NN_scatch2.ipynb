{
 "cells": [
  {
   "cell_type": "markdown",
   "metadata": {},
   "source": [
    "# Feedforward NN without backpropagation for classification / classification using gradient descent in logistic regression."
   ]
  },
  {
   "cell_type": "code",
   "execution_count": 48,
   "metadata": {
    "collapsed": true
   },
   "outputs": [],
   "source": [
    "%matplotlib inline\n",
    "import matplotlib.pyplot as plt\n",
    "import numpy as np"
   ]
  },
  {
   "cell_type": "code",
   "execution_count": 49,
   "metadata": {
    "collapsed": true
   },
   "outputs": [],
   "source": [
    "data = [[3,1.5,1],\n",
    "        [2,1, 0],\n",
    "        [4,1.5,1],\n",
    "        [3,1,0],\n",
    "        [3.5,0.1, 1],\n",
    "        [2,.5,0],\n",
    "        [5.5,1, 1],\n",
    "        [1,1,0]]"
   ]
  },
  {
   "cell_type": "code",
   "execution_count": 50,
   "metadata": {
    "collapsed": true
   },
   "outputs": [],
   "source": [
    "mystery_flower = [4.5,1]\n"
   ]
  },
  {
   "cell_type": "code",
   "execution_count": 51,
   "metadata": {},
   "outputs": [
    {
     "data": {
      "text/plain": [
       "0.607852089002461"
      ]
     },
     "execution_count": 51,
     "metadata": {},
     "output_type": "execute_result"
    }
   ],
   "source": [
    "w1 = np.random.rand()\n",
    "w2 = np.random.rand()\n",
    "b = np.random.rand()\n",
    "w1"
   ]
  },
  {
   "cell_type": "code",
   "execution_count": 52,
   "metadata": {
    "collapsed": true
   },
   "outputs": [],
   "source": [
    "def sigmoid(x):\n",
    "    return 1/(1+np.exp(-x))"
   ]
  },
  {
   "cell_type": "code",
   "execution_count": 53,
   "metadata": {
    "collapsed": true
   },
   "outputs": [],
   "source": [
    "T= np.linspace(-5,5,10)\n",
    "y= sigmoid(T)"
   ]
  },
  {
   "cell_type": "code",
   "execution_count": 54,
   "metadata": {},
   "outputs": [
    {
     "data": {
      "text/plain": [
       "[<matplotlib.lines.Line2D at 0x9d654e0>]"
      ]
     },
     "execution_count": 54,
     "metadata": {},
     "output_type": "execute_result"
    },
    {
     "data": {
      "image/png": "[encoded data removed]",
      "text/plain": [
       "<matplotlib.figure.Figure at 0x8b3a2b0>"
      ]
     },
     "metadata": {},
     "output_type": "display_data"
    }
   ],
   "source": [
    "plt.plot(T, y)"
   ]
  },
  {
   "cell_type": "code",
   "execution_count": 55,
   "metadata": {},
   "outputs": [
    {
     "data": {
      "text/plain": [
       "[<matplotlib.lines.Line2D at 0x8923048>]"
      ]
     },
     "execution_count": 55,
     "metadata": {},
     "output_type": "execute_result"
    },
    {
     "data": {
      "image/png": "[encoded data removed]",
      "text/plain": [
       "<matplotlib.figure.Figure at 0x8784a58>"
      ]
     },
     "metadata": {},
     "output_type": "display_data"
    }
   ],
   "source": [
    "T= np.linspace(-20,20,100)\n",
    "y= sigmoid(T)\n",
    "plt.plot(T,y)\n",
    "#much more smoother now"
   ]
  },
  {
   "cell_type": "code",
   "execution_count": 56,
   "metadata": {
    "collapsed": true
   },
   "outputs": [],
   "source": [
    "def sigmoid_derivative(x):\n",
    "    return sigmoid(x)*(1-sigmoid(x))"
   ]
  },
  {
   "cell_type": "code",
   "execution_count": 57,
   "metadata": {},
   "outputs": [
    {
     "data": {
      "text/plain": [
       "[<matplotlib.lines.Line2D at 0x88a1f28>]"
      ]
     },
     "execution_count": 57,
     "metadata": {},
     "output_type": "execute_result"
    },
    {
     "data": {
      "image/png": "[encoded data removed]",
      "text/plain": [
       "<matplotlib.figure.Figure at 0x88a1fd0>"
      ]
     },
     "metadata": {},
     "output_type": "display_data"
    }
   ],
   "source": [
    "plt.plot(T, sigmoid(T), c='r')\n",
    "plt.plot(T, sigmoid_derivative(T),c='b')"
   ]
  },
  {
   "cell_type": "code",
   "execution_count": 58,
   "metadata": {},
   "outputs": [
    {
     "name": "stdout",
     "output_type": "stream",
     "text": [
      "[3, 1.5, 1]\n",
      "[4, 1.5, 1]\n",
      "[3, 1.5, 1]\n",
      "[1, 1, 0]\n",
      "[5.5, 1, 1]\n",
      "[3, 1.5, 1]\n",
      "[5.5, 1, 1]\n",
      "[1, 1, 0]\n",
      "[1, 1, 0]\n",
      "[3.5, 0.1, 1]\n",
      "[1, 1, 0]\n",
      "[3.5, 0.1, 1]\n",
      "[1, 1, 0]\n",
      "[5.5, 1, 1]\n",
      "[5.5, 1, 1]\n",
      "[2, 1, 0]\n",
      "[3.5, 0.1, 1]\n",
      "[5.5, 1, 1]\n",
      "[4, 1.5, 1]\n",
      "[2, 0.5, 0]\n",
      "[5.5, 1, 1]\n",
      "[2, 0.5, 0]\n",
      "[2, 1, 0]\n",
      "[3, 1, 0]\n",
      "[3, 1.5, 1]\n",
      "[2, 1, 0]\n",
      "[3, 1, 0]\n",
      "[2, 0.5, 0]\n",
      "[3, 1.5, 1]\n",
      "[3.5, 0.1, 1]\n",
      "[3, 1, 0]\n",
      "[3.5, 0.1, 1]\n",
      "[4, 1.5, 1]\n",
      "[3, 1.5, 1]\n",
      "[3.5, 0.1, 1]\n",
      "[2, 0.5, 0]\n",
      "[2, 1, 0]\n",
      "[1, 1, 0]\n",
      "[3, 1, 0]\n",
      "[3.5, 0.1, 1]\n",
      "[2, 1, 0]\n",
      "[5.5, 1, 1]\n",
      "[2, 0.5, 0]\n",
      "[3.5, 0.1, 1]\n",
      "[1, 1, 0]\n",
      "[1, 1, 0]\n",
      "[1, 1, 0]\n",
      "[5.5, 1, 1]\n",
      "[5.5, 1, 1]\n",
      "[1, 1, 0]\n",
      "[2, 0.5, 0]\n",
      "[3, 1.5, 1]\n",
      "[3.5, 0.1, 1]\n",
      "[3.5, 0.1, 1]\n",
      "[4, 1.5, 1]\n",
      "[2, 1, 0]\n",
      "[3, 1.5, 1]\n",
      "[1, 1, 0]\n",
      "[2, 0.5, 0]\n",
      "[5.5, 1, 1]\n",
      "[5.5, 1, 1]\n",
      "[1, 1, 0]\n",
      "[1, 1, 0]\n",
      "[5.5, 1, 1]\n",
      "[4, 1.5, 1]\n",
      "[3, 1, 0]\n",
      "[5.5, 1, 1]\n",
      "[1, 1, 0]\n",
      "[5.5, 1, 1]\n",
      "[2, 0.5, 0]\n",
      "[4, 1.5, 1]\n",
      "[2, 0.5, 0]\n",
      "[3, 1.5, 1]\n",
      "[2, 1, 0]\n",
      "[3, 1.5, 1]\n",
      "[3.5, 0.1, 1]\n",
      "[2, 0.5, 0]\n",
      "[4, 1.5, 1]\n",
      "[3.5, 0.1, 1]\n",
      "[3.5, 0.1, 1]\n",
      "[3, 1.5, 1]\n",
      "[3, 1.5, 1]\n",
      "[3, 1, 0]\n",
      "[3, 1, 0]\n",
      "[5.5, 1, 1]\n",
      "[4, 1.5, 1]\n",
      "[3, 1, 0]\n",
      "[1, 1, 0]\n",
      "[5.5, 1, 1]\n",
      "[5.5, 1, 1]\n",
      "[5.5, 1, 1]\n",
      "[2, 1, 0]\n",
      "[2, 1, 0]\n",
      "[2, 1, 0]\n",
      "[3, 1, 0]\n",
      "[4, 1.5, 1]\n",
      "[1, 1, 0]\n",
      "[4, 1.5, 1]\n",
      "[5.5, 1, 1]\n",
      "[3, 1.5, 1]\n"
     ]
    }
   ],
   "source": [
    "# traing loop\n",
    "\n",
    "for i in range(100):\n",
    "    RandomIndex = np.random.randint(len(data))\n",
    "    point = data[RandomIndex]\n",
    "    print(point)"
   ]
  },
  {
   "cell_type": "code",
   "execution_count": 59,
   "metadata": {},
   "outputs": [
    {
     "data": {
      "image/png": "[encoded data removed]",
      "text/plain": [
       "<matplotlib.figure.Figure at 0x8923be0>"
      ]
     },
     "metadata": {},
     "output_type": "display_data"
    }
   ],
   "source": [
    "# scatter data\n",
    "\n",
    "for i  in  range(len(data)):\n",
    "    point = data[i]\n",
    "    color = 'r'\n",
    "    if point[2]==0:\n",
    "        color= 'b'\n",
    "    plt.scatter(point[0], point[1],c=color)"
   ]
  },
  {
   "cell_type": "code",
   "execution_count": 70,
   "metadata": {},
   "outputs": [
    {
     "name": "stdout",
     "output_type": "stream",
     "text": [
      "minimum cost 0.0\n"
     ]
    },
    {
     "data": {
      "image/png": "[encoded data removed]",
      "text/plain": [
       "<matplotlib.figure.Figure at 0x173fbdd8>"
      ]
     },
     "metadata": {},
     "output_type": "display_data"
    }
   ],
   "source": [
    "# train the data\n",
    "# traing loop\n",
    "learning_rate=0.5\n",
    "costs=[]\n",
    "for i in range(500000):\n",
    "    RandomIndex = np.random.randint(len(data))\n",
    "    point = data[RandomIndex]\n",
    "    z= w1*point[0]+w2*point[1]+b\n",
    "    pred=sigmoid(z)\n",
    "    \n",
    "    target = point[2]\n",
    "    cost = np.square(pred-target)\n",
    "    costs.append(cost)\n",
    "    slope_cost = 2*(pred-target)\n",
    "    derivative_pred = sigmoid_derivative(z)\n",
    "    \n",
    "    derivative_pred_w1 = slope_cost*derivative_pred*point[0]\n",
    "    derivative_pred_w2 = slope_cost*derivative_pred*point[1]\n",
    "    derivative_pred_b = slope_cost*derivative_pred\n",
    "    \n",
    "    w1=w1-learning_rate*derivative_pred_w1\n",
    "    w2=w2-learning_rate*derivative_pred_w2\n",
    "    b=b-learning_rate*derivative_pred_b\n",
    "#     print(cost)\n",
    "    \n",
    "plt.plot(costs)\n",
    "print('minimum cost', np.min(costs))"
   ]
  },
  {
   "cell_type": "code",
   "execution_count": 73,
   "metadata": {},
   "outputs": [
    {
     "data": {
      "text/plain": [
       "1.0"
      ]
     },
     "execution_count": 73,
     "metadata": {},
     "output_type": "execute_result"
    }
   ],
   "source": [
    "y = sigmoid(w1*mystery_flower[0]+w2*mystery_flower[1]+b)\n",
    "y"
   ]
  },
  {
   "cell_type": "code",
   "execution_count": 74,
   "metadata": {},
   "outputs": [
    {
     "data": {
      "image/png": "[encoded data removed]",
      "text/plain": [
       "<matplotlib.figure.Figure at 0x20d15be0>"
      ]
     },
     "metadata": {},
     "output_type": "display_data"
    }
   ],
   "source": [
    "for i  in  range(len(data)):\n",
    "    point = data[i]\n",
    "    color = {1:'r',0:'b'}\n",
    "    plt.scatter(point[0], point[1],c=color[point[2]])\n",
    "    plt.plot(y,c=color[y], marker = 'x')"
   ]
  },
  {
   "cell_type": "code",
   "execution_count": null,
   "metadata": {
    "collapsed": true
   },
   "outputs": [],
   "source": []
  }
 ],
 "metadata": {
  "kernelspec": {
   "display_name": "Python 3",
   "language": "python",
   "name": "python3"
  },
  "language_info": {
   "codemirror_mode": {
    "name": "ipython",
    "version": 3
   },
   "file_extension": ".py",
   "mimetype": "text/x-python",
   "name": "python",
   "nbconvert_exporter": "python",
   "pygments_lexer": "ipython3",
   "version": "3.6.1"
  }
 },
 "nbformat": 4,
 "nbformat_minor": 2
}
