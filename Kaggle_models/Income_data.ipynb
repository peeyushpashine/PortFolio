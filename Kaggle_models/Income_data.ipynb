{
 "cells": [
  {
   "cell_type": "markdown",
   "metadata": {},
   "source": [
    "<div class=\"alert alert-block alert-success\">\n",
    "<font size = 30>Classification based on Income data </font>\n",
    "\n",
    "<div class=\"alert alert-block alert-info\">\n",
    "\n",
    "### <font color=blue>**CONTENTS**: </font>\n",
    "<font color=black>\n",
    "<br>- Reading the data\n",
    "<br>- Data-Preprocessing\n",
    "<br>- Model-Building\n",
    "<br>- Conclusion<br> </font>\n"
   ]
  },
  {
   "cell_type": "code",
   "execution_count": 49,
   "metadata": {},
   "outputs": [
    {
     "data": {
      "text/html": [
       "<style>.container { width:100% !important; }</style>"
      ],
      "text/plain": [
       "<IPython.core.display.HTML object>"
      ]
     },
     "metadata": {},
     "output_type": "display_data"
    }
   ],
   "source": [
    "from IPython.core.display import display, HTML\n",
    "display(HTML(\"<style>.container { width:100% !important; }</style>\"))\n",
    "%config Completer.use_jedi = False\n",
    "%config NotebookApp.iopub_data_rate_limit = 7000000000.0 "
   ]
  },
  {
   "cell_type": "code",
   "execution_count": 2,
   "metadata": {
    "colab": {
     "base_uri": "https://localhost:8080/",
     "height": 34
    },
    "colab_type": "code",
    "executionInfo": {
     "elapsed": 935,
     "status": "ok",
     "timestamp": 1542704197966,
     "user": {
      "displayName": "Peeyush Pashine",
      "photoUrl": "https://lh5.googleusercontent.com/-sNgCGZttImM/AAAAAAAAAAI/AAAAAAAAJqs/--tJGyr1HoA/s64/photo.jpg",
      "userId": "04609544948525849579"
     },
     "user_tz": -330
    },
    "id": "y-TJ5wh_VYg-",
    "outputId": "f5bf6e64-abe4-4bc0-9145-5bda9fe3fc6f"
   },
   "outputs": [
    {
     "data": {
      "text/plain": [
       "0"
      ]
     },
     "execution_count": 2,
     "metadata": {},
     "output_type": "execute_result"
    }
   ],
   "source": [
    "import numpy as np\n",
    "import pandas as pd"
   ]
  },
  {
   "cell_type": "markdown",
   "metadata": {
    "colab_type": "text",
    "id": "hmdbLVkJVYhJ"
   },
   "source": [
    "<div class=\"alert alert-block alert-success\">\n",
    "  \n",
    "## Read the data "
   ]
  },
  {
   "cell_type": "code",
   "execution_count": 3,
   "metadata": {
    "colab": {},
    "colab_type": "code",
    "id": "fPfWJa0JVYhK"
   },
   "outputs": [],
   "source": [
    "income_data = pd.read_csv(\"train_data.csv\")"
   ]
  },
  {
   "cell_type": "code",
   "execution_count": 4,
   "metadata": {
    "colab": {
     "base_uri": "https://localhost:8080/",
     "height": 282
    },
    "colab_type": "code",
    "executionInfo": {
     "elapsed": 870,
     "status": "ok",
     "timestamp": 1542705334393,
     "user": {
      "displayName": "Peeyush Pashine",
      "photoUrl": "https://lh5.googleusercontent.com/-sNgCGZttImM/AAAAAAAAAAI/AAAAAAAAJqs/--tJGyr1HoA/s64/photo.jpg",
      "userId": "04609544948525849579"
     },
     "user_tz": -330
    },
    "id": "JOVUugsMVYh8",
    "outputId": "704f3120-526f-4ce5-989d-c8f73621635e"
   },
   "outputs": [
    {
     "data": {
      "text/html": [
       "<div>\n",
       "<style scoped>\n",
       "    .dataframe tbody tr th:only-of-type {\n",
       "        vertical-align: middle;\n",
       "    }\n",
       "\n",
       "    .dataframe tbody tr th {\n",
       "        vertical-align: top;\n",
       "    }\n",
       "\n",
       "    .dataframe thead th {\n",
       "        text-align: right;\n",
       "    }\n",
       "</style>\n",
       "<table border=\"1\" class=\"dataframe\">\n",
       "  <thead>\n",
       "    <tr style=\"text-align: right;\">\n",
       "      <th></th>\n",
       "      <th>index</th>\n",
       "      <th>age</th>\n",
       "      <th>working_sector</th>\n",
       "      <th>financial_weight</th>\n",
       "      <th>qualification</th>\n",
       "      <th>years_of_education</th>\n",
       "      <th>tax_paid</th>\n",
       "      <th>loan_taken</th>\n",
       "      <th>marital_status</th>\n",
       "      <th>occupation</th>\n",
       "      <th>relationship</th>\n",
       "      <th>ethnicity</th>\n",
       "      <th>gender</th>\n",
       "      <th>gain</th>\n",
       "      <th>loss</th>\n",
       "      <th>working_hours</th>\n",
       "      <th>country</th>\n",
       "      <th>target</th>\n",
       "    </tr>\n",
       "  </thead>\n",
       "  <tbody>\n",
       "    <tr>\n",
       "      <th>0</th>\n",
       "      <td>1</td>\n",
       "      <td>39.0</td>\n",
       "      <td>state</td>\n",
       "      <td>77516.0</td>\n",
       "      <td>Bachelors</td>\n",
       "      <td>13</td>\n",
       "      <td>NaN</td>\n",
       "      <td>0</td>\n",
       "      <td>Never-married</td>\n",
       "      <td>clerical</td>\n",
       "      <td>Not-in-family</td>\n",
       "      <td>White</td>\n",
       "      <td>Male</td>\n",
       "      <td>2174.0</td>\n",
       "      <td>0.0</td>\n",
       "      <td>40.0</td>\n",
       "      <td>United-States</td>\n",
       "      <td>0</td>\n",
       "    </tr>\n",
       "    <tr>\n",
       "      <th>1</th>\n",
       "      <td>2</td>\n",
       "      <td>50.0</td>\n",
       "      <td>self_employed</td>\n",
       "      <td>83311.0</td>\n",
       "      <td>Bachelors</td>\n",
       "      <td>13</td>\n",
       "      <td>NaN</td>\n",
       "      <td>0</td>\n",
       "      <td>Married-civilian</td>\n",
       "      <td>managerial</td>\n",
       "      <td>Husband</td>\n",
       "      <td>White</td>\n",
       "      <td>Male</td>\n",
       "      <td>0.0</td>\n",
       "      <td>0.0</td>\n",
       "      <td>13.0</td>\n",
       "      <td>United-States</td>\n",
       "      <td>0</td>\n",
       "    </tr>\n",
       "    <tr>\n",
       "      <th>2</th>\n",
       "      <td>3</td>\n",
       "      <td>38.0</td>\n",
       "      <td>private</td>\n",
       "      <td>215646.0</td>\n",
       "      <td>HS-grad</td>\n",
       "      <td>9</td>\n",
       "      <td>NaN</td>\n",
       "      <td>0</td>\n",
       "      <td>Divorced</td>\n",
       "      <td>cleaner</td>\n",
       "      <td>Not-in-family</td>\n",
       "      <td>White</td>\n",
       "      <td>Male</td>\n",
       "      <td>0.0</td>\n",
       "      <td>0.0</td>\n",
       "      <td>40.0</td>\n",
       "      <td>United-States</td>\n",
       "      <td>0</td>\n",
       "    </tr>\n",
       "    <tr>\n",
       "      <th>3</th>\n",
       "      <td>4</td>\n",
       "      <td>53.0</td>\n",
       "      <td>private</td>\n",
       "      <td>234721.0</td>\n",
       "      <td>11th</td>\n",
       "      <td>7</td>\n",
       "      <td>NaN</td>\n",
       "      <td>0</td>\n",
       "      <td>Married-civilian</td>\n",
       "      <td>cleaner</td>\n",
       "      <td>Husband</td>\n",
       "      <td>Black</td>\n",
       "      <td>Male</td>\n",
       "      <td>0.0</td>\n",
       "      <td>0.0</td>\n",
       "      <td>40.0</td>\n",
       "      <td>United-States</td>\n",
       "      <td>0</td>\n",
       "    </tr>\n",
       "    <tr>\n",
       "      <th>4</th>\n",
       "      <td>5</td>\n",
       "      <td>28.0</td>\n",
       "      <td>private</td>\n",
       "      <td>338409.0</td>\n",
       "      <td>Bachelors</td>\n",
       "      <td>13</td>\n",
       "      <td>NaN</td>\n",
       "      <td>0</td>\n",
       "      <td>Married-civilian</td>\n",
       "      <td>specialty</td>\n",
       "      <td>Wife</td>\n",
       "      <td>Black</td>\n",
       "      <td>Female</td>\n",
       "      <td>0.0</td>\n",
       "      <td>0.0</td>\n",
       "      <td>40.0</td>\n",
       "      <td>Cuba</td>\n",
       "      <td>0</td>\n",
       "    </tr>\n",
       "  </tbody>\n",
       "</table>\n",
       "</div>"
      ],
      "text/plain": [
       "   index   age working_sector  financial_weight qualification  \\\n",
       "0      1  39.0          state           77516.0     Bachelors   \n",
       "1      2  50.0  self_employed           83311.0     Bachelors   \n",
       "2      3  38.0        private          215646.0       HS-grad   \n",
       "3      4  53.0        private          234721.0          11th   \n",
       "4      5  28.0        private          338409.0     Bachelors   \n",
       "\n",
       "   years_of_education  tax_paid  loan_taken    marital_status  occupation  \\\n",
       "0                  13       NaN           0     Never-married    clerical   \n",
       "1                  13       NaN           0  Married-civilian  managerial   \n",
       "2                   9       NaN           0          Divorced     cleaner   \n",
       "3                   7       NaN           0  Married-civilian     cleaner   \n",
       "4                  13       NaN           0  Married-civilian   specialty   \n",
       "\n",
       "     relationship ethnicity   gender    gain  loss  working_hours  \\\n",
       "0   Not-in-family     White     Male  2174.0   0.0           40.0   \n",
       "1         Husband     White     Male     0.0   0.0           13.0   \n",
       "2   Not-in-family     White     Male     0.0   0.0           40.0   \n",
       "3         Husband     Black     Male     0.0   0.0           40.0   \n",
       "4            Wife     Black   Female     0.0   0.0           40.0   \n",
       "\n",
       "          country  target  \n",
       "0   United-States       0  \n",
       "1   United-States       0  \n",
       "2   United-States       0  \n",
       "3   United-States       0  \n",
       "4            Cuba       0  "
      ]
     },
     "execution_count": 4,
     "metadata": {},
     "output_type": "execute_result"
    }
   ],
   "source": [
    "income_data.head()"
   ]
  },
  {
   "cell_type": "markdown",
   "metadata": {
    "colab_type": "text",
    "id": "u_ypdzbFVYiJ"
   },
   "source": [
    "<div class=\"alert alert-block alert-info\">\n",
    "* Dimensions of the data"
   ]
  },
  {
   "cell_type": "code",
   "execution_count": 5,
   "metadata": {
    "colab": {
     "base_uri": "https://localhost:8080/",
     "height": 34
    },
    "colab_type": "code",
    "executionInfo": {
     "elapsed": 666,
     "status": "ok",
     "timestamp": 1542705344036,
     "user": {
      "displayName": "Peeyush Pashine",
      "photoUrl": "https://lh5.googleusercontent.com/-sNgCGZttImM/AAAAAAAAAAI/AAAAAAAAJqs/--tJGyr1HoA/s64/photo.jpg",
      "userId": "04609544948525849579"
     },
     "user_tz": -330
    },
    "id": "70CBAVE-VYiL",
    "outputId": "7d9c2c11-796d-41a1-c44a-bdd1f0ff6571"
   },
   "outputs": [
    {
     "data": {
      "text/plain": [
       "(31587, 18)"
      ]
     },
     "execution_count": 5,
     "metadata": {},
     "output_type": "execute_result"
    }
   ],
   "source": [
    "income_data.shape"
   ]
  },
  {
   "cell_type": "code",
   "execution_count": 6,
   "metadata": {
    "colab": {
     "base_uri": "https://localhost:8080/",
     "height": 284
    },
    "colab_type": "code",
    "executionInfo": {
     "elapsed": 599,
     "status": "ok",
     "timestamp": 1542705345814,
     "user": {
      "displayName": "Peeyush Pashine",
      "photoUrl": "https://lh5.googleusercontent.com/-sNgCGZttImM/AAAAAAAAAAI/AAAAAAAAJqs/--tJGyr1HoA/s64/photo.jpg",
      "userId": "04609544948525849579"
     },
     "user_tz": -330
    },
    "id": "bUKoC7sjVYiW",
    "outputId": "16244783-f74a-4e41-b56b-5b998868271b"
   },
   "outputs": [
    {
     "data": {
      "text/html": [
       "<div>\n",
       "<style scoped>\n",
       "    .dataframe tbody tr th:only-of-type {\n",
       "        vertical-align: middle;\n",
       "    }\n",
       "\n",
       "    .dataframe tbody tr th {\n",
       "        vertical-align: top;\n",
       "    }\n",
       "\n",
       "    .dataframe thead th {\n",
       "        text-align: right;\n",
       "    }\n",
       "</style>\n",
       "<table border=\"1\" class=\"dataframe\">\n",
       "  <thead>\n",
       "    <tr style=\"text-align: right;\">\n",
       "      <th></th>\n",
       "      <th>index</th>\n",
       "      <th>age</th>\n",
       "      <th>financial_weight</th>\n",
       "      <th>years_of_education</th>\n",
       "      <th>tax_paid</th>\n",
       "      <th>loan_taken</th>\n",
       "      <th>gain</th>\n",
       "      <th>loss</th>\n",
       "      <th>working_hours</th>\n",
       "      <th>target</th>\n",
       "    </tr>\n",
       "  </thead>\n",
       "  <tbody>\n",
       "    <tr>\n",
       "      <th>count</th>\n",
       "      <td>31587.000000</td>\n",
       "      <td>31585.000000</td>\n",
       "      <td>3.158500e+04</td>\n",
       "      <td>31587.000000</td>\n",
       "      <td>2381.000000</td>\n",
       "      <td>31587.000000</td>\n",
       "      <td>31585.000000</td>\n",
       "      <td>31585.000000</td>\n",
       "      <td>31585.000000</td>\n",
       "      <td>31587.000000</td>\n",
       "    </tr>\n",
       "    <tr>\n",
       "      <th>mean</th>\n",
       "      <td>15794.000000</td>\n",
       "      <td>38.560266</td>\n",
       "      <td>1.899756e+05</td>\n",
       "      <td>10.079146</td>\n",
       "      <td>6286.380419</td>\n",
       "      <td>0.050242</td>\n",
       "      <td>1090.173405</td>\n",
       "      <td>87.166566</td>\n",
       "      <td>40.439607</td>\n",
       "      <td>0.241207</td>\n",
       "    </tr>\n",
       "    <tr>\n",
       "      <th>std</th>\n",
       "      <td>9118.525813</td>\n",
       "      <td>13.632411</td>\n",
       "      <td>1.057192e+05</td>\n",
       "      <td>2.571846</td>\n",
       "      <td>2033.680490</td>\n",
       "      <td>0.218448</td>\n",
       "      <td>7444.382583</td>\n",
       "      <td>402.863825</td>\n",
       "      <td>12.368394</td>\n",
       "      <td>0.427822</td>\n",
       "    </tr>\n",
       "    <tr>\n",
       "      <th>min</th>\n",
       "      <td>1.000000</td>\n",
       "      <td>17.000000</td>\n",
       "      <td>1.228500e+04</td>\n",
       "      <td>1.000000</td>\n",
       "      <td>2010.469174</td>\n",
       "      <td>0.000000</td>\n",
       "      <td>0.000000</td>\n",
       "      <td>0.000000</td>\n",
       "      <td>1.000000</td>\n",
       "      <td>0.000000</td>\n",
       "    </tr>\n",
       "    <tr>\n",
       "      <th>25%</th>\n",
       "      <td>7897.500000</td>\n",
       "      <td>28.000000</td>\n",
       "      <td>1.178810e+05</td>\n",
       "      <td>9.000000</td>\n",
       "      <td>5004.099923</td>\n",
       "      <td>0.000000</td>\n",
       "      <td>0.000000</td>\n",
       "      <td>0.000000</td>\n",
       "      <td>40.000000</td>\n",
       "      <td>0.000000</td>\n",
       "    </tr>\n",
       "    <tr>\n",
       "      <th>50%</th>\n",
       "      <td>15794.000000</td>\n",
       "      <td>37.000000</td>\n",
       "      <td>1.785640e+05</td>\n",
       "      <td>10.000000</td>\n",
       "      <td>6381.934626</td>\n",
       "      <td>0.000000</td>\n",
       "      <td>0.000000</td>\n",
       "      <td>0.000000</td>\n",
       "      <td>40.000000</td>\n",
       "      <td>0.000000</td>\n",
       "    </tr>\n",
       "    <tr>\n",
       "      <th>75%</th>\n",
       "      <td>23690.500000</td>\n",
       "      <td>48.000000</td>\n",
       "      <td>2.374660e+05</td>\n",
       "      <td>12.000000</td>\n",
       "      <td>7967.520312</td>\n",
       "      <td>0.000000</td>\n",
       "      <td>0.000000</td>\n",
       "      <td>0.000000</td>\n",
       "      <td>45.000000</td>\n",
       "      <td>0.000000</td>\n",
       "    </tr>\n",
       "    <tr>\n",
       "      <th>max</th>\n",
       "      <td>31587.000000</td>\n",
       "      <td>90.000000</td>\n",
       "      <td>1.484705e+06</td>\n",
       "      <td>16.000000</td>\n",
       "      <td>9997.840369</td>\n",
       "      <td>1.000000</td>\n",
       "      <td>99999.000000</td>\n",
       "      <td>4356.000000</td>\n",
       "      <td>99.000000</td>\n",
       "      <td>1.000000</td>\n",
       "    </tr>\n",
       "  </tbody>\n",
       "</table>\n",
       "</div>"
      ],
      "text/plain": [
       "              index           age  financial_weight  years_of_education  \\\n",
       "count  31587.000000  31585.000000      3.158500e+04        31587.000000   \n",
       "mean   15794.000000     38.560266      1.899756e+05           10.079146   \n",
       "std     9118.525813     13.632411      1.057192e+05            2.571846   \n",
       "min        1.000000     17.000000      1.228500e+04            1.000000   \n",
       "25%     7897.500000     28.000000      1.178810e+05            9.000000   \n",
       "50%    15794.000000     37.000000      1.785640e+05           10.000000   \n",
       "75%    23690.500000     48.000000      2.374660e+05           12.000000   \n",
       "max    31587.000000     90.000000      1.484705e+06           16.000000   \n",
       "\n",
       "          tax_paid    loan_taken          gain          loss  working_hours  \\\n",
       "count  2381.000000  31587.000000  31585.000000  31585.000000   31585.000000   \n",
       "mean   6286.380419      0.050242   1090.173405     87.166566      40.439607   \n",
       "std    2033.680490      0.218448   7444.382583    402.863825      12.368394   \n",
       "min    2010.469174      0.000000      0.000000      0.000000       1.000000   \n",
       "25%    5004.099923      0.000000      0.000000      0.000000      40.000000   \n",
       "50%    6381.934626      0.000000      0.000000      0.000000      40.000000   \n",
       "75%    7967.520312      0.000000      0.000000      0.000000      45.000000   \n",
       "max    9997.840369      1.000000  99999.000000   4356.000000      99.000000   \n",
       "\n",
       "             target  \n",
       "count  31587.000000  \n",
       "mean       0.241207  \n",
       "std        0.427822  \n",
       "min        0.000000  \n",
       "25%        0.000000  \n",
       "50%        0.000000  \n",
       "75%        0.000000  \n",
       "max        1.000000  "
      ]
     },
     "execution_count": 6,
     "metadata": {},
     "output_type": "execute_result"
    }
   ],
   "source": [
    "income_data.describe()"
   ]
  },
  {
   "cell_type": "code",
   "execution_count": 7,
   "metadata": {
    "colab": {
     "base_uri": "https://localhost:8080/",
     "height": 336
    },
    "colab_type": "code",
    "executionInfo": {
     "elapsed": 646,
     "status": "ok",
     "timestamp": 1542705347807,
     "user": {
      "displayName": "Peeyush Pashine",
      "photoUrl": "https://lh5.googleusercontent.com/-sNgCGZttImM/AAAAAAAAAAI/AAAAAAAAJqs/--tJGyr1HoA/s64/photo.jpg",
      "userId": "04609544948525849579"
     },
     "user_tz": -330
    },
    "id": "S4fbXc-7VYic",
    "outputId": "cb3367fc-0d7f-4029-e7ff-0a49593f8766"
   },
   "outputs": [
    {
     "data": {
      "text/plain": [
       "index                 31587\n",
       "age                      73\n",
       "working_sector            7\n",
       "financial_weight      21198\n",
       "qualification            16\n",
       "years_of_education       16\n",
       "tax_paid               1968\n",
       "loan_taken                2\n",
       "marital_status            7\n",
       "occupation               14\n",
       "relationship              6\n",
       "ethnicity                 5\n",
       "gender                    2\n",
       "gain                    119\n",
       "loss                     92\n",
       "working_hours            94\n",
       "country                  41\n",
       "target                    2\n",
       "dtype: int64"
      ]
     },
     "execution_count": 7,
     "metadata": {},
     "output_type": "execute_result"
    }
   ],
   "source": [
    "income_data.nunique()"
   ]
  },
  {
   "cell_type": "code",
   "execution_count": 8,
   "metadata": {
    "colab": {
     "base_uri": "https://localhost:8080/",
     "height": 336
    },
    "colab_type": "code",
    "executionInfo": {
     "elapsed": 691,
     "status": "ok",
     "timestamp": 1542705350195,
     "user": {
      "displayName": "Peeyush Pashine",
      "photoUrl": "https://lh5.googleusercontent.com/-sNgCGZttImM/AAAAAAAAAAI/AAAAAAAAJqs/--tJGyr1HoA/s64/photo.jpg",
      "userId": "04609544948525849579"
     },
     "user_tz": -330
    },
    "id": "4X7oQgdnVYij",
    "outputId": "daddc458-67f3-4842-f8de-85ce1018d9dc"
   },
   "outputs": [
    {
     "data": {
      "text/plain": [
       "index                   int64\n",
       "age                   float64\n",
       "working_sector         object\n",
       "financial_weight      float64\n",
       "qualification          object\n",
       "years_of_education      int64\n",
       "tax_paid              float64\n",
       "loan_taken              int64\n",
       "marital_status         object\n",
       "occupation             object\n",
       "relationship           object\n",
       "ethnicity              object\n",
       "gender                 object\n",
       "gain                  float64\n",
       "loss                  float64\n",
       "working_hours         float64\n",
       "country                object\n",
       "target                  int64\n",
       "dtype: object"
      ]
     },
     "execution_count": 8,
     "metadata": {},
     "output_type": "execute_result"
    }
   ],
   "source": [
    "income_data.dtypes"
   ]
  },
  {
   "cell_type": "markdown",
   "metadata": {
    "colab_type": "text",
    "id": "O0k8jy3cVYjU"
   },
   "source": [
    "<div class=\"alert alert-block alert-info\">\n",
    "* Converting the datatype of target and loan_taken into category "
   ]
  },
  {
   "cell_type": "code",
   "execution_count": 10,
   "metadata": {
    "colab": {},
    "colab_type": "code",
    "id": "mItXnUmkVYjc"
   },
   "outputs": [],
   "source": [
    "income_data['target'] = income_data['target'].astype('category')\n",
    "# income_data['occupation'] = income_data['occupation'].astype('category')\n",
    "income_data['loan_taken'] = income_data['loan_taken'].astype('category')"
   ]
  },
  {
   "cell_type": "markdown",
   "metadata": {
    "colab_type": "text",
    "id": "KJ5t3uU0VYjh"
   },
   "source": [
    "<div class=\"alert alert-block alert-info\">\n",
    "* Check for Null values in the entire feature-set"
   ]
  },
  {
   "cell_type": "code",
   "execution_count": 11,
   "metadata": {
    "colab": {
     "base_uri": "https://localhost:8080/",
     "height": 336
    },
    "colab_type": "code",
    "executionInfo": {
     "elapsed": 732,
     "status": "ok",
     "timestamp": 1542705359103,
     "user": {
      "displayName": "Peeyush Pashine",
      "photoUrl": "https://lh5.googleusercontent.com/-sNgCGZttImM/AAAAAAAAAAI/AAAAAAAAJqs/--tJGyr1HoA/s64/photo.jpg",
      "userId": "04609544948525849579"
     },
     "user_tz": -330
    },
    "id": "9WhTyTlUVYji",
    "outputId": "2096db86-90ce-47d3-8b23-d93f271854d0"
   },
   "outputs": [
    {
     "data": {
      "text/plain": [
       "index                     0\n",
       "age                       2\n",
       "working_sector         1775\n",
       "financial_weight          2\n",
       "qualification             2\n",
       "years_of_education        0\n",
       "tax_paid              29206\n",
       "loan_taken                0\n",
       "marital_status            0\n",
       "occupation             1782\n",
       "relationship              2\n",
       "ethnicity                 2\n",
       "gender                    2\n",
       "gain                      2\n",
       "loss                      2\n",
       "working_hours             2\n",
       "country                 568\n",
       "target                    0\n",
       "dtype: int64"
      ]
     },
     "execution_count": 11,
     "metadata": {},
     "output_type": "execute_result"
    }
   ],
   "source": [
    "income_data.isnull().sum()"
   ]
  },
  {
   "cell_type": "markdown",
   "metadata": {},
   "source": [
    "<div class=\"alert alert-block alert-info\">\n",
    "* qualification and years_of_education appear to be same thing, so dropping the qualification coloumn"
   ]
  },
  {
   "cell_type": "code",
   "execution_count": 31,
   "metadata": {
    "colab": {},
    "colab_type": "code",
    "id": "ySI4jtBDVYpM"
   },
   "outputs": [],
   "source": [
    "income_data.drop('qualification',axis=1,inplace=True)"
   ]
  },
  {
   "cell_type": "markdown",
   "metadata": {
    "colab_type": "text",
    "id": "VABbUaejVYju"
   },
   "source": [
    "<div class=\"alert alert-block alert-warning\">\n",
    "#### We see that tax_paid, working_sector, occupation, country have more number of NA's so focussing on these features first"
   ]
  },
  {
   "cell_type": "markdown",
   "metadata": {
    "colab_type": "text",
    "id": "rXbvI35WVYjw"
   },
   "source": [
    "<div class=\"alert alert-block alert-info\">\n",
    "* Calculating percentage of null values in the columns"
   ]
  },
  {
   "cell_type": "code",
   "execution_count": 12,
   "metadata": {
    "colab": {
     "base_uri": "https://localhost:8080/",
     "height": 84
    },
    "colab_type": "code",
    "executionInfo": {
     "elapsed": 4746,
     "status": "ok",
     "timestamp": 1542705367237,
     "user": {
      "displayName": "Peeyush Pashine",
      "photoUrl": "https://lh5.googleusercontent.com/-sNgCGZttImM/AAAAAAAAAAI/AAAAAAAAJqs/--tJGyr1HoA/s64/photo.jpg",
      "userId": "04609544948525849579"
     },
     "user_tz": -330
    },
    "id": "ABE_Lo4MVYjx",
    "outputId": "ab4bd355-1de8-40f9-ac8a-80e7b1f404c5"
   },
   "outputs": [
    {
     "name": "stdout",
     "output_type": "stream",
     "text": [
      "Percentage of null values in  tax_paid : 92.46208883401398\n",
      "Percentage of null values in  occupation : 5.64156140184253\n",
      "Percentage of null values in  working_sector : 5.619400386234844\n",
      "Percentage of null values in  country : 1.79820812359515\n"
     ]
    }
   ],
   "source": [
    "col_list = ['tax_paid','occupation','working_sector','country']\n",
    "percentage = 0.0\n",
    "for i in col_list:\n",
    "    percentage = (income_data[i].isnull().sum() / len(income_data[i]) *100)\n",
    "    print(\"Percentage of null values in \" ,i,\":\" , percentage)\n",
    "    "
   ]
  },
  {
   "cell_type": "markdown",
   "metadata": {
    "colab_type": "text",
    "id": "akWYjInTVYkq"
   },
   "source": [
    "<div class=\"alert alert-block alert-success\">\n",
    "####  Imputing missing values"
   ]
  },
  {
   "cell_type": "code",
   "execution_count": 13,
   "metadata": {
    "colab": {},
    "colab_type": "code",
    "id": "fw0JsBhVVYky",
    "scrolled": true
   },
   "outputs": [],
   "source": [
    "#Imputing all the NA values in tax-paid column as 0\n",
    "income_data.tax_paid.fillna(0, inplace=True)\n",
    "\n",
    "#Imputing all the NA's in country column as 'others'\n",
    "income_data.country.fillna(\"Others\", inplace=True)\n",
    "income_data_copy = income_data\n"
   ]
  },
  {
   "cell_type": "code",
   "execution_count": 14,
   "metadata": {
    "colab": {
     "base_uri": "https://localhost:8080/",
     "height": 336
    },
    "colab_type": "code",
    "executionInfo": {
     "elapsed": 661,
     "status": "ok",
     "timestamp": 1542705375018,
     "user": {
      "displayName": "Peeyush Pashine",
      "photoUrl": "https://lh5.googleusercontent.com/-sNgCGZttImM/AAAAAAAAAAI/AAAAAAAAJqs/--tJGyr1HoA/s64/photo.jpg",
      "userId": "04609544948525849579"
     },
     "user_tz": -330
    },
    "id": "5UK-Qj_dVYk2",
    "outputId": "743da066-20a4-409a-f4ca-844eb174d028"
   },
   "outputs": [
    {
     "data": {
      "text/plain": [
       "index                    0\n",
       "age                      2\n",
       "working_sector        1775\n",
       "financial_weight         2\n",
       "qualification            2\n",
       "years_of_education       0\n",
       "tax_paid                 0\n",
       "loan_taken               0\n",
       "marital_status           0\n",
       "occupation            1782\n",
       "relationship             2\n",
       "ethnicity                2\n",
       "gender                   2\n",
       "gain                     2\n",
       "loss                     2\n",
       "working_hours            2\n",
       "country                  0\n",
       "target                   0\n",
       "dtype: int64"
      ]
     },
     "execution_count": 14,
     "metadata": {},
     "output_type": "execute_result"
    }
   ],
   "source": [
    "income_data.isnull().sum()"
   ]
  },
  {
   "cell_type": "code",
   "execution_count": 15,
   "metadata": {
    "colab": {
     "base_uri": "https://localhost:8080/",
     "height": 50
    },
    "colab_type": "code",
    "executionInfo": {
     "elapsed": 554,
     "status": "ok",
     "timestamp": 1542705377000,
     "user": {
      "displayName": "Peeyush Pashine",
      "photoUrl": "https://lh5.googleusercontent.com/-sNgCGZttImM/AAAAAAAAAAI/AAAAAAAAJqs/--tJGyr1HoA/s64/photo.jpg",
      "userId": "04609544948525849579"
     },
     "user_tz": -330
    },
    "id": "LUFK1cceVYlC",
    "outputId": "7c60d150-c7a2-482d-d062-47e1e7448f92"
   },
   "outputs": [
    {
     "data": {
      "text/plain": [
       "0    specialty\n",
       "dtype: object"
      ]
     },
     "execution_count": 15,
     "metadata": {},
     "output_type": "execute_result"
    }
   ],
   "source": [
    "income_data.occupation.unique()\n",
    "income_data.occupation.mode()"
   ]
  },
  {
   "cell_type": "code",
   "execution_count": 16,
   "metadata": {
    "colab": {},
    "colab_type": "code",
    "id": "feZO3E03VYlH"
   },
   "outputs": [],
   "source": [
    "income_data.occupation.fillna('specialty', inplace=True)"
   ]
  },
  {
   "cell_type": "code",
   "execution_count": 17,
   "metadata": {
    "colab": {},
    "colab_type": "code",
    "id": "kZvg7jVtVYlM"
   },
   "outputs": [],
   "source": [
    "income_data.dropna(subset=['working_sector'], inplace=True)"
   ]
  },
  {
   "cell_type": "code",
   "execution_count": 18,
   "metadata": {
    "colab": {
     "base_uri": "https://localhost:8080/",
     "height": 34
    },
    "colab_type": "code",
    "executionInfo": {
     "elapsed": 666,
     "status": "ok",
     "timestamp": 1542705381127,
     "user": {
      "displayName": "Peeyush Pashine",
      "photoUrl": "https://lh5.googleusercontent.com/-sNgCGZttImM/AAAAAAAAAAI/AAAAAAAAJqs/--tJGyr1HoA/s64/photo.jpg",
      "userId": "04609544948525849579"
     },
     "user_tz": -330
    },
    "id": "g6WDChH2VYl6",
    "outputId": "cc5b521e-5019-4734-eab5-c342d40e08f6"
   },
   "outputs": [
    {
     "data": {
      "text/plain": [
       "0"
      ]
     },
     "execution_count": 18,
     "metadata": {},
     "output_type": "execute_result"
    }
   ],
   "source": [
    "income_data['occupation'].isnull().sum()"
   ]
  },
  {
   "cell_type": "code",
   "execution_count": 21,
   "metadata": {
    "colab": {
     "base_uri": "https://localhost:8080/",
     "height": 34
    },
    "colab_type": "code",
    "executionInfo": {
     "elapsed": 592,
     "status": "ok",
     "timestamp": 1542705384361,
     "user": {
      "displayName": "Peeyush Pashine",
      "photoUrl": "https://lh5.googleusercontent.com/-sNgCGZttImM/AAAAAAAAAAI/AAAAAAAAJqs/--tJGyr1HoA/s64/photo.jpg",
      "userId": "04609544948525849579"
     },
     "user_tz": -330
    },
    "id": "FLGZ4SHYVYmW",
    "outputId": "bb3eac4f-da59-4c2c-8949-be8372eb3431"
   },
   "outputs": [
    {
     "data": {
      "text/plain": [
       "(0, 18)"
      ]
     },
     "execution_count": 21,
     "metadata": {},
     "output_type": "execute_result"
    }
   ],
   "source": [
    "income_data[income_data.isna().any(axis=1)].shape"
   ]
  },
  {
   "cell_type": "code",
   "execution_count": 23,
   "metadata": {
    "colab": {
     "base_uri": "https://localhost:8080/",
     "height": 336
    },
    "colab_type": "code",
    "executionInfo": {
     "elapsed": 694,
     "status": "ok",
     "timestamp": 1542705386554,
     "user": {
      "displayName": "Peeyush Pashine",
      "photoUrl": "https://lh5.googleusercontent.com/-sNgCGZttImM/AAAAAAAAAAI/AAAAAAAAJqs/--tJGyr1HoA/s64/photo.jpg",
      "userId": "04609544948525849579"
     },
     "user_tz": -330
    },
    "id": "nMB6G_GFVYnk",
    "outputId": "e827567c-0f7e-4e00-9b0f-51f919cc3e23"
   },
   "outputs": [
    {
     "data": {
      "text/plain": [
       "index                 0\n",
       "age                   0\n",
       "working_sector        0\n",
       "financial_weight      0\n",
       "qualification         0\n",
       "years_of_education    0\n",
       "tax_paid              0\n",
       "loan_taken            0\n",
       "marital_status        0\n",
       "occupation            0\n",
       "relationship          0\n",
       "ethnicity             0\n",
       "gender                0\n",
       "gain                  0\n",
       "loss                  0\n",
       "working_hours         0\n",
       "country               0\n",
       "target                0\n",
       "dtype: int64"
      ]
     },
     "execution_count": 23,
     "metadata": {},
     "output_type": "execute_result"
    }
   ],
   "source": [
    "income_data.isnull().sum()"
   ]
  },
  {
   "cell_type": "code",
   "execution_count": 46,
   "metadata": {
    "colab": {
     "base_uri": "https://localhost:8080/",
     "height": 2910
    },
    "colab_type": "code",
    "executionInfo": {
     "elapsed": 1127,
     "status": "ok",
     "timestamp": 1542705388228,
     "user": {
      "displayName": "Peeyush Pashine",
      "photoUrl": "https://lh5.googleusercontent.com/-sNgCGZttImM/AAAAAAAAAAI/AAAAAAAAJqs/--tJGyr1HoA/s64/photo.jpg",
      "userId": "04609544948525849579"
     },
     "user_tz": -330
    },
    "id": "wjcJdL6MVYnp",
    "outputId": "5615d69f-fd7f-44a1-f171-87d166b044c8"
   },
   "outputs": [
    {
     "data": {
      "text/plain": [
       "(29812, 17)"
      ]
     },
     "execution_count": 46,
     "metadata": {},
     "output_type": "execute_result"
    }
   ],
   "source": [
    "income_data.shape"
   ]
  },
  {
   "cell_type": "markdown",
   "metadata": {},
   "source": [
    "<div class=\"alert alert-block alert-success\">\n",
    "\n",
    "## Visualization of class distribution"
   ]
  },
  {
   "cell_type": "code",
   "execution_count": 9,
   "metadata": {
    "colab": {
     "base_uri": "https://localhost:8080/",
     "height": 178
    },
    "colab_type": "code",
    "executionInfo": {
     "elapsed": 867,
     "status": "ok",
     "timestamp": 1542705352348,
     "user": {
      "displayName": "Peeyush Pashine",
      "photoUrl": "https://lh5.googleusercontent.com/-sNgCGZttImM/AAAAAAAAAAI/AAAAAAAAJqs/--tJGyr1HoA/s64/photo.jpg",
      "userId": "04609544948525849579"
     },
     "user_tz": -330
    },
    "id": "yuWXt8onVYjW",
    "outputId": "2425b30f-2dc9-432a-d578-e2ce96ba10e7"
   },
   "outputs": [
    {
     "data": {
      "text/plain": [
       "<matplotlib.axes._subplots.AxesSubplot at 0xb86d080>"
      ]
     },
     "execution_count": 9,
     "metadata": {},
     "output_type": "execute_result"
    },
    {
     "data": {
      "image/png": "[encoded data removed]",
      "text/plain": [
       "<matplotlib.figure.Figure at 0xab5c4e0>"
      ]
     },
     "metadata": {},
     "output_type": "display_data"
    }
   ],
   "source": [
    "import seaborn as sns\n",
    "import matplotlib.pyplot as plt\n",
    "%matplotlib inline\n",
    "fig = plt.figure(figsize=(20,1))\n",
    "plt.style.use('seaborn-ticks')\n",
    "sns.countplot(y=\"target\", data=income_data)"
   ]
  },
  {
   "cell_type": "markdown",
   "metadata": {},
   "source": [
    "<div class=\"alert alert-block alert-success\">\n",
    "### Encoding the categorical features into numerical values"
   ]
  },
  {
   "cell_type": "code",
   "execution_count": 25,
   "metadata": {
    "colab": {},
    "colab_type": "code",
    "id": "t9TM2IUlVYn6"
   },
   "outputs": [],
   "source": [
    "from sklearn import preprocessing"
   ]
  },
  {
   "cell_type": "code",
   "execution_count": 26,
   "metadata": {
    "colab": {},
    "colab_type": "code",
    "id": "XDeOfoc6VYoM"
   },
   "outputs": [],
   "source": [
    "encoder = preprocessing.LabelEncoder()"
   ]
  },
  {
   "cell_type": "code",
   "execution_count": 27,
   "metadata": {
    "colab": {
     "base_uri": "https://localhost:8080/",
     "height": 336
    },
    "colab_type": "code",
    "executionInfo": {
     "elapsed": 668,
     "status": "ok",
     "timestamp": 1542705393195,
     "user": {
      "displayName": "Peeyush Pashine",
      "photoUrl": "https://lh5.googleusercontent.com/-sNgCGZttImM/AAAAAAAAAAI/AAAAAAAAJqs/--tJGyr1HoA/s64/photo.jpg",
      "userId": "04609544948525849579"
     },
     "user_tz": -330
    },
    "id": "pu-q5_gUVYo7",
    "outputId": "c7ce7c11-713a-4581-939f-773e61abc020"
   },
   "outputs": [
    {
     "data": {
      "text/plain": [
       "index                    int64\n",
       "age                    float64\n",
       "working_sector          object\n",
       "financial_weight       float64\n",
       "qualification           object\n",
       "years_of_education       int64\n",
       "tax_paid               float64\n",
       "loan_taken            category\n",
       "marital_status          object\n",
       "occupation              object\n",
       "relationship            object\n",
       "ethnicity               object\n",
       "gender                  object\n",
       "gain                   float64\n",
       "loss                   float64\n",
       "working_hours          float64\n",
       "country                 object\n",
       "target                category\n",
       "dtype: object"
      ]
     },
     "execution_count": 27,
     "metadata": {},
     "output_type": "execute_result"
    }
   ],
   "source": [
    "income_data.dtypes"
   ]
  },
  {
   "cell_type": "code",
   "execution_count": 28,
   "metadata": {
    "colab": {},
    "colab_type": "code",
    "id": "0-zBGOf2VYpA"
   },
   "outputs": [],
   "source": [
    "income_data.working_sector = encoder.fit_transform(income_data.working_sector)"
   ]
  },
  {
   "cell_type": "code",
   "execution_count": 29,
   "metadata": {
    "colab": {},
    "colab_type": "code",
    "id": "oXaZs6ntVYpE"
   },
   "outputs": [],
   "source": [
    "income_data.marital_status = encoder.fit_transform(income_data.marital_status)"
   ]
  },
  {
   "cell_type": "code",
   "execution_count": 30,
   "metadata": {
    "colab": {},
    "colab_type": "code",
    "id": "ZVYcJ4dnVYpI"
   },
   "outputs": [],
   "source": [
    "income_data.occupation = encoder.fit_transform(income_data.occupation)\n",
    "income_data.relationship = encoder.fit_transform(income_data.relationship)\n",
    "income_data.ethnicity = encoder.fit_transform(income_data.ethnicity)\n",
    "income_data.gender = encoder.fit_transform(income_data.gender)\n",
    "income_data.country = encoder.fit_transform(income_data.country)"
   ]
  },
  {
   "cell_type": "code",
   "execution_count": 32,
   "metadata": {
    "colab": {
     "base_uri": "https://localhost:8080/",
     "height": 215
    },
    "colab_type": "code",
    "executionInfo": {
     "elapsed": 558,
     "status": "ok",
     "timestamp": 1542705400767,
     "user": {
      "displayName": "Peeyush Pashine",
      "photoUrl": "https://lh5.googleusercontent.com/-sNgCGZttImM/AAAAAAAAAAI/AAAAAAAAJqs/--tJGyr1HoA/s64/photo.jpg",
      "userId": "04609544948525849579"
     },
     "user_tz": -330
    },
    "id": "dTNF0jT9VYpS",
    "outputId": "a04a1818-8689-4c27-d3dd-831872d67063"
   },
   "outputs": [
    {
     "data": {
      "text/html": [
       "<div>\n",
       "<style scoped>\n",
       "    .dataframe tbody tr th:only-of-type {\n",
       "        vertical-align: middle;\n",
       "    }\n",
       "\n",
       "    .dataframe tbody tr th {\n",
       "        vertical-align: top;\n",
       "    }\n",
       "\n",
       "    .dataframe thead th {\n",
       "        text-align: right;\n",
       "    }\n",
       "</style>\n",
       "<table border=\"1\" class=\"dataframe\">\n",
       "  <thead>\n",
       "    <tr style=\"text-align: right;\">\n",
       "      <th></th>\n",
       "      <th>index</th>\n",
       "      <th>age</th>\n",
       "      <th>working_sector</th>\n",
       "      <th>financial_weight</th>\n",
       "      <th>years_of_education</th>\n",
       "      <th>tax_paid</th>\n",
       "      <th>loan_taken</th>\n",
       "      <th>marital_status</th>\n",
       "      <th>occupation</th>\n",
       "      <th>relationship</th>\n",
       "      <th>ethnicity</th>\n",
       "      <th>gender</th>\n",
       "      <th>gain</th>\n",
       "      <th>loss</th>\n",
       "      <th>working_hours</th>\n",
       "      <th>country</th>\n",
       "      <th>target</th>\n",
       "    </tr>\n",
       "  </thead>\n",
       "  <tbody>\n",
       "    <tr>\n",
       "      <th>0</th>\n",
       "      <td>1</td>\n",
       "      <td>39.0</td>\n",
       "      <td>5</td>\n",
       "      <td>77516.0</td>\n",
       "      <td>13</td>\n",
       "      <td>0.0</td>\n",
       "      <td>0</td>\n",
       "      <td>4</td>\n",
       "      <td>1</td>\n",
       "      <td>1</td>\n",
       "      <td>4</td>\n",
       "      <td>1</td>\n",
       "      <td>2174.0</td>\n",
       "      <td>0.0</td>\n",
       "      <td>40.0</td>\n",
       "      <td>38</td>\n",
       "      <td>0</td>\n",
       "    </tr>\n",
       "    <tr>\n",
       "      <th>1</th>\n",
       "      <td>2</td>\n",
       "      <td>50.0</td>\n",
       "      <td>4</td>\n",
       "      <td>83311.0</td>\n",
       "      <td>13</td>\n",
       "      <td>0.0</td>\n",
       "      <td>0</td>\n",
       "      <td>1</td>\n",
       "      <td>7</td>\n",
       "      <td>0</td>\n",
       "      <td>4</td>\n",
       "      <td>1</td>\n",
       "      <td>0.0</td>\n",
       "      <td>0.0</td>\n",
       "      <td>13.0</td>\n",
       "      <td>38</td>\n",
       "      <td>0</td>\n",
       "    </tr>\n",
       "    <tr>\n",
       "      <th>2</th>\n",
       "      <td>3</td>\n",
       "      <td>38.0</td>\n",
       "      <td>3</td>\n",
       "      <td>215646.0</td>\n",
       "      <td>9</td>\n",
       "      <td>0.0</td>\n",
       "      <td>0</td>\n",
       "      <td>0</td>\n",
       "      <td>0</td>\n",
       "      <td>1</td>\n",
       "      <td>4</td>\n",
       "      <td>1</td>\n",
       "      <td>0.0</td>\n",
       "      <td>0.0</td>\n",
       "      <td>40.0</td>\n",
       "      <td>38</td>\n",
       "      <td>0</td>\n",
       "    </tr>\n",
       "    <tr>\n",
       "      <th>3</th>\n",
       "      <td>4</td>\n",
       "      <td>53.0</td>\n",
       "      <td>3</td>\n",
       "      <td>234721.0</td>\n",
       "      <td>7</td>\n",
       "      <td>0.0</td>\n",
       "      <td>0</td>\n",
       "      <td>1</td>\n",
       "      <td>0</td>\n",
       "      <td>0</td>\n",
       "      <td>2</td>\n",
       "      <td>1</td>\n",
       "      <td>0.0</td>\n",
       "      <td>0.0</td>\n",
       "      <td>40.0</td>\n",
       "      <td>38</td>\n",
       "      <td>0</td>\n",
       "    </tr>\n",
       "    <tr>\n",
       "      <th>4</th>\n",
       "      <td>5</td>\n",
       "      <td>28.0</td>\n",
       "      <td>3</td>\n",
       "      <td>338409.0</td>\n",
       "      <td>13</td>\n",
       "      <td>0.0</td>\n",
       "      <td>0</td>\n",
       "      <td>1</td>\n",
       "      <td>11</td>\n",
       "      <td>5</td>\n",
       "      <td>2</td>\n",
       "      <td>0</td>\n",
       "      <td>0.0</td>\n",
       "      <td>0.0</td>\n",
       "      <td>40.0</td>\n",
       "      <td>4</td>\n",
       "      <td>0</td>\n",
       "    </tr>\n",
       "  </tbody>\n",
       "</table>\n",
       "</div>"
      ],
      "text/plain": [
       "   index   age  working_sector  financial_weight  years_of_education  \\\n",
       "0      1  39.0               5           77516.0                  13   \n",
       "1      2  50.0               4           83311.0                  13   \n",
       "2      3  38.0               3          215646.0                   9   \n",
       "3      4  53.0               3          234721.0                   7   \n",
       "4      5  28.0               3          338409.0                  13   \n",
       "\n",
       "   tax_paid loan_taken  marital_status  occupation  relationship  ethnicity  \\\n",
       "0       0.0          0               4           1             1          4   \n",
       "1       0.0          0               1           7             0          4   \n",
       "2       0.0          0               0           0             1          4   \n",
       "3       0.0          0               1           0             0          2   \n",
       "4       0.0          0               1          11             5          2   \n",
       "\n",
       "   gender    gain  loss  working_hours  country target  \n",
       "0       1  2174.0   0.0           40.0       38      0  \n",
       "1       1     0.0   0.0           13.0       38      0  \n",
       "2       1     0.0   0.0           40.0       38      0  \n",
       "3       1     0.0   0.0           40.0       38      0  \n",
       "4       0     0.0   0.0           40.0        4      0  "
      ]
     },
     "execution_count": 32,
     "metadata": {},
     "output_type": "execute_result"
    }
   ],
   "source": [
    "income_data.head()"
   ]
  },
  {
   "cell_type": "markdown",
   "metadata": {},
   "source": [
    "<div class=\"alert alert-block alert-success\">\n",
    "### Splitting the data into train and test"
   ]
  },
  {
   "cell_type": "code",
   "execution_count": 33,
   "metadata": {
    "colab": {},
    "colab_type": "code",
    "id": "RIKopEhqVYpj"
   },
   "outputs": [],
   "source": [
    "from sklearn.model_selection import train_test_split\n",
    "X = income_data.drop('target', axis=1)\n",
    "Y = income_data.target"
   ]
  },
  {
   "cell_type": "code",
   "execution_count": 34,
   "metadata": {
    "colab": {},
    "colab_type": "code",
    "id": "N9-KkDtTVYqM"
   },
   "outputs": [],
   "source": [
    "X_train, X_test, Y_train, Y_test = train_test_split(X,Y, test_size=0.3)"
   ]
  },
  {
   "cell_type": "markdown",
   "metadata": {},
   "source": [
    "<div class=\"alert alert-block alert-info\">\n",
    "* Standardizing the train data and applying the same transformation to both the train and test data"
   ]
  },
  {
   "cell_type": "code",
   "execution_count": 35,
   "metadata": {
    "colab": {},
    "colab_type": "code",
    "id": "XeSDAOaLVYsF"
   },
   "outputs": [],
   "source": [
    "from sklearn.preprocessing import StandardScaler"
   ]
  },
  {
   "cell_type": "code",
   "execution_count": 36,
   "metadata": {
    "colab": {},
    "colab_type": "code",
    "id": "YWjNveOOVYsK"
   },
   "outputs": [],
   "source": [
    "sd = StandardScaler()"
   ]
  },
  {
   "cell_type": "code",
   "execution_count": 37,
   "metadata": {
    "colab": {
     "base_uri": "https://localhost:8080/",
     "height": 34
    },
    "colab_type": "code",
    "executionInfo": {
     "elapsed": 610,
     "status": "ok",
     "timestamp": 1542705403707,
     "user": {
      "displayName": "Peeyush Pashine",
      "photoUrl": "https://lh5.googleusercontent.com/-sNgCGZttImM/AAAAAAAAAAI/AAAAAAAAJqs/--tJGyr1HoA/s64/photo.jpg",
      "userId": "04609544948525849579"
     },
     "user_tz": -330
    },
    "id": "duIM-5T6VYsU",
    "outputId": "1db047dd-6e73-48d3-bc40-3627110c8f5d"
   },
   "outputs": [
    {
     "data": {
      "text/plain": [
       "StandardScaler(copy=True, with_mean=True, with_std=True)"
      ]
     },
     "execution_count": 37,
     "metadata": {},
     "output_type": "execute_result"
    }
   ],
   "source": [
    "sd.fit(X_train)"
   ]
  },
  {
   "cell_type": "code",
   "execution_count": 38,
   "metadata": {
    "colab": {},
    "colab_type": "code",
    "id": "H7oYHI9LVYsi"
   },
   "outputs": [],
   "source": [
    "X_train = sd.transform(X_train)\n",
    "X_test = sd.transform(X_test)"
   ]
  },
  {
   "cell_type": "markdown",
   "metadata": {},
   "source": [
    "<div class=\"alert alert-block alert-success\">\n",
    "## Building Models"
   ]
  },
  {
   "cell_type": "markdown",
   "metadata": {},
   "source": [
    "<div class=\"alert alert-block alert-info\">\n",
    "##### Gaussian Naive bayes"
   ]
  },
  {
   "cell_type": "code",
   "execution_count": 39,
   "metadata": {
    "colab": {},
    "colab_type": "code",
    "id": "-M1B6gUgVYsm"
   },
   "outputs": [],
   "source": [
    "from sklearn.naive_bayes import GaussianNB\n",
    "from sklearn.metrics import accuracy_score, recall_score, classification_report\n",
    "\n",
    "model_gnb = GaussianNB()\n",
    "model_gnb.fit(X_train, Y_train)\n",
    "Y_pred_gnb = model_gnb.predict(X_test)"
   ]
  },
  {
   "cell_type": "code",
   "execution_count": 40,
   "metadata": {
    "colab": {
     "base_uri": "https://localhost:8080/",
     "height": 34
    },
    "colab_type": "code",
    "executionInfo": {
     "elapsed": 967,
     "status": "ok",
     "timestamp": 1542705406308,
     "user": {
      "displayName": "Peeyush Pashine",
      "photoUrl": "https://lh5.googleusercontent.com/-sNgCGZttImM/AAAAAAAAAAI/AAAAAAAAJqs/--tJGyr1HoA/s64/photo.jpg",
      "userId": "04609544948525849579"
     },
     "user_tz": -330
    },
    "id": "sQZfOcdvVYsp",
    "outputId": "fa0a17f9-2e57-434f-fa76-b05ee7f2264f"
   },
   "outputs": [
    {
     "data": {
      "text/plain": [
       "0.8015429338103757"
      ]
     },
     "execution_count": 40,
     "metadata": {},
     "output_type": "execute_result"
    }
   ],
   "source": [
    "accuracy_score(Y_pred_gnb,Y_test)"
   ]
  },
  {
   "cell_type": "markdown",
   "metadata": {
    "colab_type": "text",
    "id": "Fhs3xFVNVYts"
   },
   "source": [
    "<div class=\"alert alert-block alert-info\">\n",
    "##### SVM"
   ]
  },
  {
   "cell_type": "code",
   "execution_count": 41,
   "metadata": {
    "colab": {},
    "colab_type": "code",
    "id": "rvCIOkPmVYtv"
   },
   "outputs": [],
   "source": [
    "from sklearn import svm\n",
    "from sklearn.model_selection import GridSearchCV"
   ]
  },
  {
   "cell_type": "code",
   "execution_count": 42,
   "metadata": {
    "colab": {
     "base_uri": "https://localhost:8080/",
     "height": 34
    },
    "colab_type": "code",
    "executionInfo": {
     "elapsed": 15694,
     "status": "ok",
     "timestamp": 1542715013973,
     "user": {
      "displayName": "Peeyush Pashine",
      "photoUrl": "https://lh5.googleusercontent.com/-sNgCGZttImM/AAAAAAAAAAI/AAAAAAAAJqs/--tJGyr1HoA/s64/photo.jpg",
      "userId": "04609544948525849579"
     },
     "user_tz": -330
    },
    "id": "g-kJageVuhdt",
    "outputId": "a07d4900-e1fc-4675-c367-cc2ae26a5ca3"
   },
   "outputs": [
    {
     "data": {
      "text/plain": [
       "0.8410107334525939"
      ]
     },
     "execution_count": 42,
     "metadata": {},
     "output_type": "execute_result"
    }
   ],
   "source": [
    "svm_clf = svm.SVC()\n",
    "svm_clf.fit(X_train, Y_train)\n",
    "Y_svm_pred = svm_clf.predict(X_test)\n",
    "accuracy_score(Y_svm_pred, Y_test)"
   ]
  },
  {
   "cell_type": "markdown",
   "metadata": {},
   "source": [
    "<div class=\"alert alert-block alert-info\">\n",
    "##### Logistic Regression"
   ]
  },
  {
   "cell_type": "code",
   "execution_count": 43,
   "metadata": {
    "colab": {},
    "colab_type": "code",
    "id": "IFz03Al5QxQp"
   },
   "outputs": [
    {
     "data": {
      "text/plain": [
       "0.8224508050089445"
      ]
     },
     "execution_count": 43,
     "metadata": {},
     "output_type": "execute_result"
    }
   ],
   "source": [
    "from sklearn.ensemble import RandomForestClassifier\n",
    "from sklearn.linear_model import LogisticRegression\n",
    "\n",
    "logistic_clf = LogisticRegression()\n",
    "\n",
    "logistic_clf.fit(X_train, Y_train)\n",
    "\n",
    "Y_lgr_pred= logistic_clf.predict(X_test)\n",
    "\n",
    "accuracy_score(Y_lgr_pred,Y_test)\n"
   ]
  },
  {
   "cell_type": "markdown",
   "metadata": {},
   "source": [
    "<div class=\"alert alert-block alert-info\">\n",
    "##### Random Forest"
   ]
  },
  {
   "cell_type": "code",
   "execution_count": 44,
   "metadata": {},
   "outputs": [
    {
     "data": {
      "text/plain": [
       "0.8496198568872988"
      ]
     },
     "execution_count": 44,
     "metadata": {},
     "output_type": "execute_result"
    }
   ],
   "source": [
    "RandomF_clf = RandomForestClassifier(n_estimators=50, random_state=0)\n",
    "\n",
    "RandomF_clf.fit(X_train,Y_train)\n",
    "\n",
    "Y_rf_pred = RandomF_clf.predict(X_test)\n",
    "\n",
    "accuracy_score(Y_rf_pred,Y_test)"
   ]
  },
  {
   "cell_type": "markdown",
   "metadata": {},
   "source": [
    "<div class=\"alert alert-block alert-info\">\n",
    "* Trying with different values of n_estimators "
   ]
  },
  {
   "cell_type": "code",
   "execution_count": 51,
   "metadata": {},
   "outputs": [
    {
     "data": {
      "text/plain": [
       "0.8530858676207513"
      ]
     },
     "execution_count": 51,
     "metadata": {},
     "output_type": "execute_result"
    }
   ],
   "source": [
    "RandomF_clf = RandomForestClassifier(n_estimators=130, random_state=0)\n",
    "\n",
    "RandomF_clf.fit(X_train,Y_train)\n",
    "\n",
    "Y_rf_pred = RandomF_clf.predict(X_test)\n",
    "\n",
    "accuracy_score(Y_rf_pred,Y_test)"
   ]
  },
  {
   "cell_type": "markdown",
   "metadata": {},
   "source": [
    "<div class=\"alert alert-block alert-success\">\n",
    "* We can observe that accuracy improved by changing the value of n_estimator, so we can tune the model later."
   ]
  },
  {
   "cell_type": "markdown",
   "metadata": {},
   "source": [
    "<div class=\"alert alert-block alert-warning\">\n",
    "### Tuning the SVM model using Gridsearch"
   ]
  },
  {
   "cell_type": "code",
   "execution_count": 54,
   "metadata": {
    "colab": {
     "base_uri": "https://localhost:8080/",
     "height": 5611
    },
    "colab_type": "code",
    "executionInfo": {
     "elapsed": 1232711,
     "status": "ok",
     "timestamp": 1542711028807,
     "user": {
      "displayName": "Peeyush Pashine",
      "photoUrl": "https://lh5.googleusercontent.com/-sNgCGZttImM/AAAAAAAAAAI/AAAAAAAAJqs/--tJGyr1HoA/s64/photo.jpg",
      "userId": "04609544948525849579"
     },
     "user_tz": -330
    },
    "id": "0GDGkzEYVYtz",
    "outputId": "f9eefba5-3166-4989-bdc4-4f8982fb0957"
   },
   "outputs": [
    {
     "name": "stdout",
     "output_type": "stream",
     "text": [
      "Fitting 3 folds for each of 36 candidates, totalling 108 fits\n",
      "[CV] C=0.1, class_weight={0: 1, 1: 1}, gamma=0.001, kernel=linear ....\n",
      "[CV] C=0.1, class_weight={0: 1, 1: 1}, gamma=0.001, kernel=linear ....\n",
      "[CV]  C=0.1, class_weight={0: 1, 1: 1}, gamma=0.001, kernel=linear, score=0.8201552616446234, total=   8.2s\n",
      "[CV] C=0.1, class_weight={0: 1, 1: 1}, gamma=0.001, kernel=linear ....\n",
      "[CV]  C=0.1, class_weight={0: 1, 1: 1}, gamma=0.001, kernel=linear, score=0.822049734080782, total=   8.4s\n",
      "[CV] C=0.1, class_weight={0: 1, 1: 1}, gamma=0.001, kernel=rbf .......\n"
     ]
    },
    {
     "name": "stderr",
     "output_type": "stream",
     "text": [
      "[Parallel(n_jobs=-1)]: Done   1 tasks      | elapsed:   10.8s\n",
      "[Parallel(n_jobs=-1)]: Done   2 tasks      | elapsed:   11.0s\n"
     ]
    },
    {
     "name": "stdout",
     "output_type": "stream",
     "text": [
      "[CV]  C=0.1, class_weight={0: 1, 1: 1}, gamma=0.001, kernel=linear, score=0.8182602444284687, total=   7.3s\n",
      "[CV] C=0.1, class_weight={0: 1, 1: 1}, gamma=0.001, kernel=rbf .......\n"
     ]
    },
    {
     "name": "stderr",
     "output_type": "stream",
     "text": [
      "[Parallel(n_jobs=-1)]: Done   3 tasks      | elapsed:   20.5s\n"
     ]
    },
    {
     "name": "stdout",
     "output_type": "stream",
     "text": [
      "[CV]  C=0.1, class_weight={0: 1, 1: 1}, gamma=0.001, kernel=rbf, score=0.7540606583297398, total=  12.0s\n",
      "[CV] C=0.1, class_weight={0: 1, 1: 1}, gamma=0.001, kernel=rbf .......\n"
     ]
    },
    {
     "name": "stderr",
     "output_type": "stream",
     "text": [
      "[Parallel(n_jobs=-1)]: Done   4 tasks      | elapsed:   29.4s\n"
     ]
    },
    {
     "name": "stdout",
     "output_type": "stream",
     "text": [
      "[CV]  C=0.1, class_weight={0: 1, 1: 1}, gamma=0.001, kernel=rbf, score=0.7530189764232318, total=  12.0s\n",
      "[CV] C=0.1, class_weight={0: 1, 1: 1}, gamma=0.01, kernel=linear .....\n"
     ]
    },
    {
     "name": "stderr",
     "output_type": "stream",
     "text": [
      "[Parallel(n_jobs=-1)]: Done   5 tasks      | elapsed:   38.5s\n"
     ]
    },
    {
     "name": "stdout",
     "output_type": "stream",
     "text": [
      "[CV]  C=0.1, class_weight={0: 1, 1: 1}, gamma=0.001, kernel=rbf, score=0.7528396836808052, total=  11.1s\n",
      "[CV] C=0.1, class_weight={0: 1, 1: 1}, gamma=0.01, kernel=linear .....\n"
     ]
    },
    {
     "name": "stderr",
     "output_type": "stream",
     "text": [
      "[Parallel(n_jobs=-1)]: Done   6 tasks      | elapsed:   46.6s\n"
     ]
    },
    {
     "name": "stdout",
     "output_type": "stream",
     "text": [
      "[CV]  C=0.1, class_weight={0: 1, 1: 1}, gamma=0.01, kernel=linear, score=0.822049734080782, total=   7.2s\n",
      "[CV] C=0.1, class_weight={0: 1, 1: 1}, gamma=0.01, kernel=linear .....\n"
     ]
    },
    {
     "name": "stderr",
     "output_type": "stream",
     "text": [
      "[Parallel(n_jobs=-1)]: Done   7 tasks      | elapsed:   48.1s\n"
     ]
    },
    {
     "name": "stdout",
     "output_type": "stream",
     "text": [
      "[CV]  C=0.1, class_weight={0: 1, 1: 1}, gamma=0.01, kernel=linear, score=0.8201552616446234, total=   8.0s\n",
      "[CV] C=0.1, class_weight={0: 1, 1: 1}, gamma=0.01, kernel=rbf ........\n"
     ]
    },
    {
     "name": "stderr",
     "output_type": "stream",
     "text": [
      "[Parallel(n_jobs=-1)]: Done   8 tasks      | elapsed:   57.2s\n"
     ]
    },
    {
     "name": "stdout",
     "output_type": "stream",
     "text": [
      "[CV]  C=0.1, class_weight={0: 1, 1: 1}, gamma=0.01, kernel=linear, score=0.8182602444284687, total=   8.0s\n",
      "[CV] C=0.1, class_weight={0: 1, 1: 1}, gamma=0.01, kernel=rbf ........\n"
     ]
    },
    {
     "name": "stderr",
     "output_type": "stream",
     "text": [
      "[Parallel(n_jobs=-1)]: Done   9 tasks      | elapsed:   58.6s\n"
     ]
    },
    {
     "name": "stdout",
     "output_type": "stream",
     "text": [
      "[CV]  C=0.1, class_weight={0: 1, 1: 1}, gamma=0.01, kernel=rbf, score=0.8119879258300992, total=  11.3s\n",
      "[CV] C=0.1, class_weight={0: 1, 1: 1}, gamma=0.01, kernel=rbf ........\n"
     ]
    },
    {
     "name": "stderr",
     "output_type": "stream",
     "text": [
      "[Parallel(n_jobs=-1)]: Done  10 tasks      | elapsed:  1.2min\n"
     ]
    },
    {
     "name": "stdout",
     "output_type": "stream",
     "text": [
      "[CV]  C=0.1, class_weight={0: 1, 1: 1}, gamma=0.01, kernel=rbf, score=0.8096607245543416, total=  11.0s\n",
      "[CV] C=0.1, class_weight={0: 1, 1: 1}, gamma=0.1, kernel=linear ......\n"
     ]
    },
    {
     "name": "stderr",
     "output_type": "stream",
     "text": [
      "[Parallel(n_jobs=-1)]: Done  11 tasks      | elapsed:  1.3min\n"
     ]
    },
    {
     "name": "stdout",
     "output_type": "stream",
     "text": [
      "[CV]  C=0.1, class_weight={0: 1, 1: 1}, gamma=0.1, kernel=linear, score=0.822049734080782, total=   7.5s\n",
      "[CV] C=0.1, class_weight={0: 1, 1: 1}, gamma=0.1, kernel=linear ......\n"
     ]
    },
    {
     "name": "stderr",
     "output_type": "stream",
     "text": [
      "[Parallel(n_jobs=-1)]: Done  12 tasks      | elapsed:  1.4min\n"
     ]
    },
    {
     "name": "stdout",
     "output_type": "stream",
     "text": [
      "[CV]  C=0.1, class_weight={0: 1, 1: 1}, gamma=0.01, kernel=rbf, score=0.809489575844716, total=  11.5s\n",
      "[CV] C=0.1, class_weight={0: 1, 1: 1}, gamma=0.1, kernel=linear ......\n"
     ]
    },
    {
     "name": "stderr",
     "output_type": "stream",
     "text": [
      "[Parallel(n_jobs=-1)]: Done  13 tasks      | elapsed:  1.5min\n"
     ]
    },
    {
     "name": "stdout",
     "output_type": "stream",
     "text": [
      "[CV]  C=0.1, class_weight={0: 1, 1: 1}, gamma=0.1, kernel=linear, score=0.8201552616446234, total=   7.4s\n",
      "[CV] C=0.1, class_weight={0: 1, 1: 1}, gamma=0.1, kernel=rbf .........\n"
     ]
    },
    {
     "name": "stderr",
     "output_type": "stream",
     "text": [
      "[Parallel(n_jobs=-1)]: Done  14 tasks      | elapsed:  1.6min\n"
     ]
    },
    {
     "name": "stdout",
     "output_type": "stream",
     "text": [
      "[CV]  C=0.1, class_weight={0: 1, 1: 1}, gamma=0.1, kernel=linear, score=0.8182602444284687, total=   7.4s\n",
      "[CV] C=0.1, class_weight={0: 1, 1: 1}, gamma=0.1, kernel=rbf .........\n"
     ]
    },
    {
     "name": "stderr",
     "output_type": "stream",
     "text": [
      "[Parallel(n_jobs=-1)]: Done  15 tasks      | elapsed:  1.7min\n"
     ]
    },
    {
     "name": "stdout",
     "output_type": "stream",
     "text": [
      "[CV]  C=0.1, class_weight={0: 1, 1: 1}, gamma=0.1, kernel=rbf, score=0.8226246945522495, total=  11.4s\n",
      "[CV] C=0.1, class_weight={0: 1, 1: 1}, gamma=0.1, kernel=rbf .........\n"
     ]
    },
    {
     "name": "stderr",
     "output_type": "stream",
     "text": [
      "[Parallel(n_jobs=-1)]: Done  16 tasks      | elapsed:  1.9min\n"
     ]
    },
    {
     "name": "stdout",
     "output_type": "stream",
     "text": [
      "[CV]  C=0.1, class_weight={0: 1, 1: 1}, gamma=0.1, kernel=rbf, score=0.8241805635422657, total=  11.3s\n",
      "[CV] C=0.1, class_weight={0: 1, 1: 2}, gamma=0.001, kernel=linear ....\n"
     ]
    },
    {
     "name": "stderr",
     "output_type": "stream",
     "text": [
      "[Parallel(n_jobs=-1)]: Done  17 tasks      | elapsed:  2.0min\n"
     ]
    },
    {
     "name": "stdout",
     "output_type": "stream",
     "text": [
      "[CV]  C=0.1, class_weight={0: 1, 1: 1}, gamma=0.1, kernel=rbf, score=0.813803019410496, total=  11.3s\n",
      "[CV] C=0.1, class_weight={0: 1, 1: 2}, gamma=0.001, kernel=linear ....\n"
     ]
    },
    {
     "name": "stderr",
     "output_type": "stream",
     "text": [
      "[Parallel(n_jobs=-1)]: Done  18 tasks      | elapsed:  2.2min\n"
     ]
    },
    {
     "name": "stdout",
     "output_type": "stream",
     "text": [
      "[CV]  C=0.1, class_weight={0: 1, 1: 2}, gamma=0.001, kernel=linear, score=0.8118441857122323, total=   9.4s\n",
      "[CV] C=0.1, class_weight={0: 1, 1: 2}, gamma=0.001, kernel=linear ....\n"
     ]
    },
    {
     "name": "stderr",
     "output_type": "stream",
     "text": [
      "[Parallel(n_jobs=-1)]: Done  19 tasks      | elapsed:  2.2min\n"
     ]
    },
    {
     "name": "stdout",
     "output_type": "stream",
     "text": [
      "[CV]  C=0.1, class_weight={0: 1, 1: 2}, gamma=0.001, kernel=linear, score=0.8139735480161012, total=  10.3s\n",
      "[CV] C=0.1, class_weight={0: 1, 1: 2}, gamma=0.001, kernel=rbf .......\n",
      "[CV]  C=0.1, class_weight={0: 1, 1: 2}, gamma=0.001, kernel=linear, score=0.7976994967649174, total=   9.8s\n"
     ]
    },
    {
     "name": "stderr",
     "output_type": "stream",
     "text": [
      "[Parallel(n_jobs=-1)]: Done  20 tasks      | elapsed:  2.4min\n",
      "[Parallel(n_jobs=-1)]: Done  21 tasks      | elapsed:  2.4min\n"
     ]
    },
    {
     "name": "stdout",
     "output_type": "stream",
     "text": [
      "[CV] C=0.1, class_weight={0: 1, 1: 2}, gamma=0.001, kernel=rbf .......\n",
      "[CV]  C=0.1, class_weight={0: 1, 1: 2}, gamma=0.001, kernel=rbf, score=0.8047728579643473, total=  18.6s\n",
      "[CV] C=0.1, class_weight={0: 1, 1: 2}, gamma=0.001, kernel=rbf .......\n",
      "[CV]  C=0.1, class_weight={0: 1, 1: 2}, gamma=0.001, kernel=rbf, score=0.8111254851228978, total=  18.9s\n",
      "[CV] C=0.1, class_weight={0: 1, 1: 2}, gamma=0.01, kernel=linear .....\n"
     ]
    },
    {
     "name": "stderr",
     "output_type": "stream",
     "text": [
      "[Parallel(n_jobs=-1)]: Done  22 tasks      | elapsed:  2.8min\n",
      "[Parallel(n_jobs=-1)]: Done  23 tasks      | elapsed:  2.8min\n"
     ]
    },
    {
     "name": "stdout",
     "output_type": "stream",
     "text": [
      "[CV]  C=0.1, class_weight={0: 1, 1: 2}, gamma=0.01, kernel=linear, score=0.8118441857122323, total=   9.5s\n",
      "[CV] C=0.1, class_weight={0: 1, 1: 2}, gamma=0.01, kernel=linear .....\n"
     ]
    },
    {
     "name": "stderr",
     "output_type": "stream",
     "text": [
      "[Parallel(n_jobs=-1)]: Done  24 tasks      | elapsed:  3.0min\n"
     ]
    },
    {
     "name": "stdout",
     "output_type": "stream",
     "text": [
      "[CV]  C=0.1, class_weight={0: 1, 1: 2}, gamma=0.01, kernel=linear, score=0.8139735480161012, total=   9.1s\n",
      "[CV] C=0.1, class_weight={0: 1, 1: 2}, gamma=0.01, kernel=linear .....\n"
     ]
    },
    {
     "name": "stderr",
     "output_type": "stream",
     "text": [
      "[Parallel(n_jobs=-1)]: Done  25 tasks      | elapsed:  3.2min\n"
     ]
    },
    {
     "name": "stdout",
     "output_type": "stream",
     "text": [
      "[CV]  C=0.1, class_weight={0: 1, 1: 2}, gamma=0.001, kernel=rbf, score=0.793961179007908, total=  17.6s\n",
      "[CV] C=0.1, class_weight={0: 1, 1: 2}, gamma=0.01, kernel=rbf ........\n"
     ]
    },
    {
     "name": "stderr",
     "output_type": "stream",
     "text": [
      "[Parallel(n_jobs=-1)]: Done  26 tasks      | elapsed:  3.3min\n"
     ]
    },
    {
     "name": "stdout",
     "output_type": "stream",
     "text": [
      "[CV]  C=0.1, class_weight={0: 1, 1: 2}, gamma=0.01, kernel=linear, score=0.7976994967649174, total=   8.8s\n",
      "[CV] C=0.1, class_weight={0: 1, 1: 2}, gamma=0.01, kernel=rbf ........\n"
     ]
    },
    {
     "name": "stderr",
     "output_type": "stream",
     "text": [
      "[Parallel(n_jobs=-1)]: Done  27 tasks      | elapsed:  3.4min\n"
     ]
    },
    {
     "name": "stdout",
     "output_type": "stream",
     "text": [
      "[CV]  C=0.1, class_weight={0: 1, 1: 2}, gamma=0.01, kernel=rbf, score=0.8180250107805088, total=  14.9s\n",
      "[CV] C=0.1, class_weight={0: 1, 1: 2}, gamma=0.01, kernel=rbf ........\n"
     ]
    },
    {
     "name": "stderr",
     "output_type": "stream",
     "text": [
      "[Parallel(n_jobs=-1)]: Done  28 tasks      | elapsed:  3.6min\n"
     ]
    },
    {
     "name": "stdout",
     "output_type": "stream",
     "text": [
      "[CV]  C=0.1, class_weight={0: 1, 1: 2}, gamma=0.01, kernel=rbf, score=0.8128234617596319, total=  15.0s\n",
      "[CV] C=0.1, class_weight={0: 1, 1: 2}, gamma=0.1, kernel=linear ......\n"
     ]
    },
    {
     "name": "stderr",
     "output_type": "stream",
     "text": [
      "[Parallel(n_jobs=-1)]: Done  29 tasks      | elapsed:  3.8min\n"
     ]
    },
    {
     "name": "stdout",
     "output_type": "stream",
     "text": [
      "[CV]  C=0.1, class_weight={0: 1, 1: 2}, gamma=0.01, kernel=rbf, score=0.8005751258087707, total=  14.1s\n",
      "[CV] C=0.1, class_weight={0: 1, 1: 2}, gamma=0.1, kernel=linear ......\n"
     ]
    },
    {
     "name": "stderr",
     "output_type": "stream",
     "text": [
      "[Parallel(n_jobs=-1)]: Done  30 tasks      | elapsed:  4.0min\n"
     ]
    },
    {
     "name": "stdout",
     "output_type": "stream",
     "text": [
      "[CV]  C=0.1, class_weight={0: 1, 1: 2}, gamma=0.1, kernel=linear, score=0.8118441857122323, total=   9.4s\n",
      "[CV] C=0.1, class_weight={0: 1, 1: 2}, gamma=0.1, kernel=linear ......\n"
     ]
    },
    {
     "name": "stderr",
     "output_type": "stream",
     "text": [
      "[Parallel(n_jobs=-1)]: Done  31 tasks      | elapsed:  4.0min\n"
     ]
    },
    {
     "name": "stdout",
     "output_type": "stream",
     "text": [
      "[CV]  C=0.1, class_weight={0: 1, 1: 2}, gamma=0.1, kernel=linear, score=0.8139735480161012, total=  10.2s\n",
      "[CV] C=0.1, class_weight={0: 1, 1: 2}, gamma=0.1, kernel=rbf .........\n"
     ]
    },
    {
     "name": "stderr",
     "output_type": "stream",
     "text": [
      "[Parallel(n_jobs=-1)]: Done  32 tasks      | elapsed:  4.2min\n"
     ]
    },
    {
     "name": "stdout",
     "output_type": "stream",
     "text": [
      "[CV]  C=0.1, class_weight={0: 1, 1: 2}, gamma=0.1, kernel=linear, score=0.7976994967649174, total=   9.8s\n",
      "[CV] C=0.1, class_weight={0: 1, 1: 2}, gamma=0.1, kernel=rbf .........\n"
     ]
    },
    {
     "name": "stderr",
     "output_type": "stream",
     "text": [
      "[Parallel(n_jobs=-1)]: Done  33 tasks      | elapsed:  4.2min\n"
     ]
    },
    {
     "name": "stdout",
     "output_type": "stream",
     "text": [
      "[CV]  C=0.1, class_weight={0: 1, 1: 2}, gamma=0.1, kernel=rbf, score=0.8234871352594509, total=  14.5s\n",
      "[CV] C=0.1, class_weight={0: 1, 1: 2}, gamma=0.1, kernel=rbf .........\n"
     ]
    },
    {
     "name": "stderr",
     "output_type": "stream",
     "text": [
      "[Parallel(n_jobs=-1)]: Done  34 tasks      | elapsed:  4.5min\n"
     ]
    },
    {
     "name": "stdout",
     "output_type": "stream",
     "text": [
      "[CV]  C=0.1, class_weight={0: 1, 1: 2}, gamma=0.1, kernel=rbf, score=0.8225991949396205, total=  14.3s\n",
      "[CV] C=1, class_weight={0: 1, 1: 1}, gamma=0.001, kernel=linear ......\n"
     ]
    },
    {
     "name": "stderr",
     "output_type": "stream",
     "text": [
      "[Parallel(n_jobs=-1)]: Done  35 tasks      | elapsed:  4.6min\n"
     ]
    },
    {
     "name": "stdout",
     "output_type": "stream",
     "text": [
      "[CV]  C=1, class_weight={0: 1, 1: 1}, gamma=0.001, kernel=linear, score=0.8223372143165157, total=  12.8s\n",
      "[CV] C=1, class_weight={0: 1, 1: 1}, gamma=0.001, kernel=linear ......\n"
     ]
    },
    {
     "name": "stderr",
     "output_type": "stream",
     "text": [
      "[Parallel(n_jobs=-1)]: Done  36 tasks      | elapsed:  4.8min\n"
     ]
    },
    {
     "name": "stdout",
     "output_type": "stream",
     "text": [
      "[CV]  C=0.1, class_weight={0: 1, 1: 2}, gamma=0.1, kernel=rbf, score=0.813371675053918, total=  14.4s\n",
      "[CV] C=1, class_weight={0: 1, 1: 1}, gamma=0.001, kernel=linear ......\n"
     ]
    },
    {
     "name": "stderr",
     "output_type": "stream",
     "text": [
      "[Parallel(n_jobs=-1)]: Done  37 tasks      | elapsed:  4.9min\n"
     ]
    },
    {
     "name": "stdout",
     "output_type": "stream",
     "text": [
      "[CV]  C=1, class_weight={0: 1, 1: 1}, gamma=0.001, kernel=linear, score=0.8210178263369753, total=  12.2s\n",
      "[CV] C=1, class_weight={0: 1, 1: 1}, gamma=0.001, kernel=rbf .........\n"
     ]
    },
    {
     "name": "stderr",
     "output_type": "stream",
     "text": [
      "[Parallel(n_jobs=-1)]: Done  38 tasks      | elapsed:  5.0min\n"
     ]
    },
    {
     "name": "stdout",
     "output_type": "stream",
     "text": [
      "[CV]  C=1, class_weight={0: 1, 1: 1}, gamma=0.001, kernel=linear, score=0.8191229331416248, total=  12.7s\n",
      "[CV] C=1, class_weight={0: 1, 1: 1}, gamma=0.001, kernel=rbf .........\n"
     ]
    },
    {
     "name": "stderr",
     "output_type": "stream",
     "text": [
      "[Parallel(n_jobs=-1)]: Done  39 tasks      | elapsed:  5.1min\n"
     ]
    },
    {
     "name": "stdout",
     "output_type": "stream",
     "text": [
      "[CV]  C=1, class_weight={0: 1, 1: 1}, gamma=0.001, kernel=rbf, score=0.8099755641799626, total=  11.1s\n",
      "[CV] C=1, class_weight={0: 1, 1: 1}, gamma=0.001, kernel=rbf .........\n"
     ]
    },
    {
     "name": "stderr",
     "output_type": "stream",
     "text": [
      "[Parallel(n_jobs=-1)]: Done  40 tasks      | elapsed:  5.3min\n"
     ]
    },
    {
     "name": "stdout",
     "output_type": "stream",
     "text": [
      "[CV]  C=1, class_weight={0: 1, 1: 1}, gamma=0.001, kernel=rbf, score=0.8080793559516963, total=  10.8s\n",
      "[CV] C=1, class_weight={0: 1, 1: 1}, gamma=0.01, kernel=linear .......\n"
     ]
    },
    {
     "name": "stderr",
     "output_type": "stream",
     "text": [
      "[Parallel(n_jobs=-1)]: Done  41 tasks      | elapsed:  5.4min\n"
     ]
    },
    {
     "name": "stdout",
     "output_type": "stream",
     "text": [
      "[CV]  C=1, class_weight={0: 1, 1: 1}, gamma=0.001, kernel=rbf, score=0.809058231488138, total=  11.4s\n",
      "[CV] C=1, class_weight={0: 1, 1: 1}, gamma=0.01, kernel=linear .......\n"
     ]
    },
    {
     "name": "stderr",
     "output_type": "stream",
     "text": [
      "[Parallel(n_jobs=-1)]: Done  42 tasks      | elapsed:  5.6min\n"
     ]
    },
    {
     "name": "stdout",
     "output_type": "stream",
     "text": [
      "[CV]  C=1, class_weight={0: 1, 1: 1}, gamma=0.01, kernel=linear, score=0.8223372143165157, total=  12.6s\n",
      "[CV] C=1, class_weight={0: 1, 1: 1}, gamma=0.01, kernel=linear .......\n"
     ]
    },
    {
     "name": "stderr",
     "output_type": "stream",
     "text": [
      "[Parallel(n_jobs=-1)]: Done  43 tasks      | elapsed:  5.7min\n"
     ]
    },
    {
     "name": "stdout",
     "output_type": "stream",
     "text": [
      "[CV]  C=1, class_weight={0: 1, 1: 1}, gamma=0.01, kernel=linear, score=0.8210178263369753, total=  12.9s\n",
      "[CV] C=1, class_weight={0: 1, 1: 1}, gamma=0.01, kernel=rbf ..........\n"
     ]
    },
    {
     "name": "stderr",
     "output_type": "stream",
     "text": [
      "[Parallel(n_jobs=-1)]: Done  44 tasks      | elapsed:  5.9min\n"
     ]
    },
    {
     "name": "stdout",
     "output_type": "stream",
     "text": [
      "[CV]  C=1, class_weight={0: 1, 1: 1}, gamma=0.01, kernel=linear, score=0.8191229331416248, total=  13.2s\n",
      "[CV] C=1, class_weight={0: 1, 1: 1}, gamma=0.01, kernel=rbf ..........\n"
     ]
    },
    {
     "name": "stderr",
     "output_type": "stream",
     "text": [
      "[Parallel(n_jobs=-1)]: Done  45 tasks      | elapsed:  5.9min\n"
     ]
    },
    {
     "name": "stdout",
     "output_type": "stream",
     "text": [
      "[CV]  C=1, class_weight={0: 1, 1: 1}, gamma=0.01, kernel=rbf, score=0.8375736668104068, total=  10.0s\n",
      "[CV] C=1, class_weight={0: 1, 1: 1}, gamma=0.01, kernel=rbf ..........\n"
     ]
    },
    {
     "name": "stderr",
     "output_type": "stream",
     "text": [
      "[Parallel(n_jobs=-1)]: Done  46 tasks      | elapsed:  6.1min\n"
     ]
    },
    {
     "name": "stdout",
     "output_type": "stream",
     "text": [
      "[CV]  C=1, class_weight={0: 1, 1: 1}, gamma=0.01, kernel=rbf, score=0.8394192064404831, total=  10.0s\n",
      "[CV] C=1, class_weight={0: 1, 1: 1}, gamma=0.1, kernel=linear ........\n"
     ]
    },
    {
     "name": "stderr",
     "output_type": "stream",
     "text": [
      "[Parallel(n_jobs=-1)]: Done  47 tasks      | elapsed:  6.2min\n"
     ]
    },
    {
     "name": "stdout",
     "output_type": "stream",
     "text": [
      "[CV]  C=1, class_weight={0: 1, 1: 1}, gamma=0.01, kernel=rbf, score=0.8280373831775701, total=   9.7s\n",
      "[CV] C=1, class_weight={0: 1, 1: 1}, gamma=0.1, kernel=linear ........\n"
     ]
    },
    {
     "name": "stderr",
     "output_type": "stream",
     "text": [
      "[Parallel(n_jobs=-1)]: Done  48 tasks      | elapsed:  6.4min\n"
     ]
    },
    {
     "name": "stdout",
     "output_type": "stream",
     "text": [
      "[CV]  C=1, class_weight={0: 1, 1: 1}, gamma=0.1, kernel=linear, score=0.8223372143165157, total=  12.6s\n",
      "[CV] C=1, class_weight={0: 1, 1: 1}, gamma=0.1, kernel=linear ........\n"
     ]
    },
    {
     "name": "stderr",
     "output_type": "stream",
     "text": [
      "[Parallel(n_jobs=-1)]: Done  49 tasks      | elapsed:  6.4min\n"
     ]
    },
    {
     "name": "stdout",
     "output_type": "stream",
     "text": [
      "[CV]  C=1, class_weight={0: 1, 1: 1}, gamma=0.1, kernel=linear, score=0.8210178263369753, total=  12.7s\n",
      "[CV] C=1, class_weight={0: 1, 1: 1}, gamma=0.1, kernel=rbf ...........\n"
     ]
    },
    {
     "name": "stderr",
     "output_type": "stream",
     "text": [
      "[Parallel(n_jobs=-1)]: Done  50 tasks      | elapsed:  6.6min\n"
     ]
    },
    {
     "name": "stdout",
     "output_type": "stream",
     "text": [
      "[CV]  C=1, class_weight={0: 1, 1: 1}, gamma=0.1, kernel=linear, score=0.8191229331416248, total=  13.2s\n",
      "[CV] C=1, class_weight={0: 1, 1: 1}, gamma=0.1, kernel=rbf ...........\n"
     ]
    },
    {
     "name": "stderr",
     "output_type": "stream",
     "text": [
      "[Parallel(n_jobs=-1)]: Done  51 tasks      | elapsed:  6.7min\n"
     ]
    },
    {
     "name": "stdout",
     "output_type": "stream",
     "text": [
      "[CV]  C=1, class_weight={0: 1, 1: 1}, gamma=0.1, kernel=rbf, score=0.8390110679890758, total=  11.4s\n",
      "[CV] C=1, class_weight={0: 1, 1: 1}, gamma=0.1, kernel=rbf ...........\n"
     ]
    },
    {
     "name": "stderr",
     "output_type": "stream",
     "text": [
      "[Parallel(n_jobs=-1)]: Done  52 tasks      | elapsed:  6.9min\n"
     ]
    },
    {
     "name": "stdout",
     "output_type": "stream",
     "text": [
      "[CV]  C=1, class_weight={0: 1, 1: 1}, gamma=0.1, kernel=rbf, score=0.8441633122484187, total=  11.5s\n",
      "[CV] C=1, class_weight={0: 1, 1: 2}, gamma=0.001, kernel=linear ......\n"
     ]
    },
    {
     "name": "stderr",
     "output_type": "stream",
     "text": [
      "[Parallel(n_jobs=-1)]: Done  53 tasks      | elapsed:  7.0min\n"
     ]
    },
    {
     "name": "stdout",
     "output_type": "stream",
     "text": [
      "[CV]  C=1, class_weight={0: 1, 1: 1}, gamma=0.1, kernel=rbf, score=0.8350826743350108, total=  11.0s\n",
      "[CV] C=1, class_weight={0: 1, 1: 2}, gamma=0.001, kernel=linear ......\n"
     ]
    },
    {
     "name": "stderr",
     "output_type": "stream",
     "text": [
      "[Parallel(n_jobs=-1)]: Done  54 tasks      | elapsed:  7.2min\n"
     ]
    },
    {
     "name": "stdout",
     "output_type": "stream",
     "text": [
      "[CV]  C=1, class_weight={0: 1, 1: 2}, gamma=0.001, kernel=linear, score=0.8119879258300992, total=  15.9s\n",
      "[CV] C=1, class_weight={0: 1, 1: 2}, gamma=0.001, kernel=linear ......\n"
     ]
    },
    {
     "name": "stderr",
     "output_type": "stream",
     "text": [
      "[Parallel(n_jobs=-1)]: Done  55 tasks      | elapsed:  7.3min\n"
     ]
    },
    {
     "name": "stdout",
     "output_type": "stream",
     "text": [
      "[CV]  C=1, class_weight={0: 1, 1: 2}, gamma=0.001, kernel=linear, score=0.8142610695802185, total=  16.2s\n",
      "[CV] C=1, class_weight={0: 1, 1: 2}, gamma=0.001, kernel=rbf .........\n"
     ]
    },
    {
     "name": "stderr",
     "output_type": "stream",
     "text": [
      "[Parallel(n_jobs=-1)]: Done  56 tasks      | elapsed:  7.5min\n"
     ]
    },
    {
     "name": "stdout",
     "output_type": "stream",
     "text": [
      "[CV]  C=1, class_weight={0: 1, 1: 2}, gamma=0.001, kernel=linear, score=0.79784327821711, total=  15.9s\n",
      "[CV] C=1, class_weight={0: 1, 1: 2}, gamma=0.001, kernel=rbf .........\n"
     ]
    },
    {
     "name": "stderr",
     "output_type": "stream",
     "text": [
      "[Parallel(n_jobs=-1)]: Done  57 tasks      | elapsed:  7.6min\n"
     ]
    },
    {
     "name": "stdout",
     "output_type": "stream",
     "text": [
      "[CV]  C=1, class_weight={0: 1, 1: 2}, gamma=0.001, kernel=rbf, score=0.813569067126635, total=  15.0s\n",
      "[CV] C=1, class_weight={0: 1, 1: 2}, gamma=0.001, kernel=rbf .........\n"
     ]
    },
    {
     "name": "stderr",
     "output_type": "stream",
     "text": [
      "[Parallel(n_jobs=-1)]: Done  58 tasks      | elapsed:  7.9min\n"
     ]
    },
    {
     "name": "stdout",
     "output_type": "stream",
     "text": [
      "[CV]  C=1, class_weight={0: 1, 1: 2}, gamma=0.001, kernel=rbf, score=0.8095169637722829, total=  15.3s\n",
      "[CV] C=1, class_weight={0: 1, 1: 2}, gamma=0.01, kernel=linear .......\n"
     ]
    },
    {
     "name": "stderr",
     "output_type": "stream",
     "text": [
      "[Parallel(n_jobs=-1)]: Done  59 tasks      | elapsed:  8.0min\n"
     ]
    },
    {
     "name": "stdout",
     "output_type": "stream",
     "text": [
      "[CV]  C=1, class_weight={0: 1, 1: 2}, gamma=0.001, kernel=rbf, score=0.7955427749820273, total=  14.6s\n",
      "[CV] C=1, class_weight={0: 1, 1: 2}, gamma=0.01, kernel=linear .......\n"
     ]
    },
    {
     "name": "stderr",
     "output_type": "stream",
     "text": [
      "[Parallel(n_jobs=-1)]: Done  60 tasks      | elapsed:  8.2min\n"
     ]
    },
    {
     "name": "stdout",
     "output_type": "stream",
     "text": [
      "[CV]  C=1, class_weight={0: 1, 1: 2}, gamma=0.01, kernel=linear, score=0.8119879258300992, total=  16.9s\n",
      "[CV] C=1, class_weight={0: 1, 1: 2}, gamma=0.01, kernel=linear .......\n"
     ]
    },
    {
     "name": "stderr",
     "output_type": "stream",
     "text": [
      "[Parallel(n_jobs=-1)]: Done  61 tasks      | elapsed:  8.3min\n"
     ]
    },
    {
     "name": "stdout",
     "output_type": "stream",
     "text": [
      "[CV]  C=1, class_weight={0: 1, 1: 2}, gamma=0.01, kernel=linear, score=0.8142610695802185, total=  17.2s\n",
      "[CV] C=1, class_weight={0: 1, 1: 2}, gamma=0.01, kernel=rbf ..........\n"
     ]
    },
    {
     "name": "stderr",
     "output_type": "stream",
     "text": [
      "[Parallel(n_jobs=-1)]: Done  62 tasks      | elapsed:  8.5min\n"
     ]
    },
    {
     "name": "stdout",
     "output_type": "stream",
     "text": [
      "[CV]  C=1, class_weight={0: 1, 1: 2}, gamma=0.01, kernel=linear, score=0.79784327821711, total=  16.8s\n",
      "[CV] C=1, class_weight={0: 1, 1: 2}, gamma=0.01, kernel=rbf ..........\n"
     ]
    },
    {
     "name": "stderr",
     "output_type": "stream",
     "text": [
      "[Parallel(n_jobs=-1)]: Done  63 tasks      | elapsed:  8.6min\n"
     ]
    },
    {
     "name": "stdout",
     "output_type": "stream",
     "text": [
      "[CV]  C=1, class_weight={0: 1, 1: 2}, gamma=0.01, kernel=rbf, score=0.8277993387954579, total=  12.1s\n",
      "[CV] C=1, class_weight={0: 1, 1: 2}, gamma=0.01, kernel=rbf ..........\n"
     ]
    },
    {
     "name": "stderr",
     "output_type": "stream",
     "text": [
      "[Parallel(n_jobs=-1)]: Done  64 tasks      | elapsed:  8.8min\n"
     ]
    },
    {
     "name": "stdout",
     "output_type": "stream",
     "text": [
      "[CV]  C=1, class_weight={0: 1, 1: 2}, gamma=0.01, kernel=rbf, score=0.8228867165037378, total=  12.2s\n",
      "[CV] C=1, class_weight={0: 1, 1: 2}, gamma=0.1, kernel=linear ........\n"
     ]
    },
    {
     "name": "stderr",
     "output_type": "stream",
     "text": [
      "[Parallel(n_jobs=-1)]: Done  65 tasks      | elapsed:  8.9min\n"
     ]
    },
    {
     "name": "stdout",
     "output_type": "stream",
     "text": [
      "[CV]  C=1, class_weight={0: 1, 1: 2}, gamma=0.01, kernel=rbf, score=0.81941049604601, total=  11.9s\n",
      "[CV] C=1, class_weight={0: 1, 1: 2}, gamma=0.1, kernel=linear ........\n"
     ]
    },
    {
     "name": "stderr",
     "output_type": "stream",
     "text": [
      "[Parallel(n_jobs=-1)]: Done  66 tasks      | elapsed:  9.1min\n"
     ]
    },
    {
     "name": "stdout",
     "output_type": "stream",
     "text": [
      "[CV]  C=1, class_weight={0: 1, 1: 2}, gamma=0.1, kernel=linear, score=0.8119879258300992, total=  15.8s\n",
      "[CV] C=1, class_weight={0: 1, 1: 2}, gamma=0.1, kernel=linear ........\n"
     ]
    },
    {
     "name": "stderr",
     "output_type": "stream",
     "text": [
      "[Parallel(n_jobs=-1)]: Done  67 tasks      | elapsed:  9.2min\n"
     ]
    },
    {
     "name": "stdout",
     "output_type": "stream",
     "text": [
      "[CV]  C=1, class_weight={0: 1, 1: 2}, gamma=0.1, kernel=linear, score=0.8142610695802185, total=  17.0s\n",
      "[CV] C=1, class_weight={0: 1, 1: 2}, gamma=0.1, kernel=rbf ...........\n"
     ]
    },
    {
     "name": "stderr",
     "output_type": "stream",
     "text": [
      "[Parallel(n_jobs=-1)]: Done  68 tasks      | elapsed:  9.5min\n"
     ]
    },
    {
     "name": "stdout",
     "output_type": "stream",
     "text": [
      "[CV]  C=1, class_weight={0: 1, 1: 2}, gamma=0.1, kernel=linear, score=0.79784327821711, total=  16.1s\n",
      "[CV] C=1, class_weight={0: 1, 1: 2}, gamma=0.1, kernel=rbf ...........\n"
     ]
    },
    {
     "name": "stderr",
     "output_type": "stream",
     "text": [
      "[Parallel(n_jobs=-1)]: Done  69 tasks      | elapsed:  9.5min\n"
     ]
    },
    {
     "name": "stdout",
     "output_type": "stream",
     "text": [
      "[CV]  C=1, class_weight={0: 1, 1: 2}, gamma=0.1, kernel=rbf, score=0.8227684346701164, total=  13.3s\n",
      "[CV] C=1, class_weight={0: 1, 1: 2}, gamma=0.1, kernel=rbf ...........\n"
     ]
    },
    {
     "name": "stderr",
     "output_type": "stream",
     "text": [
      "[Parallel(n_jobs=-1)]: Done  70 tasks      | elapsed:  9.8min\n"
     ]
    },
    {
     "name": "stdout",
     "output_type": "stream",
     "text": [
      "[CV]  C=1, class_weight={0: 1, 1: 2}, gamma=0.1, kernel=rbf, score=0.8197239792984474, total=  13.4s\n",
      "[CV] C=10, class_weight={0: 1, 1: 1}, gamma=0.001, kernel=linear .....\n"
     ]
    },
    {
     "name": "stderr",
     "output_type": "stream",
     "text": [
      "[Parallel(n_jobs=-1)]: Done  71 tasks      | elapsed:  9.9min\n"
     ]
    },
    {
     "name": "stdout",
     "output_type": "stream",
     "text": [
      "[CV]  C=1, class_weight={0: 1, 1: 2}, gamma=0.1, kernel=rbf, score=0.81509705248023, total=  12.9s\n",
      "[CV] C=10, class_weight={0: 1, 1: 1}, gamma=0.001, kernel=linear .....\n"
     ]
    },
    {
     "name": "stderr",
     "output_type": "stream",
     "text": [
      "[Parallel(n_jobs=-1)]: Done  72 tasks      | elapsed: 10.1min\n"
     ]
    },
    {
     "name": "stdout",
     "output_type": "stream",
     "text": [
      "[CV]  C=10, class_weight={0: 1, 1: 1}, gamma=0.001, kernel=linear, score=0.8224809544343826, total=  42.5s\n",
      "[CV] C=10, class_weight={0: 1, 1: 1}, gamma=0.001, kernel=linear .....\n"
     ]
    },
    {
     "name": "stderr",
     "output_type": "stream",
     "text": [
      "[Parallel(n_jobs=-1)]: Done  73 tasks      | elapsed: 10.6min\n"
     ]
    },
    {
     "name": "stdout",
     "output_type": "stream",
     "text": [
      "[CV]  C=10, class_weight={0: 1, 1: 1}, gamma=0.001, kernel=linear, score=0.8210178263369753, total=  40.0s\n",
      "[CV] C=10, class_weight={0: 1, 1: 1}, gamma=0.001, kernel=rbf ........\n"
     ]
    },
    {
     "name": "stderr",
     "output_type": "stream",
     "text": [
      "[Parallel(n_jobs=-1)]: Done  74 tasks      | elapsed: 10.8min\n"
     ]
    },
    {
     "name": "stdout",
     "output_type": "stream",
     "text": [
      "[CV]  C=10, class_weight={0: 1, 1: 1}, gamma=0.001, kernel=rbf, score=0.8270806382061233, total=  10.7s\n",
      "[CV] C=10, class_weight={0: 1, 1: 1}, gamma=0.001, kernel=rbf ........\n"
     ]
    },
    {
     "name": "stderr",
     "output_type": "stream",
     "text": [
      "[Parallel(n_jobs=-1)]: Done  75 tasks      | elapsed: 11.1min\n"
     ]
    },
    {
     "name": "stdout",
     "output_type": "stream",
     "text": [
      "[CV]  C=10, class_weight={0: 1, 1: 1}, gamma=0.001, kernel=linear, score=0.8191229331416248, total=  36.4s\n",
      "[CV] C=10, class_weight={0: 1, 1: 1}, gamma=0.001, kernel=rbf ........\n"
     ]
    },
    {
     "name": "stderr",
     "output_type": "stream",
     "text": [
      "[Parallel(n_jobs=-1)]: Done  76 tasks      | elapsed: 11.3min\n"
     ]
    },
    {
     "name": "stdout",
     "output_type": "stream",
     "text": [
      "[CV]  C=10, class_weight={0: 1, 1: 1}, gamma=0.001, kernel=rbf, score=0.827774583093732, total=  10.9s\n",
      "[CV] C=10, class_weight={0: 1, 1: 1}, gamma=0.01, kernel=linear ......\n"
     ]
    },
    {
     "name": "stderr",
     "output_type": "stream",
     "text": [
      "[Parallel(n_jobs=-1)]: Done  77 tasks      | elapsed: 11.3min\n"
     ]
    },
    {
     "name": "stdout",
     "output_type": "stream",
     "text": [
      "[CV]  C=10, class_weight={0: 1, 1: 1}, gamma=0.001, kernel=rbf, score=0.8207045291157441, total=  10.3s\n",
      "[CV] C=10, class_weight={0: 1, 1: 1}, gamma=0.01, kernel=linear ......\n"
     ]
    },
    {
     "name": "stderr",
     "output_type": "stream",
     "text": [
      "[Parallel(n_jobs=-1)]: Done  78 tasks      | elapsed: 11.5min\n"
     ]
    },
    {
     "name": "stdout",
     "output_type": "stream",
     "text": [
      "[CV]  C=10, class_weight={0: 1, 1: 1}, gamma=0.01, kernel=linear, score=0.8224809544343826, total=  42.6s\n",
      "[CV] C=10, class_weight={0: 1, 1: 1}, gamma=0.01, kernel=linear ......\n"
     ]
    },
    {
     "name": "stderr",
     "output_type": "stream",
     "text": [
      "[Parallel(n_jobs=-1)]: Done  79 tasks      | elapsed: 12.1min\n"
     ]
    },
    {
     "name": "stdout",
     "output_type": "stream",
     "text": [
      "[CV]  C=10, class_weight={0: 1, 1: 1}, gamma=0.01, kernel=linear, score=0.8210178263369753, total=  40.0s\n",
      "[CV] C=10, class_weight={0: 1, 1: 1}, gamma=0.01, kernel=rbf .........\n"
     ]
    },
    {
     "name": "stderr",
     "output_type": "stream",
     "text": [
      "[Parallel(n_jobs=-1)]: Done  80 tasks      | elapsed: 12.2min\n"
     ]
    },
    {
     "name": "stdout",
     "output_type": "stream",
     "text": [
      "[CV]  C=10, class_weight={0: 1, 1: 1}, gamma=0.01, kernel=rbf, score=0.8417421302285468, total=  11.0s\n",
      "[CV] C=10, class_weight={0: 1, 1: 1}, gamma=0.01, kernel=rbf .........\n"
     ]
    },
    {
     "name": "stderr",
     "output_type": "stream",
     "text": [
      "[Parallel(n_jobs=-1)]: Done  81 tasks      | elapsed: 12.5min\n"
     ]
    },
    {
     "name": "stdout",
     "output_type": "stream",
     "text": [
      "[CV]  C=10, class_weight={0: 1, 1: 1}, gamma=0.01, kernel=linear, score=0.8191229331416248, total=  37.0s\n",
      "[CV] C=10, class_weight={0: 1, 1: 1}, gamma=0.01, kernel=rbf .........\n"
     ]
    },
    {
     "name": "stderr",
     "output_type": "stream",
     "text": [
      "[Parallel(n_jobs=-1)]: Done  82 tasks      | elapsed: 12.7min\n"
     ]
    },
    {
     "name": "stdout",
     "output_type": "stream",
     "text": [
      "[CV]  C=10, class_weight={0: 1, 1: 1}, gamma=0.01, kernel=rbf, score=0.84401955146636, total=  11.3s\n",
      "[CV] C=10, class_weight={0: 1, 1: 1}, gamma=0.1, kernel=linear .......\n"
     ]
    },
    {
     "name": "stderr",
     "output_type": "stream",
     "text": [
      "[Parallel(n_jobs=-1)]: Done  83 tasks      | elapsed: 12.8min\n"
     ]
    },
    {
     "name": "stdout",
     "output_type": "stream",
     "text": [
      "[CV]  C=10, class_weight={0: 1, 1: 1}, gamma=0.01, kernel=rbf, score=0.8310567936736161, total=  10.5s\n",
      "[CV] C=10, class_weight={0: 1, 1: 1}, gamma=0.1, kernel=linear .......\n"
     ]
    },
    {
     "name": "stderr",
     "output_type": "stream",
     "text": [
      "[Parallel(n_jobs=-1)]: Done  84 tasks      | elapsed: 13.0min\n"
     ]
    },
    {
     "name": "stdout",
     "output_type": "stream",
     "text": [
      "[CV]  C=10, class_weight={0: 1, 1: 1}, gamma=0.1, kernel=linear, score=0.8224809544343826, total=  43.3s\n",
      "[CV] C=10, class_weight={0: 1, 1: 1}, gamma=0.1, kernel=linear .......\n"
     ]
    },
    {
     "name": "stderr",
     "output_type": "stream",
     "text": [
      "[Parallel(n_jobs=-1)]: Done  85 tasks      | elapsed: 13.5min\n"
     ]
    },
    {
     "name": "stdout",
     "output_type": "stream",
     "text": [
      "[CV]  C=10, class_weight={0: 1, 1: 1}, gamma=0.1, kernel=linear, score=0.8210178263369753, total=  41.1s\n",
      "[CV] C=10, class_weight={0: 1, 1: 1}, gamma=0.1, kernel=rbf ..........\n"
     ]
    },
    {
     "name": "stderr",
     "output_type": "stream",
     "text": [
      "[Parallel(n_jobs=-1)]: Done  86 tasks      | elapsed: 13.7min\n"
     ]
    },
    {
     "name": "stdout",
     "output_type": "stream",
     "text": [
      "[CV]  C=10, class_weight={0: 1, 1: 1}, gamma=0.1, kernel=rbf, score=0.8361362656317378, total=  15.3s\n",
      "[CV] C=10, class_weight={0: 1, 1: 1}, gamma=0.1, kernel=rbf ..........\n"
     ]
    },
    {
     "name": "stderr",
     "output_type": "stream",
     "text": [
      "[Parallel(n_jobs=-1)]: Done  87 tasks      | elapsed: 14.1min\n"
     ]
    },
    {
     "name": "stdout",
     "output_type": "stream",
     "text": [
      "[CV]  C=10, class_weight={0: 1, 1: 1}, gamma=0.1, kernel=linear, score=0.8191229331416248, total=  36.5s\n",
      "[CV] C=10, class_weight={0: 1, 1: 1}, gamma=0.1, kernel=rbf ..........\n"
     ]
    },
    {
     "name": "stderr",
     "output_type": "stream",
     "text": [
      "[Parallel(n_jobs=-1)]: Done  88 tasks      | elapsed: 14.2min\n"
     ]
    },
    {
     "name": "stdout",
     "output_type": "stream",
     "text": [
      "[CV]  C=10, class_weight={0: 1, 1: 1}, gamma=0.1, kernel=rbf, score=0.8330937320299022, total=  14.8s\n",
      "[CV] C=10, class_weight={0: 1, 1: 2}, gamma=0.001, kernel=linear .....\n"
     ]
    },
    {
     "name": "stderr",
     "output_type": "stream",
     "text": [
      "[Parallel(n_jobs=-1)]: Done  89 tasks      | elapsed: 14.4min\n"
     ]
    },
    {
     "name": "stdout",
     "output_type": "stream",
     "text": [
      "[CV]  C=10, class_weight={0: 1, 1: 1}, gamma=0.1, kernel=rbf, score=0.8242990654205608, total=  14.2s\n",
      "[CV] C=10, class_weight={0: 1, 1: 2}, gamma=0.001, kernel=linear .....\n"
     ]
    },
    {
     "name": "stderr",
     "output_type": "stream",
     "text": [
      "[Parallel(n_jobs=-1)]: Done  90 tasks      | elapsed: 14.5min\n"
     ]
    },
    {
     "name": "stdout",
     "output_type": "stream",
     "text": [
      "[CV]  C=10, class_weight={0: 1, 1: 2}, gamma=0.001, kernel=linear, score=0.8117004455943654, total=  55.4s\n",
      "[CV] C=10, class_weight={0: 1, 1: 2}, gamma=0.001, kernel=linear .....\n"
     ]
    },
    {
     "name": "stderr",
     "output_type": "stream",
     "text": [
      "[Parallel(n_jobs=-1)]: Done  91 tasks      | elapsed: 15.4min\n"
     ]
    },
    {
     "name": "stdout",
     "output_type": "stream",
     "text": [
      "[CV]  C=10, class_weight={0: 1, 1: 2}, gamma=0.001, kernel=linear, score=0.8142610695802185, total=  54.4s\n",
      "[CV] C=10, class_weight={0: 1, 1: 2}, gamma=0.001, kernel=rbf ........\n"
     ]
    },
    {
     "name": "stderr",
     "output_type": "stream",
     "text": [
      "[Parallel(n_jobs=-1)]: Done  92 tasks      | elapsed: 15.4min\n"
     ]
    },
    {
     "name": "stdout",
     "output_type": "stream",
     "text": [
      "[CV]  C=10, class_weight={0: 1, 1: 2}, gamma=0.001, kernel=rbf, score=0.8198936323127785, total=  13.9s\n",
      "[CV] C=10, class_weight={0: 1, 1: 2}, gamma=0.001, kernel=rbf ........\n"
     ]
    },
    {
     "name": "stderr",
     "output_type": "stream",
     "text": [
      "[Parallel(n_jobs=-1)]: Done  93 tasks      | elapsed: 15.8min\n"
     ]
    },
    {
     "name": "stdout",
     "output_type": "stream",
     "text": [
      "[CV]  C=10, class_weight={0: 1, 1: 2}, gamma=0.001, kernel=rbf, score=0.8205865439907993, total=  14.0s\n",
      "[CV] C=10, class_weight={0: 1, 1: 2}, gamma=0.001, kernel=rbf ........\n"
     ]
    },
    {
     "name": "stderr",
     "output_type": "stream",
     "text": [
      "[Parallel(n_jobs=-1)]: Done  94 tasks      | elapsed: 16.1min\n"
     ]
    },
    {
     "name": "stdout",
     "output_type": "stream",
     "text": [
      "[CV]  C=10, class_weight={0: 1, 1: 2}, gamma=0.001, kernel=linear, score=0.7979870596693026, total=  51.2s\n",
      "[CV] C=10, class_weight={0: 1, 1: 2}, gamma=0.01, kernel=linear ......\n"
     ]
    },
    {
     "name": "stderr",
     "output_type": "stream",
     "text": [
      "[Parallel(n_jobs=-1)]: Done  95 tasks      | elapsed: 16.3min\n"
     ]
    },
    {
     "name": "stdout",
     "output_type": "stream",
     "text": [
      "[CV]  C=10, class_weight={0: 1, 1: 2}, gamma=0.001, kernel=rbf, score=0.8070452911574407, total=  12.5s\n",
      "[CV] C=10, class_weight={0: 1, 1: 2}, gamma=0.01, kernel=linear ......\n"
     ]
    },
    {
     "name": "stderr",
     "output_type": "stream",
     "text": [
      "[Parallel(n_jobs=-1)]: Done  96 tasks      | elapsed: 16.4min\n"
     ]
    },
    {
     "name": "stdout",
     "output_type": "stream",
     "text": [
      "[CV]  C=10, class_weight={0: 1, 1: 2}, gamma=0.01, kernel=linear, score=0.8117004455943654, total=  56.4s\n",
      "[CV] C=10, class_weight={0: 1, 1: 2}, gamma=0.01, kernel=linear ......\n"
     ]
    },
    {
     "name": "stderr",
     "output_type": "stream",
     "text": [
      "[Parallel(n_jobs=-1)]: Done  97 tasks      | elapsed: 17.2min\n"
     ]
    },
    {
     "name": "stdout",
     "output_type": "stream",
     "text": [
      "[CV]  C=10, class_weight={0: 1, 1: 2}, gamma=0.01, kernel=linear, score=0.8142610695802185, total=  54.0s\n",
      "[CV] C=10, class_weight={0: 1, 1: 2}, gamma=0.01, kernel=rbf .........\n"
     ]
    },
    {
     "name": "stderr",
     "output_type": "stream",
     "text": [
      "[Parallel(n_jobs=-1)]: Done  98 tasks      | elapsed: 17.4min\n"
     ]
    },
    {
     "name": "stdout",
     "output_type": "stream",
     "text": [
      "[CV]  C=10, class_weight={0: 1, 1: 2}, gamma=0.01, kernel=rbf, score=0.8265056777346558, total=  13.5s\n",
      "[CV] C=10, class_weight={0: 1, 1: 2}, gamma=0.01, kernel=rbf .........\n"
     ]
    },
    {
     "name": "stderr",
     "output_type": "stream",
     "text": [
      "[Parallel(n_jobs=-1)]: Done  99 tasks      | elapsed: 17.7min\n"
     ]
    },
    {
     "name": "stdout",
     "output_type": "stream",
     "text": [
      "[CV]  C=10, class_weight={0: 1, 1: 2}, gamma=0.01, kernel=rbf, score=0.8238930419781484, total=  13.7s\n",
      "[CV] C=10, class_weight={0: 1, 1: 2}, gamma=0.01, kernel=rbf .........\n"
     ]
    },
    {
     "name": "stderr",
     "output_type": "stream",
     "text": [
      "[Parallel(n_jobs=-1)]: Done 100 tasks      | elapsed: 18.0min\n"
     ]
    },
    {
     "name": "stdout",
     "output_type": "stream",
     "text": [
      "[CV]  C=10, class_weight={0: 1, 1: 2}, gamma=0.01, kernel=linear, score=0.7979870596693026, total=  52.5s\n",
      "[CV] C=10, class_weight={0: 1, 1: 2}, gamma=0.1, kernel=linear .......\n"
     ]
    },
    {
     "name": "stderr",
     "output_type": "stream",
     "text": [
      "[Parallel(n_jobs=-1)]: Done 101 tasks      | elapsed: 18.2min\n"
     ]
    },
    {
     "name": "stdout",
     "output_type": "stream",
     "text": [
      "[CV]  C=10, class_weight={0: 1, 1: 2}, gamma=0.01, kernel=rbf, score=0.8132278936017254, total=  13.0s\n",
      "[CV] C=10, class_weight={0: 1, 1: 2}, gamma=0.1, kernel=linear .......\n"
     ]
    },
    {
     "name": "stderr",
     "output_type": "stream",
     "text": [
      "[Parallel(n_jobs=-1)]: Done 102 tasks      | elapsed: 18.3min\n"
     ]
    },
    {
     "name": "stdout",
     "output_type": "stream",
     "text": [
      "[CV]  C=10, class_weight={0: 1, 1: 2}, gamma=0.1, kernel=linear, score=0.8117004455943654, total=  56.6s\n",
      "[CV] C=10, class_weight={0: 1, 1: 2}, gamma=0.1, kernel=linear .......\n"
     ]
    },
    {
     "name": "stderr",
     "output_type": "stream",
     "text": [
      "[Parallel(n_jobs=-1)]: Done 103 tasks      | elapsed: 19.2min\n"
     ]
    },
    {
     "name": "stdout",
     "output_type": "stream",
     "text": [
      "[CV]  C=10, class_weight={0: 1, 1: 2}, gamma=0.1, kernel=linear, score=0.8142610695802185, total=  54.2s\n",
      "[CV] C=10, class_weight={0: 1, 1: 2}, gamma=0.1, kernel=rbf ..........\n"
     ]
    },
    {
     "name": "stderr",
     "output_type": "stream",
     "text": [
      "[Parallel(n_jobs=-1)]: Done 104 tasks      | elapsed: 19.3min\n"
     ]
    },
    {
     "name": "stdout",
     "output_type": "stream",
     "text": [
      "[CV]  C=10, class_weight={0: 1, 1: 2}, gamma=0.1, kernel=rbf, score=0.8124191461836999, total=  17.2s\n",
      "[CV] C=10, class_weight={0: 1, 1: 2}, gamma=0.1, kernel=rbf ..........\n"
     ]
    },
    {
     "name": "stderr",
     "output_type": "stream",
     "text": [
      "[Parallel(n_jobs=-1)]: Done 105 tasks      | elapsed: 19.6min\n"
     ]
    },
    {
     "name": "stdout",
     "output_type": "stream",
     "text": [
      "[CV]  C=10, class_weight={0: 1, 1: 2}, gamma=0.1, kernel=rbf, score=0.8133985048878666, total=  17.3s\n",
      "[CV] C=10, class_weight={0: 1, 1: 2}, gamma=0.1, kernel=rbf ..........\n",
      "[CV]  C=10, class_weight={0: 1, 1: 2}, gamma=0.1, kernel=linear, score=0.7979870596693026, total=  52.1s\n",
      "[CV]  C=10, class_weight={0: 1, 1: 2}, gamma=0.1, kernel=rbf, score=0.8080517613227893, total=  11.6s\n"
     ]
    },
    {
     "name": "stderr",
     "output_type": "stream",
     "text": [
      "[Parallel(n_jobs=-1)]: Done 108 out of 108 | elapsed: 20.3min remaining:    0.0s\n",
      "[Parallel(n_jobs=-1)]: Done 108 out of 108 | elapsed: 20.3min finished\n"
     ]
    },
    {
     "data": {
      "text/plain": [
       "GridSearchCV(cv=None, error_score='raise',\n",
       "       estimator=SVC(C=1.0, cache_size=100000, class_weight=None, coef0=0.0,\n",
       "  decision_function_shape='ovr', degree=3, gamma='auto', kernel='rbf',\n",
       "  max_iter=-1, probability=False, random_state=None, shrinking=True,\n",
       "  tol=0.001, verbose=False),\n",
       "       fit_params=None, iid=True, n_jobs=-1,\n",
       "       param_grid={'class_weight': [{0: 1, 1: 1}, {0: 1, 1: 2}], 'C': [0.1, 1, 10], 'gamma': [0.001, 0.01, 0.1], 'kernel': ['linear', 'rbf']},\n",
       "       pre_dispatch='2*n_jobs', refit=True, return_train_score='warn',\n",
       "       scoring=None, verbose=45)"
      ]
     },
     "execution_count": 54,
     "metadata": {
      "tags": []
     },
     "output_type": "execute_result"
    }
   ],
   "source": [
    "params = {'class_weight': [{0: 1, 1: 1}, {0: 1, 1: 2}],\n",
    "          'C': [0.1,1, 10],\n",
    "          'gamma': [0.001, 0.01, 0.1],\n",
    "          'kernel':['linear','rbf'] }\n",
    "\n",
    "svm_grid_clf = GridSearchCV(estimator=svm.SVC(cache_size=100000), param_grid= params, n_jobs=-1,verbose=45)\n",
    "\n",
    "svm_grid_clf.fit(X_train,Y_train)"
   ]
  },
  {
   "cell_type": "code",
   "execution_count": 57,
   "metadata": {
    "colab": {
     "base_uri": "https://localhost:8080/",
     "height": 34
    },
    "colab_type": "code",
    "executionInfo": {
     "elapsed": 862,
     "status": "ok",
     "timestamp": 1542711263939,
     "user": {
      "displayName": "Peeyush Pashine",
      "photoUrl": "https://lh5.googleusercontent.com/-sNgCGZttImM/AAAAAAAAAAI/AAAAAAAAJqs/--tJGyr1HoA/s64/photo.jpg",
      "userId": "04609544948525849579"
     },
     "user_tz": -330
    },
    "id": "TglQ0VCyVYuT",
    "outputId": "6aec4771-7990-4772-c0ff-79566efe61ed"
   },
   "outputs": [
    {
     "data": {
      "text/plain": [
       "{'C': 1, 'class_weight': {0: 1, 1: 1}, 'gamma': 0.1, 'kernel': 'rbf'}"
      ]
     },
     "execution_count": 57,
     "metadata": {
      "tags": []
     },
     "output_type": "execute_result"
    }
   ],
   "source": [
    "svm_grid_clf.best_params_"
   ]
  },
  {
   "cell_type": "code",
   "execution_count": 58,
   "metadata": {
    "colab": {
     "base_uri": "https://localhost:8080/",
     "height": 34
    },
    "colab_type": "code",
    "executionInfo": {
     "elapsed": 711,
     "status": "ok",
     "timestamp": 1542711366647,
     "user": {
      "displayName": "Peeyush Pashine",
      "photoUrl": "https://lh5.googleusercontent.com/-sNgCGZttImM/AAAAAAAAAAI/AAAAAAAAJqs/--tJGyr1HoA/s64/photo.jpg",
      "userId": "04609544948525849579"
     },
     "user_tz": -330
    },
    "id": "4dHFHgQ8VYuc",
    "outputId": "d03a5999-26ba-43d8-ad0b-98f7deb4dd9f"
   },
   "outputs": [
    {
     "data": {
      "text/plain": [
       "0.8394192064404831"
      ]
     },
     "execution_count": 58,
     "metadata": {
      "tags": []
     },
     "output_type": "execute_result"
    }
   ],
   "source": [
    "svm_grid_clf.best_score_"
   ]
  },
  {
   "cell_type": "markdown",
   "metadata": {},
   "source": [
    "<div class=\"alert alert-block alert-info\">\n",
    "* As we can observe that even after tuning model with best hyperparameters the accuracy does not improve. It is due to the fact that we might have to iterate over a large set of hyperparameters to find the best accuracy, while base SVM model provided a better accuracy. This also depends on the kind of data we have. \n",
    "\n",
    "* However it is a best practice to tune the model  "
   ]
  },
  {
   "cell_type": "markdown",
   "metadata": {},
   "source": [
    "<div class=\"alert alert-block alert-success\">\n",
    "* We found best C, gamma and kernel value from the tuning before, we can use coarse grid to further tune the model for a known range of C, gamma. This is a good practice to focus on a short range of value"
   ]
  },
  {
   "cell_type": "code",
   "execution_count": 69,
   "metadata": {
    "colab": {
     "base_uri": "https://localhost:8080/",
     "height": 4183
    },
    "colab_type": "code",
    "executionInfo": {
     "elapsed": 1648377,
     "status": "ok",
     "timestamp": 1542718393161,
     "user": {
      "displayName": "Peeyush Pashine",
      "photoUrl": "https://lh5.googleusercontent.com/-sNgCGZttImM/AAAAAAAAAAI/AAAAAAAAJqs/--tJGyr1HoA/s64/photo.jpg",
      "userId": "04609544948525849579"
     },
     "user_tz": -330
    },
    "id": "S_MGGC6rVYuh",
    "outputId": "985110a5-cb98-42f6-a3d7-1e4c671aa614"
   },
   "outputs": [
    {
     "name": "stdout",
     "output_type": "stream",
     "text": [
      "Fitting 5 folds for each of 16 candidates, totalling 80 fits\n",
      "[CV] C=1.0, gamma=0.1, kernel=rbf ....................................\n",
      "[CV] C=1.0, gamma=0.1, kernel=rbf ....................................\n",
      "[CV]  C=1.0, gamma=0.1, kernel=rbf, score=0.8322951605174892, total=  16.1s\n",
      "[CV] C=1.0, gamma=0.1, kernel=rbf ....................................\n"
     ]
    },
    {
     "name": "stderr",
     "output_type": "stream",
     "text": [
      "[Parallel(n_jobs=-1)]: Done   1 tasks      | elapsed:   23.7s\n"
     ]
    },
    {
     "name": "stdout",
     "output_type": "stream",
     "text": [
      "[CV]  C=1.0, gamma=0.1, kernel=rbf, score=0.8488260661236224, total=  16.2s\n",
      "[CV] C=1.0, gamma=0.1, kernel=rbf ....................................\n"
     ]
    },
    {
     "name": "stderr",
     "output_type": "stream",
     "text": [
      "[Parallel(n_jobs=-1)]: Done   2 tasks      | elapsed:   23.9s\n"
     ]
    },
    {
     "name": "stdout",
     "output_type": "stream",
     "text": [
      "[CV]  C=1.0, gamma=0.1, kernel=rbf, score=0.8442740776233828, total=  15.2s\n",
      "[CV] C=1.0, gamma=0.1, kernel=rbf ....................................\n",
      "[CV]  C=1.0, gamma=0.1, kernel=rbf, score=0.8346513299784328, total=  15.1s\n",
      "[CV] C=1.0, gamma=0.4, kernel=rbf ....................................\n"
     ]
    },
    {
     "name": "stderr",
     "output_type": "stream",
     "text": [
      "[Parallel(n_jobs=-1)]: Done   3 tasks      | elapsed:   46.5s\n",
      "[Parallel(n_jobs=-1)]: Done   4 tasks      | elapsed:   46.6s\n"
     ]
    },
    {
     "name": "stdout",
     "output_type": "stream",
     "text": [
      "[CV]  C=1.0, gamma=0.1, kernel=rbf, score=0.8365684160076683, total=  14.4s\n",
      "[CV] C=1.0, gamma=0.4, kernel=rbf ....................................\n"
     ]
    },
    {
     "name": "stderr",
     "output_type": "stream",
     "text": [
      "[Parallel(n_jobs=-1)]: Done   5 tasks      | elapsed:  1.1min\n"
     ]
    },
    {
     "name": "stdout",
     "output_type": "stream",
     "text": [
      "[CV]  C=1.0, gamma=0.4, kernel=rbf, score=0.8344513655965501, total=  23.3s\n",
      "[CV] C=1.0, gamma=0.4, kernel=rbf ....................................\n"
     ]
    },
    {
     "name": "stderr",
     "output_type": "stream",
     "text": [
      "[Parallel(n_jobs=-1)]: Done   6 tasks      | elapsed:  1.3min\n"
     ]
    },
    {
     "name": "stdout",
     "output_type": "stream",
     "text": [
      "[CV]  C=1.0, gamma=0.4, kernel=rbf, score=0.8155246765692381, total=  23.2s\n",
      "[CV] C=1.0, gamma=0.4, kernel=rbf ....................................\n"
     ]
    },
    {
     "name": "stderr",
     "output_type": "stream",
     "text": [
      "[Parallel(n_jobs=-1)]: Done   7 tasks      | elapsed:  1.7min\n"
     ]
    },
    {
     "name": "stdout",
     "output_type": "stream",
     "text": [
      "[CV]  C=1.0, gamma=0.4, kernel=rbf, score=0.8320555821753713, total=  23.0s\n",
      "[CV] C=1.0, gamma=0.4, kernel=rbf ....................................\n"
     ]
    },
    {
     "name": "stderr",
     "output_type": "stream",
     "text": [
      "[Parallel(n_jobs=-1)]: Done   8 tasks      | elapsed:  1.9min\n"
     ]
    },
    {
     "name": "stdout",
     "output_type": "stream",
     "text": [
      "[CV]  C=1.0, gamma=0.4, kernel=rbf, score=0.8183560987299305, total=  22.6s\n",
      "[CV] C=1.0, gamma=0.7, kernel=rbf ....................................\n"
     ]
    },
    {
     "name": "stderr",
     "output_type": "stream",
     "text": [
      "[Parallel(n_jobs=-1)]: Done   9 tasks      | elapsed:  2.3min\n"
     ]
    },
    {
     "name": "stdout",
     "output_type": "stream",
     "text": [
      "[CV]  C=1.0, gamma=0.4, kernel=rbf, score=0.8277018931224539, total=  22.4s\n",
      "[CV] C=1.0, gamma=0.7, kernel=rbf ....................................\n"
     ]
    },
    {
     "name": "stderr",
     "output_type": "stream",
     "text": [
      "[Parallel(n_jobs=-1)]: Done  10 tasks      | elapsed:  2.5min\n"
     ]
    },
    {
     "name": "stdout",
     "output_type": "stream",
     "text": [
      "[CV]  C=1.0, gamma=0.7, kernel=rbf, score=0.8150455198850024, total=  27.4s\n",
      "[CV] C=1.0, gamma=0.7, kernel=rbf ....................................\n"
     ]
    },
    {
     "name": "stderr",
     "output_type": "stream",
     "text": [
      "[Parallel(n_jobs=-1)]: Done  11 tasks      | elapsed:  2.9min\n"
     ]
    },
    {
     "name": "stdout",
     "output_type": "stream",
     "text": [
      "[CV]  C=1.0, gamma=0.7, kernel=rbf, score=0.8040249161475802, total=  27.1s\n",
      "[CV] C=1.0, gamma=0.7, kernel=rbf ....................................\n"
     ]
    },
    {
     "name": "stderr",
     "output_type": "stream",
     "text": [
      "[Parallel(n_jobs=-1)]: Done  12 tasks      | elapsed:  3.1min\n"
     ]
    },
    {
     "name": "stdout",
     "output_type": "stream",
     "text": [
      "[CV]  C=1.0, gamma=0.7, kernel=rbf, score=0.8191183517010062, total=  26.3s\n",
      "[CV] C=1.0, gamma=0.7, kernel=rbf ....................................\n"
     ]
    },
    {
     "name": "stderr",
     "output_type": "stream",
     "text": [
      "[Parallel(n_jobs=-1)]: Done  13 tasks      | elapsed:  3.6min\n"
     ]
    },
    {
     "name": "stdout",
     "output_type": "stream",
     "text": [
      "[CV]  C=1.0, gamma=0.7, kernel=rbf, score=0.8085310328300982, total=  27.2s\n",
      "[CV] C=1.0, gamma=1.0, kernel=rbf ....................................\n"
     ]
    },
    {
     "name": "stderr",
     "output_type": "stream",
     "text": [
      "[Parallel(n_jobs=-1)]: Done  14 tasks      | elapsed:  3.8min\n"
     ]
    },
    {
     "name": "stdout",
     "output_type": "stream",
     "text": [
      "[CV]  C=1.0, gamma=0.7, kernel=rbf, score=0.8082913970764438, total=  26.4s\n",
      "[CV] C=1.0, gamma=1.0, kernel=rbf ....................................\n"
     ]
    },
    {
     "name": "stderr",
     "output_type": "stream",
     "text": [
      "[Parallel(n_jobs=-1)]: Done  15 tasks      | elapsed:  4.3min\n"
     ]
    },
    {
     "name": "stdout",
     "output_type": "stream",
     "text": [
      "[CV]  C=1.0, gamma=1.0, kernel=rbf, score=0.8018687110685194, total=  35.7s\n",
      "[CV] C=1.0, gamma=1.0, kernel=rbf ....................................\n"
     ]
    },
    {
     "name": "stderr",
     "output_type": "stream",
     "text": [
      "[Parallel(n_jobs=-1)]: Done  16 tasks      | elapsed:  4.7min\n"
     ]
    },
    {
     "name": "stdout",
     "output_type": "stream",
     "text": [
      "[CV]  C=1.0, gamma=1.0, kernel=rbf, score=0.7946813608049832, total=  34.3s\n",
      "[CV] C=1.0, gamma=1.0, kernel=rbf ....................................\n"
     ]
    },
    {
     "name": "stderr",
     "output_type": "stream",
     "text": [
      "[Parallel(n_jobs=-1)]: Done  17 tasks      | elapsed:  5.1min\n"
     ]
    },
    {
     "name": "stdout",
     "output_type": "stream",
     "text": [
      "[CV]  C=1.0, gamma=1.0, kernel=rbf, score=0.8073790129372305, total=  31.8s\n",
      "[CV] C=1.0, gamma=1.0, kernel=rbf ....................................\n"
     ]
    },
    {
     "name": "stderr",
     "output_type": "stream",
     "text": [
      "[Parallel(n_jobs=-1)]: Done  18 tasks      | elapsed:  5.4min\n"
     ]
    },
    {
     "name": "stdout",
     "output_type": "stream",
     "text": [
      "[CV]  C=1.0, gamma=1.0, kernel=rbf, score=0.7955907021327582, total=  31.5s\n",
      "[CV] C=4.0, gamma=0.1, kernel=rbf ....................................\n"
     ]
    },
    {
     "name": "stderr",
     "output_type": "stream",
     "text": [
      "[Parallel(n_jobs=-1)]: Done  19 tasks      | elapsed:  5.9min\n"
     ]
    },
    {
     "name": "stdout",
     "output_type": "stream",
     "text": [
      "[CV]  C=1.0, gamma=1.0, kernel=rbf, score=0.7967888809010304, total=  33.2s\n",
      "[CV] C=4.0, gamma=0.1, kernel=rbf ....................................\n"
     ]
    },
    {
     "name": "stderr",
     "output_type": "stream",
     "text": [
      "[Parallel(n_jobs=-1)]: Done  20 tasks      | elapsed:  6.2min\n"
     ]
    },
    {
     "name": "stdout",
     "output_type": "stream",
     "text": [
      "[CV]  C=4.0, gamma=0.1, kernel=rbf, score=0.845951126018208, total=  16.6s\n",
      "[CV] C=4.0, gamma=0.1, kernel=rbf ....................................\n"
     ]
    },
    {
     "name": "stderr",
     "output_type": "stream",
     "text": [
      "[Parallel(n_jobs=-1)]: Done  21 tasks      | elapsed:  6.3min\n"
     ]
    },
    {
     "name": "stdout",
     "output_type": "stream",
     "text": [
      "[CV]  C=4.0, gamma=0.1, kernel=rbf, score=0.830857690464782, total=  18.0s\n",
      "[CV] C=4.0, gamma=0.1, kernel=rbf ....................................\n"
     ]
    },
    {
     "name": "stderr",
     "output_type": "stream",
     "text": [
      "[Parallel(n_jobs=-1)]: Done  22 tasks      | elapsed:  6.7min\n"
     ]
    },
    {
     "name": "stdout",
     "output_type": "stream",
     "text": [
      "[CV]  C=4.0, gamma=0.1, kernel=rbf, score=0.844034499281265, total=  18.1s\n",
      "[CV] C=4.0, gamma=0.1, kernel=rbf ....................................\n"
     ]
    },
    {
     "name": "stderr",
     "output_type": "stream",
     "text": [
      "[Parallel(n_jobs=-1)]: Done  23 tasks      | elapsed:  6.7min\n"
     ]
    },
    {
     "name": "stdout",
     "output_type": "stream",
     "text": [
      "[CV]  C=4.0, gamma=0.1, kernel=rbf, score=0.8310567936736161, total=  18.0s\n",
      "[CV] C=4.0, gamma=0.4, kernel=rbf ....................................\n"
     ]
    },
    {
     "name": "stderr",
     "output_type": "stream",
     "text": [
      "[Parallel(n_jobs=-1)]: Done  24 tasks      | elapsed:  7.1min\n"
     ]
    },
    {
     "name": "stdout",
     "output_type": "stream",
     "text": [
      "[CV]  C=4.0, gamma=0.1, kernel=rbf, score=0.8372873232686316, total=  17.6s\n",
      "[CV] C=4.0, gamma=0.4, kernel=rbf ....................................\n"
     ]
    },
    {
     "name": "stderr",
     "output_type": "stream",
     "text": [
      "[Parallel(n_jobs=-1)]: Done  25 tasks      | elapsed:  7.1min\n"
     ]
    },
    {
     "name": "stdout",
     "output_type": "stream",
     "text": [
      "[CV]  C=4.0, gamma=0.4, kernel=rbf, score=0.8200766650694777, total=  26.9s\n",
      "[CV] C=4.0, gamma=0.4, kernel=rbf ....................................\n"
     ]
    },
    {
     "name": "stderr",
     "output_type": "stream",
     "text": [
      "[Parallel(n_jobs=-1)]: Done  26 tasks      | elapsed:  7.7min\n"
     ]
    },
    {
     "name": "stdout",
     "output_type": "stream",
     "text": [
      "[CV]  C=4.0, gamma=0.4, kernel=rbf, score=0.808337326305702, total=  26.3s\n",
      "[CV] C=4.0, gamma=0.4, kernel=rbf ....................................\n"
     ]
    },
    {
     "name": "stderr",
     "output_type": "stream",
     "text": [
      "[Parallel(n_jobs=-1)]: Done  27 tasks      | elapsed:  7.7min\n"
     ]
    },
    {
     "name": "stdout",
     "output_type": "stream",
     "text": [
      "[CV]  C=4.0, gamma=0.4, kernel=rbf, score=0.8188787733588884, total=  26.2s\n",
      "[CV] C=4.0, gamma=0.4, kernel=rbf ....................................\n"
     ]
    },
    {
     "name": "stderr",
     "output_type": "stream",
     "text": [
      "[Parallel(n_jobs=-1)]: Done  28 tasks      | elapsed:  8.3min\n"
     ]
    },
    {
     "name": "stdout",
     "output_type": "stream",
     "text": [
      "[CV]  C=4.0, gamma=0.4, kernel=rbf, score=0.8145219266714594, total=  26.3s\n",
      "[CV] C=4.0, gamma=0.7, kernel=rbf ....................................\n"
     ]
    },
    {
     "name": "stderr",
     "output_type": "stream",
     "text": [
      "[Parallel(n_jobs=-1)]: Done  29 tasks      | elapsed:  8.3min\n"
     ]
    },
    {
     "name": "stdout",
     "output_type": "stream",
     "text": [
      "[CV]  C=4.0, gamma=0.4, kernel=rbf, score=0.8147615624251138, total=  25.5s\n",
      "[CV] C=4.0, gamma=0.7, kernel=rbf ....................................\n"
     ]
    },
    {
     "name": "stderr",
     "output_type": "stream",
     "text": [
      "[Parallel(n_jobs=-1)]: Done  30 tasks      | elapsed:  8.9min\n"
     ]
    },
    {
     "name": "stdout",
     "output_type": "stream",
     "text": [
      "[CV]  C=4.0, gamma=0.7, kernel=rbf, score=0.806420699568759, total=  39.2s\n",
      "[CV] C=4.0, gamma=0.7, kernel=rbf ....................................\n"
     ]
    },
    {
     "name": "stderr",
     "output_type": "stream",
     "text": [
      "[Parallel(n_jobs=-1)]: Done  31 tasks      | elapsed:  9.2min\n"
     ]
    },
    {
     "name": "stdout",
     "output_type": "stream",
     "text": [
      "[CV]  C=4.0, gamma=0.7, kernel=rbf, score=0.7934834690943938, total=  37.8s\n",
      "[CV] C=4.0, gamma=0.7, kernel=rbf ....................................\n"
     ]
    },
    {
     "name": "stderr",
     "output_type": "stream",
     "text": [
      "[Parallel(n_jobs=-1)]: Done  32 tasks      | elapsed:  9.8min\n"
     ]
    },
    {
     "name": "stdout",
     "output_type": "stream",
     "text": [
      "[CV]  C=4.0, gamma=0.7, kernel=rbf, score=0.8066602779108769, total=  35.4s\n",
      "[CV] C=4.0, gamma=0.7, kernel=rbf ....................................\n"
     ]
    },
    {
     "name": "stderr",
     "output_type": "stream",
     "text": [
      "[Parallel(n_jobs=-1)]: Done  33 tasks      | elapsed: 10.0min\n"
     ]
    },
    {
     "name": "stdout",
     "output_type": "stream",
     "text": [
      "[CV]  C=4.0, gamma=0.7, kernel=rbf, score=0.8066139468008627, total=  38.7s\n",
      "[CV] C=4.0, gamma=1.0, kernel=rbf ....................................\n"
     ]
    },
    {
     "name": "stderr",
     "output_type": "stream",
     "text": [
      "[Parallel(n_jobs=-1)]: Done  34 tasks      | elapsed: 10.6min\n"
     ]
    },
    {
     "name": "stdout",
     "output_type": "stream",
     "text": [
      "[CV]  C=4.0, gamma=0.7, kernel=rbf, score=0.8025401389887371, total=  42.9s\n",
      "[CV] C=4.0, gamma=1.0, kernel=rbf ....................................\n"
     ]
    },
    {
     "name": "stderr",
     "output_type": "stream",
     "text": [
      "[Parallel(n_jobs=-1)]: Done  35 tasks      | elapsed: 10.9min\n"
     ]
    },
    {
     "name": "stdout",
     "output_type": "stream",
     "text": [
      "[CV]  C=4.0, gamma=1.0, kernel=rbf, score=0.798993770963105, total=  37.7s\n",
      "[CV] C=4.0, gamma=1.0, kernel=rbf ....................................\n"
     ]
    },
    {
     "name": "stderr",
     "output_type": "stream",
     "text": [
      "[Parallel(n_jobs=-1)]: Done  36 tasks      | elapsed: 11.5min\n"
     ]
    },
    {
     "name": "stdout",
     "output_type": "stream",
     "text": [
      "[CV]  C=4.0, gamma=1.0, kernel=rbf, score=0.7877335888835649, total=  41.5s\n",
      "[CV] C=4.0, gamma=1.0, kernel=rbf ....................................\n"
     ]
    },
    {
     "name": "stderr",
     "output_type": "stream",
     "text": [
      "[Parallel(n_jobs=-1)]: Done  37 tasks      | elapsed: 11.9min\n"
     ]
    },
    {
     "name": "stdout",
     "output_type": "stream",
     "text": [
      "[CV]  C=4.0, gamma=1.0, kernel=rbf, score=0.7944417824628653, total=  39.7s\n",
      "[CV] C=4.0, gamma=1.0, kernel=rbf ....................................\n"
     ]
    },
    {
     "name": "stderr",
     "output_type": "stream",
     "text": [
      "[Parallel(n_jobs=-1)]: Done  38 tasks      | elapsed: 12.4min\n"
     ]
    },
    {
     "name": "stdout",
     "output_type": "stream",
     "text": [
      "[CV]  C=4.0, gamma=1.0, kernel=rbf, score=0.7977474239156482, total=  36.5s\n",
      "[CV] C=7.0, gamma=0.1, kernel=rbf ....................................\n"
     ]
    },
    {
     "name": "stderr",
     "output_type": "stream",
     "text": [
      "[Parallel(n_jobs=-1)]: Done  39 tasks      | elapsed: 12.7min\n"
     ]
    },
    {
     "name": "stdout",
     "output_type": "stream",
     "text": [
      "[CV]  C=7.0, gamma=0.1, kernel=rbf, score=0.8452323909918543, total=  18.9s\n",
      "[CV] C=7.0, gamma=0.1, kernel=rbf ....................................\n"
     ]
    },
    {
     "name": "stderr",
     "output_type": "stream",
     "text": [
      "[Parallel(n_jobs=-1)]: Done  40 tasks      | elapsed: 13.2min\n"
     ]
    },
    {
     "name": "stdout",
     "output_type": "stream",
     "text": [
      "[CV]  C=4.0, gamma=1.0, kernel=rbf, score=0.7927150730889049, total=  39.4s\n",
      "[CV] C=7.0, gamma=0.1, kernel=rbf ....................................\n"
     ]
    },
    {
     "name": "stderr",
     "output_type": "stream",
     "text": [
      "[Parallel(n_jobs=-1)]: Done  41 tasks      | elapsed: 13.3min\n"
     ]
    },
    {
     "name": "stdout",
     "output_type": "stream",
     "text": [
      "[CV]  C=7.0, gamma=0.1, kernel=rbf, score=0.8279827503593675, total=  18.2s\n",
      "[CV] C=7.0, gamma=0.1, kernel=rbf ....................................\n"
     ]
    },
    {
     "name": "stderr",
     "output_type": "stream",
     "text": [
      "[Parallel(n_jobs=-1)]: Done  42 tasks      | elapsed: 13.6min\n"
     ]
    },
    {
     "name": "stdout",
     "output_type": "stream",
     "text": [
      "[CV]  C=7.0, gamma=0.1, kernel=rbf, score=0.8406804024916148, total=  19.0s\n",
      "[CV] C=7.0, gamma=0.1, kernel=rbf ....................................\n"
     ]
    },
    {
     "name": "stderr",
     "output_type": "stream",
     "text": [
      "[Parallel(n_jobs=-1)]: Done  43 tasks      | elapsed: 13.7min\n"
     ]
    },
    {
     "name": "stdout",
     "output_type": "stream",
     "text": [
      "[CV]  C=7.0, gamma=0.1, kernel=rbf, score=0.8286604361370716, total=  18.5s\n",
      "[CV] C=7.0, gamma=0.4, kernel=rbf ....................................\n"
     ]
    },
    {
     "name": "stderr",
     "output_type": "stream",
     "text": [
      "[Parallel(n_jobs=-1)]: Done  44 tasks      | elapsed: 14.0min\n"
     ]
    },
    {
     "name": "stdout",
     "output_type": "stream",
     "text": [
      "[CV]  C=7.0, gamma=0.1, kernel=rbf, score=0.8332135154565061, total=  18.2s\n",
      "[CV] C=7.0, gamma=0.4, kernel=rbf ....................................\n"
     ]
    },
    {
     "name": "stderr",
     "output_type": "stream",
     "text": [
      "[Parallel(n_jobs=-1)]: Done  45 tasks      | elapsed: 14.2min\n"
     ]
    },
    {
     "name": "stdout",
     "output_type": "stream",
     "text": [
      "[CV]  C=7.0, gamma=0.4, kernel=rbf, score=0.8157642549113561, total=  26.6s\n",
      "[CV] C=7.0, gamma=0.4, kernel=rbf ....................................\n"
     ]
    },
    {
     "name": "stderr",
     "output_type": "stream",
     "text": [
      "[Parallel(n_jobs=-1)]: Done  46 tasks      | elapsed: 14.6min\n"
     ]
    },
    {
     "name": "stdout",
     "output_type": "stream",
     "text": [
      "[CV]  C=7.0, gamma=0.4, kernel=rbf, score=0.8033061811212266, total=  26.6s\n",
      "[CV] C=7.0, gamma=0.4, kernel=rbf ....................................\n"
     ]
    },
    {
     "name": "stderr",
     "output_type": "stream",
     "text": [
      "[Parallel(n_jobs=-1)]: Done  47 tasks      | elapsed: 14.8min\n"
     ]
    },
    {
     "name": "stdout",
     "output_type": "stream",
     "text": [
      "[CV]  C=7.0, gamma=0.4, kernel=rbf, score=0.8150455198850024, total=  27.1s\n",
      "[CV] C=7.0, gamma=0.4, kernel=rbf ....................................\n"
     ]
    },
    {
     "name": "stderr",
     "output_type": "stream",
     "text": [
      "[Parallel(n_jobs=-1)]: Done  48 tasks      | elapsed: 15.3min\n"
     ]
    },
    {
     "name": "stdout",
     "output_type": "stream",
     "text": [
      "[CV]  C=7.0, gamma=0.4, kernel=rbf, score=0.8092499400910615, total=  27.8s\n",
      "[CV] C=7.0, gamma=0.7, kernel=rbf ....................................\n"
     ]
    },
    {
     "name": "stderr",
     "output_type": "stream",
     "text": [
      "[Parallel(n_jobs=-1)]: Done  49 tasks      | elapsed: 15.4min\n"
     ]
    },
    {
     "name": "stdout",
     "output_type": "stream",
     "text": [
      "[CV]  C=7.0, gamma=0.4, kernel=rbf, score=0.811646297627606, total=  26.5s\n",
      "[CV] C=7.0, gamma=0.7, kernel=rbf ....................................\n"
     ]
    },
    {
     "name": "stderr",
     "output_type": "stream",
     "text": [
      "[Parallel(n_jobs=-1)]: Done  50 tasks      | elapsed: 15.9min\n"
     ]
    },
    {
     "name": "stdout",
     "output_type": "stream",
     "text": [
      "[CV]  C=7.0, gamma=0.7, kernel=rbf, score=0.8018687110685194, total=  38.4s\n",
      "[CV] C=7.0, gamma=0.7, kernel=rbf ....................................\n"
     ]
    },
    {
     "name": "stderr",
     "output_type": "stream",
     "text": [
      "[Parallel(n_jobs=-1)]: Done  51 tasks      | elapsed: 16.3min\n"
     ]
    },
    {
     "name": "stdout",
     "output_type": "stream",
     "text": [
      "[CV]  C=7.0, gamma=0.7, kernel=rbf, score=0.7898897939626258, total=  38.8s\n",
      "[CV] C=7.0, gamma=0.7, kernel=rbf ....................................\n"
     ]
    },
    {
     "name": "stderr",
     "output_type": "stream",
     "text": [
      "[Parallel(n_jobs=-1)]: Done  52 tasks      | elapsed: 16.7min\n"
     ]
    },
    {
     "name": "stdout",
     "output_type": "stream",
     "text": [
      "[CV]  C=7.0, gamma=0.7, kernel=rbf, score=0.8009103977000479, total=  36.5s\n",
      "[CV] C=7.0, gamma=0.7, kernel=rbf ....................................\n"
     ]
    },
    {
     "name": "stderr",
     "output_type": "stream",
     "text": [
      "[Parallel(n_jobs=-1)]: Done  53 tasks      | elapsed: 17.1min\n"
     ]
    },
    {
     "name": "stdout",
     "output_type": "stream",
     "text": [
      "[CV]  C=7.0, gamma=0.7, kernel=rbf, score=0.8042175892643182, total=  40.4s\n",
      "[CV] C=7.0, gamma=1.0, kernel=rbf ....................................\n"
     ]
    },
    {
     "name": "stderr",
     "output_type": "stream",
     "text": [
      "[Parallel(n_jobs=-1)]: Done  54 tasks      | elapsed: 17.6min\n"
     ]
    },
    {
     "name": "stdout",
     "output_type": "stream",
     "text": [
      "[CV]  C=7.0, gamma=0.7, kernel=rbf, score=0.7984663311766116, total=  39.3s\n",
      "[CV] C=7.0, gamma=1.0, kernel=rbf ....................................\n"
     ]
    },
    {
     "name": "stderr",
     "output_type": "stream",
     "text": [
      "[Parallel(n_jobs=-1)]: Done  55 tasks      | elapsed: 18.0min\n"
     ]
    },
    {
     "name": "stdout",
     "output_type": "stream",
     "text": [
      "[CV]  C=7.0, gamma=1.0, kernel=rbf, score=0.7915668423574509, total=  40.5s\n",
      "[CV] C=7.0, gamma=1.0, kernel=rbf ....................................\n"
     ]
    },
    {
     "name": "stderr",
     "output_type": "stream",
     "text": [
      "[Parallel(n_jobs=-1)]: Done  56 tasks      | elapsed: 18.5min\n"
     ]
    },
    {
     "name": "stdout",
     "output_type": "stream",
     "text": [
      "[CV]  C=7.0, gamma=1.0, kernel=rbf, score=0.7829420220412074, total=  38.3s\n",
      "[CV] C=7.0, gamma=1.0, kernel=rbf ....................................\n"
     ]
    },
    {
     "name": "stderr",
     "output_type": "stream",
     "text": [
      "[Parallel(n_jobs=-1)]: Done  57 tasks      | elapsed: 18.8min\n"
     ]
    },
    {
     "name": "stdout",
     "output_type": "stream",
     "text": [
      "[CV]  C=7.0, gamma=1.0, kernel=rbf, score=0.7918064206995687, total=  37.7s\n",
      "[CV] C=7.0, gamma=1.0, kernel=rbf ....................................\n"
     ]
    },
    {
     "name": "stderr",
     "output_type": "stream",
     "text": [
      "[Parallel(n_jobs=-1)]: Done  58 tasks      | elapsed: 19.4min\n"
     ]
    },
    {
     "name": "stdout",
     "output_type": "stream",
     "text": [
      "[CV]  C=7.0, gamma=1.0, kernel=rbf, score=0.7936736161035226, total=  37.6s\n",
      "[CV] C=10.0, gamma=0.1, kernel=rbf ...................................\n"
     ]
    },
    {
     "name": "stderr",
     "output_type": "stream",
     "text": [
      "[Parallel(n_jobs=-1)]: Done  59 tasks      | elapsed: 19.7min\n"
     ]
    },
    {
     "name": "stdout",
     "output_type": "stream",
     "text": [
      "[CV]  C=10.0, gamma=0.1, kernel=rbf, score=0.844034499281265, total=  19.9s\n",
      "[CV] C=10.0, gamma=0.1, kernel=rbf ...................................\n"
     ]
    },
    {
     "name": "stderr",
     "output_type": "stream",
     "text": [
      "[Parallel(n_jobs=-1)]: Done  60 tasks      | elapsed: 20.2min\n"
     ]
    },
    {
     "name": "stdout",
     "output_type": "stream",
     "text": [
      "[CV]  C=7.0, gamma=1.0, kernel=rbf, score=0.7867241792475438, total=  33.7s\n",
      "[CV] C=10.0, gamma=0.1, kernel=rbf ...................................\n"
     ]
    },
    {
     "name": "stderr",
     "output_type": "stream",
     "text": [
      "[Parallel(n_jobs=-1)]: Done  61 tasks      | elapsed: 20.2min\n"
     ]
    },
    {
     "name": "stdout",
     "output_type": "stream",
     "text": [
      "[CV]  C=10.0, gamma=0.1, kernel=rbf, score=0.827024436990896, total=  20.3s\n",
      "[CV] C=10.0, gamma=0.1, kernel=rbf ...................................\n"
     ]
    },
    {
     "name": "stderr",
     "output_type": "stream",
     "text": [
      "[Parallel(n_jobs=-1)]: Done  62 tasks      | elapsed: 20.6min\n"
     ]
    },
    {
     "name": "stdout",
     "output_type": "stream",
     "text": [
      "[CV]  C=10.0, gamma=0.1, kernel=rbf, score=0.8390033540967896, total=  20.8s\n",
      "[CV] C=10.0, gamma=0.1, kernel=rbf ...................................\n"
     ]
    },
    {
     "name": "stderr",
     "output_type": "stream",
     "text": [
      "[Parallel(n_jobs=-1)]: Done  63 tasks      | elapsed: 20.7min\n"
     ]
    },
    {
     "name": "stdout",
     "output_type": "stream",
     "text": [
      "[CV]  C=10.0, gamma=0.1, kernel=rbf, score=0.8286604361370716, total=  20.3s\n",
      "[CV] C=10.0, gamma=0.4, kernel=rbf ...................................\n"
     ]
    },
    {
     "name": "stderr",
     "output_type": "stream",
     "text": [
      "[Parallel(n_jobs=-1)]: Done  64 tasks      | elapsed: 21.1min\n"
     ]
    },
    {
     "name": "stdout",
     "output_type": "stream",
     "text": [
      "[CV]  C=10.0, gamma=0.1, kernel=rbf, score=0.8324946081955428, total=  19.9s\n",
      "[CV] C=10.0, gamma=0.4, kernel=rbf ...................................\n"
     ]
    },
    {
     "name": "stderr",
     "output_type": "stream",
     "text": [
      "[Parallel(n_jobs=-1)]: Done  65 tasks      | elapsed: 21.1min\n"
     ]
    },
    {
     "name": "stdout",
     "output_type": "stream",
     "text": [
      "[CV]  C=10.0, gamma=0.4, kernel=rbf, score=0.8119310014374701, total=  28.4s\n",
      "[CV] C=10.0, gamma=0.4, kernel=rbf ...................................\n"
     ]
    },
    {
     "name": "stderr",
     "output_type": "stream",
     "text": [
      "[Parallel(n_jobs=-1)]: Done  66 tasks      | elapsed: 21.7min\n"
     ]
    },
    {
     "name": "stdout",
     "output_type": "stream",
     "text": [
      "[CV]  C=10.0, gamma=0.4, kernel=rbf, score=0.7975563009103978, total=  28.5s\n",
      "[CV] C=10.0, gamma=0.4, kernel=rbf ...................................\n"
     ]
    },
    {
     "name": "stderr",
     "output_type": "stream",
     "text": [
      "[Parallel(n_jobs=-1)]: Done  67 tasks      | elapsed: 21.8min\n"
     ]
    },
    {
     "name": "stdout",
     "output_type": "stream",
     "text": [
      "[CV]  C=10.0, gamma=0.4, kernel=rbf, score=0.8114518447532343, total=  28.3s\n",
      "[CV] C=10.0, gamma=0.4, kernel=rbf ...................................\n"
     ]
    },
    {
     "name": "stderr",
     "output_type": "stream",
     "text": [
      "[Parallel(n_jobs=-1)]: Done  68 tasks      | elapsed: 22.4min\n"
     ]
    },
    {
     "name": "stdout",
     "output_type": "stream",
     "text": [
      "[CV]  C=10.0, gamma=0.4, kernel=rbf, score=0.8058950395398994, total=  28.3s\n",
      "[CV] C=10.0, gamma=0.7, kernel=rbf ...................................\n"
     ]
    },
    {
     "name": "stderr",
     "output_type": "stream",
     "text": [
      "[Parallel(n_jobs=-1)]: Done  69 tasks      | elapsed: 22.4min\n"
     ]
    },
    {
     "name": "stdout",
     "output_type": "stream",
     "text": [
      "[CV]  C=10.0, gamma=0.4, kernel=rbf, score=0.8085310328300982, total=  27.5s\n",
      "[CV] C=10.0, gamma=0.7, kernel=rbf ...................................\n"
     ]
    },
    {
     "name": "stderr",
     "output_type": "stream",
     "text": [
      "[Parallel(n_jobs=-1)]: Done  70 tasks      | elapsed: 23.0min\n"
     ]
    },
    {
     "name": "stdout",
     "output_type": "stream",
     "text": [
      "[CV]  C=10.0, gamma=0.7, kernel=rbf, score=0.798754192620987, total=  39.8s\n",
      "[CV] C=10.0, gamma=0.7, kernel=rbf ...................................\n"
     ]
    },
    {
     "name": "stderr",
     "output_type": "stream",
     "text": [
      "[Parallel(n_jobs=-1)]: Done  71 tasks      | elapsed: 23.3min\n"
     ]
    },
    {
     "name": "stdout",
     "output_type": "stream",
     "text": [
      "[CV]  C=10.0, gamma=0.7, kernel=rbf, score=0.7882127455678006, total=  41.9s\n",
      "[CV] C=10.0, gamma=0.7, kernel=rbf ...................................\n"
     ]
    },
    {
     "name": "stderr",
     "output_type": "stream",
     "text": [
      "[Parallel(n_jobs=-1)]: Done  72 tasks      | elapsed: 23.9min\n"
     ]
    },
    {
     "name": "stdout",
     "output_type": "stream",
     "text": [
      "[CV]  C=10.0, gamma=0.7, kernel=rbf, score=0.7997125059894585, total=  40.0s\n",
      "[CV] C=10.0, gamma=0.7, kernel=rbf ...................................\n"
     ]
    },
    {
     "name": "stderr",
     "output_type": "stream",
     "text": [
      "[Parallel(n_jobs=-1)]: Done  73 tasks      | elapsed: 24.1min\n"
     ]
    },
    {
     "name": "stdout",
     "output_type": "stream",
     "text": [
      "[CV]  C=10.0, gamma=0.7, kernel=rbf, score=0.8025401389887371, total=  39.5s\n",
      "[CV] C=10.0, gamma=1.0, kernel=rbf ...................................\n"
     ]
    },
    {
     "name": "stderr",
     "output_type": "stream",
     "text": [
      "[Parallel(n_jobs=-1)]: Done  74 tasks      | elapsed: 24.8min\n"
     ]
    },
    {
     "name": "stdout",
     "output_type": "stream",
     "text": [
      "[CV]  C=10.0, gamma=0.7, kernel=rbf, score=0.7975077881619937, total=  40.5s\n",
      "[CV] C=10.0, gamma=1.0, kernel=rbf ...................................\n"
     ]
    },
    {
     "name": "stderr",
     "output_type": "stream",
     "text": [
      "[Parallel(n_jobs=-1)]: Done  75 tasks      | elapsed: 25.0min\n"
     ]
    },
    {
     "name": "stdout",
     "output_type": "stream",
     "text": [
      "[CV]  C=10.0, gamma=1.0, kernel=rbf, score=0.78941063727839, total=  40.9s\n",
      "[CV] C=10.0, gamma=1.0, kernel=rbf ...................................\n"
     ]
    },
    {
     "name": "stderr",
     "output_type": "stream",
     "text": [
      "[Parallel(n_jobs=-1)]: Done  76 tasks      | elapsed: 25.7min\n"
     ]
    },
    {
     "name": "stdout",
     "output_type": "stream",
     "text": [
      "[CV]  C=10.0, gamma=1.0, kernel=rbf, score=0.7791087685673215, total=  39.2s\n",
      "[CV] C=10.0, gamma=1.0, kernel=rbf ...................................\n"
     ]
    },
    {
     "name": "stderr",
     "output_type": "stream",
     "text": [
      "[Parallel(n_jobs=-1)]: Done  77 tasks      | elapsed: 25.9min\n"
     ]
    },
    {
     "name": "stdout",
     "output_type": "stream",
     "text": [
      "[CV]  C=10.0, gamma=1.0, kernel=rbf, score=0.7903689506468615, total=  34.5s\n",
      "[CV] C=10.0, gamma=1.0, kernel=rbf ...................................\n",
      "[CV]  C=10.0, gamma=1.0, kernel=rbf, score=0.790079079798706, total=  42.2s\n",
      "[CV]  C=10.0, gamma=1.0, kernel=rbf, score=0.7860052719865804, total=  33.4s\n"
     ]
    },
    {
     "name": "stderr",
     "output_type": "stream",
     "text": [
      "[Parallel(n_jobs=-1)]: Done  80 out of  80 | elapsed: 27.2min finished\n"
     ]
    },
    {
     "data": {
      "text/plain": [
       "GridSearchCV(cv=5, error_score='raise',\n",
       "       estimator=SVC(C=1.0, cache_size=100000, class_weight=None, coef0=0.0,\n",
       "  decision_function_shape='ovr', degree=3, gamma='auto', kernel='rbf',\n",
       "  max_iter=-1, probability=False, random_state=None, shrinking=True,\n",
       "  tol=0.001, verbose=False),\n",
       "       fit_params=None, iid=True, n_jobs=-1,\n",
       "       param_grid={'C': [1.0, 4.0, 7.0, 10.0], 'gamma': [0.1, 0.4, 0.7, 1.0], 'kernel': ['rbf']},\n",
       "       pre_dispatch='2*n_jobs', refit=True, return_train_score='warn',\n",
       "       scoring=None, verbose=45)"
      ]
     },
     "execution_count": 69,
     "metadata": {
      "tags": []
     },
     "output_type": "execute_result"
    }
   ],
   "source": [
    "params = {'C': np.linspace(1,10,4).tolist(),\n",
    "          'gamma':  np.linspace(0.1,1,4).tolist(),\n",
    "          'kernel':['rbf'] }\n",
    "\n",
    "svm_grid_clf_2 = GridSearchCV(estimator=svm.SVC(cache_size=100000), param_grid= params, n_jobs=-1,verbose=45,cv=5)\n",
    "\n",
    "svm_grid_clf_2.fit(X_train,Y_train)"
   ]
  },
  {
   "cell_type": "code",
   "execution_count": 72,
   "metadata": {
    "colab": {
     "base_uri": "https://localhost:8080/",
     "height": 34
    },
    "colab_type": "code",
    "executionInfo": {
     "elapsed": 792,
     "status": "ok",
     "timestamp": 1542719832308,
     "user": {
      "displayName": "Peeyush Pashine",
      "photoUrl": "https://lh5.googleusercontent.com/-sNgCGZttImM/AAAAAAAAAAI/AAAAAAAAJqs/--tJGyr1HoA/s64/photo.jpg",
      "userId": "04609544948525849579"
     },
     "user_tz": -330
    },
    "id": "qZn0seQf_JJh",
    "outputId": "9a55860d-f02c-4900-fffb-c17168c8b644"
   },
   "outputs": [
    {
     "data": {
      "text/plain": [
       "{'C': 1.0, 'gamma': 0.1, 'kernel': 'rbf'}"
      ]
     },
     "execution_count": 72,
     "metadata": {
      "tags": []
     },
     "output_type": "execute_result"
    }
   ],
   "source": [
    "svm_grid_clf_2.best_params_"
   ]
  },
  {
   "cell_type": "code",
   "execution_count": 73,
   "metadata": {
    "colab": {
     "base_uri": "https://localhost:8080/",
     "height": 34
    },
    "colab_type": "code",
    "executionInfo": {
     "elapsed": 538,
     "status": "ok",
     "timestamp": 1542719833986,
     "user": {
      "displayName": "Peeyush Pashine",
      "photoUrl": "https://lh5.googleusercontent.com/-sNgCGZttImM/AAAAAAAAAAI/AAAAAAAAJqs/--tJGyr1HoA/s64/photo.jpg",
      "userId": "04609544948525849579"
     },
     "user_tz": -330
    },
    "id": "Y7pmu1bD_UZI",
    "outputId": "be8331a9-b2d3-4954-f52a-c532c6073b6f"
   },
   "outputs": [
    {
     "data": {
      "text/plain": [
       "0.8393233659191106"
      ]
     },
     "execution_count": 73,
     "metadata": {
      "tags": []
     },
     "output_type": "execute_result"
    }
   ],
   "source": [
    "svm_grid_clf_2.best_score_"
   ]
  },
  {
   "cell_type": "markdown",
   "metadata": {},
   "source": [
    "<div class=\"alert alert-block alert-warning\">\n",
    "* After Gridsearch with coarse grid the best values for hyperparameters are same as Gridsearch without coarse grid. This tells us for all chosen values of hyperparameters, the resulted value of C and gamma are correct."
   ]
  },
  {
   "cell_type": "markdown",
   "metadata": {},
   "source": [
    "<div class=\"alert alert-block alert-success\">\n",
    "### Tuning the Randomforest model using Gridsearch"
   ]
  },
  {
   "cell_type": "code",
   "execution_count": 56,
   "metadata": {},
   "outputs": [
    {
     "data": {
      "text/plain": [
       "GridSearchCV(cv=5, error_score='raise',\n",
       "       estimator=RandomForestClassifier(bootstrap=True, class_weight=None, criterion='gini',\n",
       "            max_depth=None, max_features='auto', max_leaf_nodes=None,\n",
       "            min_impurity_decrease=0.0, min_impurity_split=None,\n",
       "            min_samples_leaf=1, min_samples_split=2,\n",
       "            min_weight_fraction_leaf=0.0, n_estimators=10, n_jobs=1,\n",
       "            oob_score=False, random_state=None, verbose=0,\n",
       "            warm_start=False),\n",
       "       fit_params=None, iid=True, n_jobs=-1,\n",
       "       param_grid={'n_estimators': [50, 61, 72, 83, 94, 105, 116, 127, 138, 149]},\n",
       "       pre_dispatch='2*n_jobs', refit=True, return_train_score='warn',\n",
       "       scoring=None, verbose=0)"
      ]
     },
     "execution_count": 56,
     "metadata": {},
     "output_type": "execute_result"
    }
   ],
   "source": [
    "params = {'n_estimators': np.arange(50,160,11).tolist(),\n",
    "           }\n",
    "rf_clf = RandomForestClassifier()\n",
    "rf_grid_clf = GridSearchCV(estimator=rf_clf, param_grid= params, n_jobs=-1,cv=5)\n",
    "rf_grid_clf.fit(X_train,Y_train)"
   ]
  },
  {
   "cell_type": "code",
   "execution_count": 59,
   "metadata": {},
   "outputs": [
    {
     "data": {
      "text/plain": [
       "{'n_estimators': 138}"
      ]
     },
     "execution_count": 59,
     "metadata": {},
     "output_type": "execute_result"
    }
   ],
   "source": [
    "rf_grid_clf.best_params_"
   ]
  },
  {
   "cell_type": "code",
   "execution_count": 60,
   "metadata": {},
   "outputs": [
    {
     "data": {
      "text/plain": [
       "0.8585873107149703"
      ]
     },
     "execution_count": 60,
     "metadata": {},
     "output_type": "execute_result"
    }
   ],
   "source": [
    "rf_grid_clf.best_score_"
   ]
  },
  {
   "cell_type": "markdown",
   "metadata": {},
   "source": [
    "<div class=\"alert alert-block alert-info\">\n",
    "* As we can observer best n_estimator comes out to be 138 and accuracy shoots up to 85.85%"
   ]
  },
  {
   "cell_type": "markdown",
   "metadata": {},
   "source": [
    "<div class=\"alert alert-block alert-success\">\n",
    "### Model building using K fold cross validation on the base models that we built before"
   ]
  },
  {
   "cell_type": "code",
   "execution_count": 45,
   "metadata": {},
   "outputs": [
    {
     "name": "stdout",
     "output_type": "stream",
     "text": [
      "Random Forest\n",
      "[0.84762817 0.83133685 0.84810733 0.8461907  0.84044082 0.84906564\n",
      " 0.84475323 0.84810733 0.85282838 0.85474593]\n",
      "Accuracy 85.76904647819838\n",
      "Logistic Regression\n",
      "[0.81887877 0.82223287 0.82989938 0.83133685 0.8207954  0.81839962\n",
      " 0.82127456 0.82558697 0.8379674  0.81831256]\n",
      "Accuracy 83.79674017257909\n",
      "SVM\n",
      "[0.83948251 0.83229516 0.84714902 0.84666986 0.84044082 0.84044082\n",
      " 0.84427408 0.8351701  0.85186961 0.84467881]\n",
      "Accuracy 85.1869606903164\n"
     ]
    }
   ],
   "source": [
    "from sklearn.model_selection import cross_val_score\n",
    "\n",
    "print(\"Random Forest\")\n",
    "rf_cv_clf = RandomForestClassifier()\n",
    "print(cross_val_score(rf_cv_clf,X_train, Y_train, scoring='accuracy', cv = 10))\n",
    "print(\"Accuracy\", cross_val_score(rf_cv_clf,X_train, Y_train, scoring='accuracy', cv = 10).max()*100)\n",
    "\n",
    "print(\"Logistic Regression\")\n",
    "lg_cv_clf = LogisticRegression()\n",
    "print(cross_val_score(lg_cv_clf,X_train, Y_train, scoring='accuracy', cv = 10))\n",
    "print(\"Accuracy\", cross_val_score(lg_cv_clf,X_train, Y_train, scoring='accuracy', cv = 10).max()*100)\n",
    "\n",
    "print(\"SVM\")\n",
    "sv_cv_clf = svm.SVC()\n",
    "print(cross_val_score(sv_cv_clf,X_train, Y_train, scoring='accuracy', cv = 10))\n",
    "print(\"Accuracy\", cross_val_score(sv_cv_clf,X_train, Y_train, scoring='accuracy', cv = 10).max()*100)"
   ]
  },
  {
   "cell_type": "markdown",
   "metadata": {},
   "source": [
    "<div class=\"alert alert-block alert-success\">\n",
    "### Conclusion\n",
    "* As we can observe the best model is Random forest model with 138 trees and gives accuracy of 85.85%, tuned using Grid search and cross validation value of 5.\n",
    "* The second best model is Random Forest with K-Fold = 10, giving accuracy of 85.76%\n",
    "* The third best model is SVM with K-Fold =10, giving accuracy of 85.18%\n",
    "* The fourth best model is SVM tuned with grid search giving accuracy of 83.39%"
   ]
  },
  {
   "cell_type": "code",
   "execution_count": null,
   "metadata": {},
   "outputs": [],
   "source": [
    "os.getcwd()"
   ]
  },
  {
   "cell_type": "code",
   "execution_count": null,
   "metadata": {},
   "outputs": [],
   "source": []
  }
 ],
 "metadata": {
  "colab": {
   "collapsed_sections": [],
   "name": "Untitled.ipynb",
   "provenance": [],
   "version": "0.3.2"
  },
  "kernelspec": {
   "display_name": "Python 3",
   "language": "python",
   "name": "python3"
  },
  "language_info": {
   "codemirror_mode": {
    "name": "ipython",
    "version": 3
   },
   "file_extension": ".py",
   "mimetype": "text/x-python",
   "name": "python",
   "nbconvert_exporter": "python",
   "pygments_lexer": "ipython3",
   "version": "3.6.4"
  }
 },
 "nbformat": 4,
 "nbformat_minor": 1
}
