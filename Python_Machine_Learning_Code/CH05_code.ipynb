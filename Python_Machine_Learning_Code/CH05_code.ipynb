{
 "cells": [
  {
   "cell_type": "markdown",
   "metadata": {},
   "source": [
    "# Compressing data via dimensionality reduction"
   ]
  },
  {
   "cell_type": "code",
   "execution_count": 2,
   "metadata": {},
   "outputs": [
    {
     "data": {
      "text/html": [
       "<div>\n",
       "<style>\n",
       "    .dataframe thead tr:only-child th {\n",
       "        text-align: right;\n",
       "    }\n",
       "\n",
       "    .dataframe thead th {\n",
       "        text-align: left;\n",
       "    }\n",
       "\n",
       "    .dataframe tbody tr th {\n",
       "        vertical-align: top;\n",
       "    }\n",
       "</style>\n",
       "<table border=\"1\" class=\"dataframe\">\n",
       "  <thead>\n",
       "    <tr style=\"text-align: right;\">\n",
       "      <th></th>\n",
       "      <th>Class label</th>\n",
       "      <th>Alcohol</th>\n",
       "      <th>Malic acid</th>\n",
       "      <th>Ash</th>\n",
       "      <th>Alcalinity of ash</th>\n",
       "      <th>Magnesium</th>\n",
       "      <th>Total phenols</th>\n",
       "      <th>Flavanoids</th>\n",
       "      <th>Nonflavanoid phenols</th>\n",
       "      <th>Proanthocyanins</th>\n",
       "      <th>Color intensity</th>\n",
       "      <th>Hue</th>\n",
       "      <th>OD280/OD315 of diluted wines</th>\n",
       "      <th>Proline</th>\n",
       "    </tr>\n",
       "  </thead>\n",
       "  <tbody>\n",
       "    <tr>\n",
       "      <th>0</th>\n",
       "      <td>1</td>\n",
       "      <td>14.23</td>\n",
       "      <td>1.71</td>\n",
       "      <td>2.43</td>\n",
       "      <td>15.6</td>\n",
       "      <td>127</td>\n",
       "      <td>2.80</td>\n",
       "      <td>3.06</td>\n",
       "      <td>0.28</td>\n",
       "      <td>2.29</td>\n",
       "      <td>5.64</td>\n",
       "      <td>1.04</td>\n",
       "      <td>3.92</td>\n",
       "      <td>1065</td>\n",
       "    </tr>\n",
       "    <tr>\n",
       "      <th>1</th>\n",
       "      <td>1</td>\n",
       "      <td>13.20</td>\n",
       "      <td>1.78</td>\n",
       "      <td>2.14</td>\n",
       "      <td>11.2</td>\n",
       "      <td>100</td>\n",
       "      <td>2.65</td>\n",
       "      <td>2.76</td>\n",
       "      <td>0.26</td>\n",
       "      <td>1.28</td>\n",
       "      <td>4.38</td>\n",
       "      <td>1.05</td>\n",
       "      <td>3.40</td>\n",
       "      <td>1050</td>\n",
       "    </tr>\n",
       "    <tr>\n",
       "      <th>2</th>\n",
       "      <td>1</td>\n",
       "      <td>13.16</td>\n",
       "      <td>2.36</td>\n",
       "      <td>2.67</td>\n",
       "      <td>18.6</td>\n",
       "      <td>101</td>\n",
       "      <td>2.80</td>\n",
       "      <td>3.24</td>\n",
       "      <td>0.30</td>\n",
       "      <td>2.81</td>\n",
       "      <td>5.68</td>\n",
       "      <td>1.03</td>\n",
       "      <td>3.17</td>\n",
       "      <td>1185</td>\n",
       "    </tr>\n",
       "    <tr>\n",
       "      <th>3</th>\n",
       "      <td>1</td>\n",
       "      <td>14.37</td>\n",
       "      <td>1.95</td>\n",
       "      <td>2.50</td>\n",
       "      <td>16.8</td>\n",
       "      <td>113</td>\n",
       "      <td>3.85</td>\n",
       "      <td>3.49</td>\n",
       "      <td>0.24</td>\n",
       "      <td>2.18</td>\n",
       "      <td>7.80</td>\n",
       "      <td>0.86</td>\n",
       "      <td>3.45</td>\n",
       "      <td>1480</td>\n",
       "    </tr>\n",
       "    <tr>\n",
       "      <th>4</th>\n",
       "      <td>1</td>\n",
       "      <td>13.24</td>\n",
       "      <td>2.59</td>\n",
       "      <td>2.87</td>\n",
       "      <td>21.0</td>\n",
       "      <td>118</td>\n",
       "      <td>2.80</td>\n",
       "      <td>2.69</td>\n",
       "      <td>0.39</td>\n",
       "      <td>1.82</td>\n",
       "      <td>4.32</td>\n",
       "      <td>1.04</td>\n",
       "      <td>2.93</td>\n",
       "      <td>735</td>\n",
       "    </tr>\n",
       "  </tbody>\n",
       "</table>\n",
       "</div>"
      ],
      "text/plain": [
       "   Class label  Alcohol  Malic acid   Ash  Alcalinity of ash  Magnesium  \\\n",
       "0            1    14.23        1.71  2.43               15.6        127   \n",
       "1            1    13.20        1.78  2.14               11.2        100   \n",
       "2            1    13.16        2.36  2.67               18.6        101   \n",
       "3            1    14.37        1.95  2.50               16.8        113   \n",
       "4            1    13.24        2.59  2.87               21.0        118   \n",
       "\n",
       "   Total phenols  Flavanoids  Nonflavanoid phenols  Proanthocyanins  \\\n",
       "0           2.80        3.06                  0.28             2.29   \n",
       "1           2.65        2.76                  0.26             1.28   \n",
       "2           2.80        3.24                  0.30             2.81   \n",
       "3           3.85        3.49                  0.24             2.18   \n",
       "4           2.80        2.69                  0.39             1.82   \n",
       "\n",
       "   Color intensity   Hue  OD280/OD315 of diluted wines  Proline  \n",
       "0             5.64  1.04                          3.92     1065  \n",
       "1             4.38  1.05                          3.40     1050  \n",
       "2             5.68  1.03                          3.17     1185  \n",
       "3             7.80  0.86                          3.45     1480  \n",
       "4             4.32  1.04                          2.93      735  "
      ]
     },
     "execution_count": 2,
     "metadata": {},
     "output_type": "execute_result"
    }
   ],
   "source": [
    "import pandas as pd\n",
    "\n",
    "df_wine = pd.read_csv('https://archive.ics.uci.edu/ml/'\n",
    "                      'machine-learning-databases/wine/wine.data',\n",
    "                      header=None)\n",
    "\n",
    "\n",
    "df_wine.columns = ['Class label', 'Alcohol', 'Malic acid', 'Ash',\n",
    "                   'Alcalinity of ash', 'Magnesium', 'Total phenols',\n",
    "                   'Flavanoids', 'Nonflavanoid phenols', 'Proanthocyanins',\n",
    "                   'Color intensity', 'Hue',\n",
    "                   'OD280/OD315 of diluted wines', 'Proline']\n",
    "\n",
    "df_wine.head()"
   ]
  },
  {
   "cell_type": "code",
   "execution_count": 3,
   "metadata": {
    "collapsed": true
   },
   "outputs": [],
   "source": [
    "from sklearn.model_selection import train_test_split\n",
    "\n",
    "X, y = df_wine.iloc[:, 1:].values, df_wine.iloc[:, 0].values\n",
    "\n",
    "X_train, X_test, y_train, y_test = \\\n",
    "    train_test_split(X, y, test_size=0.3, \n",
    "                     stratify=y,\n",
    "                     random_state=0)"
   ]
  },
  {
   "cell_type": "code",
   "execution_count": 4,
   "metadata": {
    "collapsed": true
   },
   "outputs": [],
   "source": [
    "from sklearn.preprocessing import StandardScaler\n",
    "\n",
    "sc = StandardScaler()\n",
    "X_train_std = sc.fit_transform(X_train)\n",
    "X_test_std = sc.transform(X_test)"
   ]
  },
  {
   "cell_type": "markdown",
   "metadata": {
    "collapsed": true
   },
   "source": [
    "## Eiegen decompostion of the cov matrix"
   ]
  },
  {
   "cell_type": "code",
   "execution_count": 5,
   "metadata": {
    "collapsed": true
   },
   "outputs": [],
   "source": [
    "import numpy as np"
   ]
  },
  {
   "cell_type": "code",
   "execution_count": 6,
   "metadata": {
    "collapsed": true
   },
   "outputs": [],
   "source": [
    "cov_mat = np.cov(X_train_std.T)"
   ]
  },
  {
   "cell_type": "code",
   "execution_count": 7,
   "metadata": {},
   "outputs": [
    {
     "data": {
      "text/plain": [
       "array([[ 1.00813008,  0.06709556,  0.17405351, -0.35439069,  0.26374703,\n",
       "         0.29079481,  0.21835807, -0.08111974,  0.10436705,  0.54282846,\n",
       "         0.05893536, -0.01797029,  0.6415292 ],\n",
       "       [ 0.06709556,  1.00813008,  0.08326463,  0.26356776, -0.11349172,\n",
       "        -0.33735555, -0.41035281,  0.33653916, -0.21602672,  0.17504154,\n",
       "        -0.551593  , -0.40561695, -0.24089991],\n",
       "       [ 0.17405351,  0.08326463,  1.00813008,  0.46420355,  0.29092834,\n",
       "         0.18020384,  0.15537535,  0.15918823, -0.00703776,  0.20549146,\n",
       "         0.00665422,  0.02039019,  0.223495  ],\n",
       "       [-0.35439069,  0.26356776,  0.46420355,  1.00813008, -0.07406447,\n",
       "        -0.28060672, -0.31391899,  0.31581353, -0.24621059, -0.08872685,\n",
       "        -0.22595587, -0.16799906, -0.46393412],\n",
       "       [ 0.26374703, -0.11349172,  0.29092834, -0.07406447,  1.00813008,\n",
       "         0.25667578,  0.21025773, -0.26003426,  0.19601657,  0.20606456,\n",
       "         0.13359768,  0.06633258,  0.41810999],\n",
       "       [ 0.29079481, -0.33735555,  0.18020384, -0.28060672,  0.25667578,\n",
       "         1.00813008,  0.87123661, -0.44979792,  0.62334099, -0.05689854,\n",
       "         0.50664086,  0.71978745,  0.52986924],\n",
       "       [ 0.21835807, -0.41035281,  0.15537535, -0.31391899,  0.21025773,\n",
       "         0.87123661,  1.00813008, -0.54824079,  0.64800868, -0.15864896,\n",
       "         0.60417124,  0.79319622,  0.52836141],\n",
       "       [-0.08111974,  0.33653916,  0.15918823,  0.31581353, -0.26003426,\n",
       "        -0.44979792, -0.54824079,  1.00813008, -0.39989328,  0.19810581,\n",
       "        -0.36629252, -0.57622953, -0.34099709],\n",
       "       [ 0.10436705, -0.21602672, -0.00703776, -0.24621059,  0.19601657,\n",
       "         0.62334099,  0.64800868, -0.39989328,  1.00813008, -0.00330144,\n",
       "         0.32019524,  0.50615495,  0.32976133],\n",
       "       [ 0.54282846,  0.17504154,  0.20549146, -0.08872685,  0.20606456,\n",
       "        -0.05689854, -0.15864896,  0.19810581, -0.00330144,  1.00813008,\n",
       "        -0.45834115, -0.4666752 ,  0.32156154],\n",
       "       [ 0.05893536, -0.551593  ,  0.00665422, -0.22595587,  0.13359768,\n",
       "         0.50664086,  0.60417124, -0.36629252,  0.32019524, -0.45834115,\n",
       "         1.00813008,  0.6435365 ,  0.35356248],\n",
       "       [-0.01797029, -0.40561695,  0.02039019, -0.16799906,  0.06633258,\n",
       "         0.71978745,  0.79319622, -0.57622953,  0.50615495, -0.4666752 ,\n",
       "         0.6435365 ,  1.00813008,  0.26670793],\n",
       "       [ 0.6415292 , -0.24089991,  0.223495  , -0.46393412,  0.41810999,\n",
       "         0.52986924,  0.52836141, -0.34099709,  0.32976133,  0.32156154,\n",
       "         0.35356248,  0.26670793,  1.00813008]])"
      ]
     },
     "execution_count": 7,
     "metadata": {},
     "output_type": "execute_result"
    }
   ],
   "source": [
    "cov_mat"
   ]
  },
  {
   "cell_type": "code",
   "execution_count": 8,
   "metadata": {},
   "outputs": [
    {
     "data": {
      "text/plain": [
       "(13, 13)"
      ]
     },
     "execution_count": 8,
     "metadata": {},
     "output_type": "execute_result"
    }
   ],
   "source": [
    "cov_mat.shape"
   ]
  },
  {
   "cell_type": "code",
   "execution_count": 9,
   "metadata": {
    "collapsed": true
   },
   "outputs": [],
   "source": [
    "eigen_vals, eigen_vecs = np.linalg.eig(cov_mat)"
   ]
  },
  {
   "cell_type": "code",
   "execution_count": 10,
   "metadata": {},
   "outputs": [
    {
     "name": "stdout",
     "output_type": "stream",
     "text": [
      "\n",
      "Eigenvalues \n",
      "[ 4.84274532  2.41602459  1.54845825  0.96120438  0.84166161  0.6620634\n",
      "  0.51828472  0.34650377  0.3131368   0.10754642  0.21357215  0.15362835\n",
      "  0.1808613 ]\n"
     ]
    }
   ],
   "source": [
    "print('\\nEigenvalues \\n%s' % eigen_vals)"
   ]
  },
  {
   "cell_type": "code",
   "execution_count": 11,
   "metadata": {
    "collapsed": true
   },
   "outputs": [],
   "source": [
    "#Total and explained variance"
   ]
  },
  {
   "cell_type": "code",
   "execution_count": 16,
   "metadata": {},
   "outputs": [
    {
     "data": {
      "text/plain": [
       "[0.36951468599607612,\n",
       " 0.18434927059884171,\n",
       " 0.11815159094596964,\n",
       " 0.073342517637854682,\n",
       " 0.064221078217316888,\n",
       " 0.050517244849076721,\n",
       " 0.039546538912414483,\n",
       " 0.026439183169220039,\n",
       " 0.023893192591852914,\n",
       " 0.016296137737251033,\n",
       " 0.013800211221948407,\n",
       " 0.011722262443086004,\n",
       " 0.0082060856790913839]"
      ]
     },
     "execution_count": 16,
     "metadata": {},
     "output_type": "execute_result"
    }
   ],
   "source": [
    "tot = sum(eigen_vals)\n",
    "var_exp = [i/tot for i in sorted(eigen_vals, reverse=True)]\n",
    "var_exp"
   ]
  },
  {
   "cell_type": "code",
   "execution_count": 17,
   "metadata": {
    "collapsed": true
   },
   "outputs": [],
   "source": [
    "cum_var_exp = np.cumsum(var_exp)"
   ]
  },
  {
   "cell_type": "code",
   "execution_count": 18,
   "metadata": {
    "collapsed": true
   },
   "outputs": [],
   "source": [
    "import matplotlib.pyplot as plt"
   ]
  },
  {
   "cell_type": "code",
   "execution_count": 20,
   "metadata": {},
   "outputs": [
    {
     "data": {
      "image/png": "[encoded data removed]",
      "text/plain": [
       "<matplotlib.figure.Figure at 0xae36390>"
      ]
     },
     "metadata": {},
     "output_type": "display_data"
    }
   ],
   "source": [
    "plt.bar(range(1, 14), var_exp, alpha=0.5, align='center',\n",
    "        label='individual explained variance')\n",
    "plt.step(range(1, 14), cum_var_exp, where='mid',\n",
    "         label='cumulative explained variance')\n",
    "plt.ylabel('Explained variance ratio')\n",
    "plt.xlabel('Principal component index')\n",
    "plt.legend(loc='best')\n",
    "plt.tight_layout()\n",
    "plt.show()"
   ]
  },
  {
   "cell_type": "code",
   "execution_count": 21,
   "metadata": {
    "collapsed": true
   },
   "outputs": [],
   "source": [
    "# feature transformation "
   ]
  },
  {
   "cell_type": "code",
   "execution_count": 28,
   "metadata": {},
   "outputs": [
    {
     "data": {
      "text/plain": [
       "[array([ 4.84274532,  4.84274532,  4.84274532,  4.84274532,  4.84274532,\n",
       "         4.84274532,  4.84274532,  4.84274532,  4.84274532,  4.84274532,\n",
       "         4.84274532,  4.84274532,  4.84274532]),\n",
       " array([ 2.41602459,  2.41602459,  2.41602459,  2.41602459,  2.41602459,\n",
       "         2.41602459,  2.41602459,  2.41602459,  2.41602459,  2.41602459,\n",
       "         2.41602459,  2.41602459,  2.41602459]),\n",
       " array([ 1.54845825,  1.54845825,  1.54845825,  1.54845825,  1.54845825,\n",
       "         1.54845825,  1.54845825,  1.54845825,  1.54845825,  1.54845825,\n",
       "         1.54845825,  1.54845825,  1.54845825]),\n",
       " array([ 0.96120438,  0.96120438,  0.96120438,  0.96120438,  0.96120438,\n",
       "         0.96120438,  0.96120438,  0.96120438,  0.96120438,  0.96120438,\n",
       "         0.96120438,  0.96120438,  0.96120438]),\n",
       " array([ 0.84166161,  0.84166161,  0.84166161,  0.84166161,  0.84166161,\n",
       "         0.84166161,  0.84166161,  0.84166161,  0.84166161,  0.84166161,\n",
       "         0.84166161,  0.84166161,  0.84166161]),\n",
       " array([ 0.6620634,  0.6620634,  0.6620634,  0.6620634,  0.6620634,\n",
       "         0.6620634,  0.6620634,  0.6620634,  0.6620634,  0.6620634,\n",
       "         0.6620634,  0.6620634,  0.6620634]),\n",
       " array([ 0.51828472,  0.51828472,  0.51828472,  0.51828472,  0.51828472,\n",
       "         0.51828472,  0.51828472,  0.51828472,  0.51828472,  0.51828472,\n",
       "         0.51828472,  0.51828472,  0.51828472]),\n",
       " array([ 0.34650377,  0.34650377,  0.34650377,  0.34650377,  0.34650377,\n",
       "         0.34650377,  0.34650377,  0.34650377,  0.34650377,  0.34650377,\n",
       "         0.34650377,  0.34650377,  0.34650377]),\n",
       " array([ 0.3131368,  0.3131368,  0.3131368,  0.3131368,  0.3131368,\n",
       "         0.3131368,  0.3131368,  0.3131368,  0.3131368,  0.3131368,\n",
       "         0.3131368,  0.3131368,  0.3131368]),\n",
       " array([ 0.10754642,  0.10754642,  0.10754642,  0.10754642,  0.10754642,\n",
       "         0.10754642,  0.10754642,  0.10754642,  0.10754642,  0.10754642,\n",
       "         0.10754642,  0.10754642,  0.10754642]),\n",
       " array([ 0.21357215,  0.21357215,  0.21357215,  0.21357215,  0.21357215,\n",
       "         0.21357215,  0.21357215,  0.21357215,  0.21357215,  0.21357215,\n",
       "         0.21357215,  0.21357215,  0.21357215]),\n",
       " array([ 0.15362835,  0.15362835,  0.15362835,  0.15362835,  0.15362835,\n",
       "         0.15362835,  0.15362835,  0.15362835,  0.15362835,  0.15362835,\n",
       "         0.15362835,  0.15362835,  0.15362835]),\n",
       " array([ 0.1808613,  0.1808613,  0.1808613,  0.1808613,  0.1808613,\n",
       "         0.1808613,  0.1808613,  0.1808613,  0.1808613,  0.1808613,\n",
       "         0.1808613,  0.1808613,  0.1808613])]"
      ]
     },
     "execution_count": 28,
     "metadata": {},
     "output_type": "execute_result"
    }
   ],
   "source": [
    "eigen_pairs = [(np.abs(eigen_vals[i], eigen_vecs[:,i])) for i in range(len(eigen_vals))]\n",
    "eigen_pairs"
   ]
  },
  {
   "cell_type": "code",
   "execution_count": 29,
   "metadata": {},
   "outputs": [],
   "source": [
    "eigen_pairs.sort(key=lambda k:k[0], reverse =True)"
   ]
  },
  {
   "cell_type": "code",
   "execution_count": 33,
   "metadata": {},
   "outputs": [
    {
     "ename": "IndexError",
     "evalue": "invalid index to scalar variable.",
     "output_type": "error",
     "traceback": [
      "\u001b[1;31m---------------------------------------------------------------------------\u001b[0m",
      "\u001b[1;31mIndexError\u001b[0m                                Traceback (most recent call last)",
      "\u001b[1;32m<ipython-input-33-fba4995562d4>\u001b[0m in \u001b[0;36m<module>\u001b[1;34m()\u001b[0m\n\u001b[1;32m----> 1\u001b[1;33m w = np.hstack((eigen_pairs[0][1][:, np.newaxis],\n\u001b[0m\u001b[0;32m      2\u001b[0m                eigen_pairs[1][1][:, np.newaxis]))\n\u001b[0;32m      3\u001b[0m \u001b[0mprint\u001b[0m\u001b[1;33m(\u001b[0m\u001b[1;34m'Matrix W:\\n'\u001b[0m\u001b[1;33m,\u001b[0m \u001b[0mw\u001b[0m\u001b[1;33m)\u001b[0m\u001b[1;33m\u001b[0m\u001b[0m\n",
      "\u001b[1;31mIndexError\u001b[0m: invalid index to scalar variable."
     ]
    }
   ],
   "source": [
    "w = np.hstack((eigen_pairs[0][1][:, np.newaxis],\n",
    "               eigen_pairs[1][1][:, np.newaxis]))\n",
    "print('Matrix W:\\n', w)"
   ]
  },
  {
   "cell_type": "code",
   "execution_count": null,
   "metadata": {
    "collapsed": true
   },
   "outputs": [],
   "source": []
  }
 ],
 "metadata": {
  "kernelspec": {
   "display_name": "Python 3",
   "language": "python",
   "name": "python3"
  },
  "language_info": {
   "codemirror_mode": {
    "name": "ipython",
    "version": 3
   },
   "file_extension": ".py",
   "mimetype": "text/x-python",
   "name": "python",
   "nbconvert_exporter": "python",
   "pygments_lexer": "ipython3",
   "version": "3.6.1"
  }
 },
 "nbformat": 4,
 "nbformat_minor": 2
}
